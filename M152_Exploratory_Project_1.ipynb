{
  "nbformat": 4,
  "nbformat_minor": 0,
  "metadata": {
    "colab": {
      "provenance": [],
      "toc_visible": true,
      "authorship_tag": "ABX9TyMlWG0W5oB7He3R0cCiZDVF",
      "include_colab_link": true
    },
    "kernelspec": {
      "name": "python3",
      "display_name": "Python 3"
    },
    "language_info": {
      "name": "python"
    }
  },
  "cells": [
    {
      "cell_type": "markdown",
      "metadata": {
        "id": "view-in-github",
        "colab_type": "text"
      },
      "source": [
        "<a href=\"https://colab.research.google.com/github/joazunig/Math-152/blob/main/M152_Exploratory_Project_1.ipynb\" target=\"_parent\"><img src=\"https://colab.research.google.com/assets/colab-badge.svg\" alt=\"Open In Colab\"/></a>"
      ]
    },
    {
      "cell_type": "markdown",
      "source": [
        "# The Collatz Conjecture\n",
        "### By Jonathan Zuniga"
      ],
      "metadata": {
        "id": "GEsqbTYzbOm5"
      }
    },
    {
      "cell_type": "markdown",
      "source": [
        "In this report, I explored the Collatz conjecture with many positive integers $n$ to determine how quickly, how many steps it takes, the sequence of an integer until it hits the number $1$, and I used this to determine if the sequence of certain numbers relate to each other through patterns in the steps. \n"
      ],
      "metadata": {
        "id": "Lez6loZ-bnZl"
      }
    },
    {
      "cell_type": "markdown",
      "source": [
        "# Problem 1: Collatz Sequence Function"
      ],
      "metadata": {
        "id": "pTtOimCch2iS"
      }
    },
    {
      "cell_type": "markdown",
      "source": [
        "A function of the Collatz conjecture\n",
        "would begin with an integer $n$, check if it is even or odd to divide it by $2$ or add one, and then repeat until it hits the number $1$, which I did here. "
      ],
      "metadata": {
        "id": "Vqth-jXaiRfI"
      }
    },
    {
      "cell_type": "markdown",
      "source": [
        "- NOTE: m is the sequence. I wasn't sure how to print/return without the brackets, so I kept it like this."
      ],
      "metadata": {
        "id": "3zqpO4aaUo0X"
      }
    },
    {
      "cell_type": "code",
      "source": [
        "def Collatz_Sequence(n):\n",
        "  x = n\n",
        "  m = [x] \n",
        "  while x > 1:\n",
        "    if x % 2 == 0:\n",
        "      x = int(x / 2)\n",
        "      m.append(x)\n",
        "    else:\n",
        "      x = int(3 * x + 1)\n",
        "      m.append(x)\n",
        "  return m"
      ],
      "metadata": {
        "id": "XcGmJ-xciu5x"
      },
      "execution_count": 61,
      "outputs": []
    },
    {
      "cell_type": "markdown",
      "source": [
        "To check if this works, I checked to see if this function will mirror the example that was given: $n=3$ resulted in $3, 10, 5, 16, 8, 4, 2, 1$."
      ],
      "metadata": {
        "id": "eL0KrPHUjN09"
      }
    },
    {
      "cell_type": "code",
      "source": [
        "print(Collatz_Sequence(3))"
      ],
      "metadata": {
        "colab": {
          "base_uri": "https://localhost:8080/"
        },
        "id": "pPNOeSPGjfAo",
        "outputId": "c6541466-3f7b-4cf4-e525-e4d8d77a7302"
      },
      "execution_count": 62,
      "outputs": [
        {
          "output_type": "stream",
          "name": "stdout",
          "text": [
            "[3, 10, 5, 16, 8, 4, 2, 1]\n"
          ]
        }
      ]
    },
    {
      "cell_type": "code",
      "source": [
        "print(Collatz_Sequence(6))"
      ],
      "metadata": {
        "colab": {
          "base_uri": "https://localhost:8080/"
        },
        "id": "cgk4cb9ejMOH",
        "outputId": "e6041281-0250-42a9-80d7-670d0816adc6"
      },
      "execution_count": 63,
      "outputs": [
        {
          "output_type": "stream",
          "name": "stdout",
          "text": [
            "[6, 3, 10, 5, 16, 8, 4, 2, 1]\n"
          ]
        }
      ]
    },
    {
      "cell_type": "code",
      "source": [
        "print(Collatz_Sequence(9))"
      ],
      "metadata": {
        "colab": {
          "base_uri": "https://localhost:8080/"
        },
        "id": "zRO79n9Oj17a",
        "outputId": "239ae06a-6862-4d52-e9f9-d2b917aac50e"
      },
      "execution_count": 64,
      "outputs": [
        {
          "output_type": "stream",
          "name": "stdout",
          "text": [
            "[9, 28, 14, 7, 22, 11, 34, 17, 52, 26, 13, 40, 20, 10, 5, 16, 8, 4, 2, 1]\n"
          ]
        }
      ]
    },
    {
      "cell_type": "markdown",
      "source": [
        "As we see in these three examples, this function does indeed take an integer $n$ as an input, and it prints the \"Collatz\" sequence until it hits the number $1$. "
      ],
      "metadata": {
        "id": "B8b9gI_tkGYG"
      }
    },
    {
      "cell_type": "markdown",
      "source": [
        "# Problem 2: Steps Until Smaller Integer Is Found"
      ],
      "metadata": {
        "id": "oY8ZAa2mksD9"
      }
    },
    {
      "cell_type": "markdown",
      "source": [
        "Here, I modified the function above to count the number of steps in the Collatz sequence until a *smaller* integer is found. "
      ],
      "metadata": {
        "id": "7F3zFX_ik-JV"
      }
    },
    {
      "cell_type": "code",
      "source": [
        "def Collatz_Sequence_Steps(n):\n",
        "  x = n\n",
        "  m = [x]\n",
        "  steps = 0\n",
        "  while x > (n - 1):\n",
        "    if x % 2 == 0:\n",
        "      x = int(x / 2)\n",
        "      m.append(x)\n",
        "      steps = steps + 1\n",
        "    else:\n",
        "      x = int(3 * x + 1)\n",
        "      m.append(x)\n",
        "      steps = steps + 1\n",
        "  print(m)\n",
        "  return steps"
      ],
      "metadata": {
        "id": "9i1mtenElcRj"
      },
      "execution_count": 65,
      "outputs": []
    },
    {
      "cell_type": "markdown",
      "source": [
        "To check if this function worked, I checked if it mirrored the given example: $n=3$ would end with the sequence $3, 10, 5, 16, 8, 4, 2$ which reaches a number smaller than $3$ in $6$ steps. "
      ],
      "metadata": {
        "id": "AZRFucP1oOkx"
      }
    },
    {
      "cell_type": "code",
      "source": [
        "print(Collatz_Sequence_Steps(3))"
      ],
      "metadata": {
        "colab": {
          "base_uri": "https://localhost:8080/"
        },
        "id": "6SAChuYZo2Aj",
        "outputId": "478a1c88-e478-4092-9312-c410e7747037"
      },
      "execution_count": 44,
      "outputs": [
        {
          "output_type": "stream",
          "name": "stdout",
          "text": [
            "[3, 10, 5, 16, 8, 4, 2]\n",
            "6\n"
          ]
        }
      ]
    },
    {
      "cell_type": "markdown",
      "source": [
        "Another examples is when the starting number is even, it will end after one step, for example: $n=10$ would end with the sequence $10, 5$ which reaches a number smaller than $10$ in $1$ step. "
      ],
      "metadata": {
        "id": "N8zjrDV6pQ7f"
      }
    },
    {
      "cell_type": "code",
      "source": [
        "print(Collatz_Sequence_Steps(10))"
      ],
      "metadata": {
        "colab": {
          "base_uri": "https://localhost:8080/"
        },
        "id": "3BxtgXKFpqmA",
        "outputId": "79f84258-c019-41e5-d45d-e157a6b74984"
      },
      "execution_count": 79,
      "outputs": [
        {
          "output_type": "stream",
          "name": "stdout",
          "text": [
            "[10, 5]\n",
            "1\n"
          ]
        }
      ]
    },
    {
      "cell_type": "markdown",
      "source": [
        "As we see with these two examples of the function, the function gives us the number of steps when the sequence reaches a number smaller than $n$. This is called the \"dropping time.\" The \"dropping time\" of $3$ is $6$. "
      ],
      "metadata": {
        "id": "aqodokzFqKiG"
      }
    },
    {
      "cell_type": "markdown",
      "source": [
        "# Problem 3: Collatz Conjecture Up To x"
      ],
      "metadata": {
        "id": "K-POSZxKqoxy"
      }
    },
    {
      "cell_type": "markdown",
      "source": [
        "Here, I used the first function to generate the Collatz sequence for numbers up to 100 in a quick way by using a loop."
      ],
      "metadata": {
        "id": "It1mzLY3qzax"
      }
    },
    {
      "cell_type": "code",
      "source": [
        "for i in range(1, 101):\n",
        "  print(\"Number {}: {}\".format(i, Collatz_Sequence(i)))"
      ],
      "metadata": {
        "colab": {
          "base_uri": "https://localhost:8080/"
        },
        "id": "lNtfUI21rAwp",
        "outputId": "0501d855-f60a-4a07-c486-a3c6e043568a"
      },
      "execution_count": 70,
      "outputs": [
        {
          "output_type": "stream",
          "name": "stdout",
          "text": [
            "Number 1: [1]\n",
            "Number 2: [2, 1]\n",
            "Number 3: [3, 10, 5, 16, 8, 4, 2, 1]\n",
            "Number 4: [4, 2, 1]\n",
            "Number 5: [5, 16, 8, 4, 2, 1]\n",
            "Number 6: [6, 3, 10, 5, 16, 8, 4, 2, 1]\n",
            "Number 7: [7, 22, 11, 34, 17, 52, 26, 13, 40, 20, 10, 5, 16, 8, 4, 2, 1]\n",
            "Number 8: [8, 4, 2, 1]\n",
            "Number 9: [9, 28, 14, 7, 22, 11, 34, 17, 52, 26, 13, 40, 20, 10, 5, 16, 8, 4, 2, 1]\n",
            "Number 10: [10, 5, 16, 8, 4, 2, 1]\n",
            "Number 11: [11, 34, 17, 52, 26, 13, 40, 20, 10, 5, 16, 8, 4, 2, 1]\n",
            "Number 12: [12, 6, 3, 10, 5, 16, 8, 4, 2, 1]\n",
            "Number 13: [13, 40, 20, 10, 5, 16, 8, 4, 2, 1]\n",
            "Number 14: [14, 7, 22, 11, 34, 17, 52, 26, 13, 40, 20, 10, 5, 16, 8, 4, 2, 1]\n",
            "Number 15: [15, 46, 23, 70, 35, 106, 53, 160, 80, 40, 20, 10, 5, 16, 8, 4, 2, 1]\n",
            "Number 16: [16, 8, 4, 2, 1]\n",
            "Number 17: [17, 52, 26, 13, 40, 20, 10, 5, 16, 8, 4, 2, 1]\n",
            "Number 18: [18, 9, 28, 14, 7, 22, 11, 34, 17, 52, 26, 13, 40, 20, 10, 5, 16, 8, 4, 2, 1]\n",
            "Number 19: [19, 58, 29, 88, 44, 22, 11, 34, 17, 52, 26, 13, 40, 20, 10, 5, 16, 8, 4, 2, 1]\n",
            "Number 20: [20, 10, 5, 16, 8, 4, 2, 1]\n",
            "Number 21: [21, 64, 32, 16, 8, 4, 2, 1]\n",
            "Number 22: [22, 11, 34, 17, 52, 26, 13, 40, 20, 10, 5, 16, 8, 4, 2, 1]\n",
            "Number 23: [23, 70, 35, 106, 53, 160, 80, 40, 20, 10, 5, 16, 8, 4, 2, 1]\n",
            "Number 24: [24, 12, 6, 3, 10, 5, 16, 8, 4, 2, 1]\n",
            "Number 25: [25, 76, 38, 19, 58, 29, 88, 44, 22, 11, 34, 17, 52, 26, 13, 40, 20, 10, 5, 16, 8, 4, 2, 1]\n",
            "Number 26: [26, 13, 40, 20, 10, 5, 16, 8, 4, 2, 1]\n",
            "Number 27: [27, 82, 41, 124, 62, 31, 94, 47, 142, 71, 214, 107, 322, 161, 484, 242, 121, 364, 182, 91, 274, 137, 412, 206, 103, 310, 155, 466, 233, 700, 350, 175, 526, 263, 790, 395, 1186, 593, 1780, 890, 445, 1336, 668, 334, 167, 502, 251, 754, 377, 1132, 566, 283, 850, 425, 1276, 638, 319, 958, 479, 1438, 719, 2158, 1079, 3238, 1619, 4858, 2429, 7288, 3644, 1822, 911, 2734, 1367, 4102, 2051, 6154, 3077, 9232, 4616, 2308, 1154, 577, 1732, 866, 433, 1300, 650, 325, 976, 488, 244, 122, 61, 184, 92, 46, 23, 70, 35, 106, 53, 160, 80, 40, 20, 10, 5, 16, 8, 4, 2, 1]\n",
            "Number 28: [28, 14, 7, 22, 11, 34, 17, 52, 26, 13, 40, 20, 10, 5, 16, 8, 4, 2, 1]\n",
            "Number 29: [29, 88, 44, 22, 11, 34, 17, 52, 26, 13, 40, 20, 10, 5, 16, 8, 4, 2, 1]\n",
            "Number 30: [30, 15, 46, 23, 70, 35, 106, 53, 160, 80, 40, 20, 10, 5, 16, 8, 4, 2, 1]\n",
            "Number 31: [31, 94, 47, 142, 71, 214, 107, 322, 161, 484, 242, 121, 364, 182, 91, 274, 137, 412, 206, 103, 310, 155, 466, 233, 700, 350, 175, 526, 263, 790, 395, 1186, 593, 1780, 890, 445, 1336, 668, 334, 167, 502, 251, 754, 377, 1132, 566, 283, 850, 425, 1276, 638, 319, 958, 479, 1438, 719, 2158, 1079, 3238, 1619, 4858, 2429, 7288, 3644, 1822, 911, 2734, 1367, 4102, 2051, 6154, 3077, 9232, 4616, 2308, 1154, 577, 1732, 866, 433, 1300, 650, 325, 976, 488, 244, 122, 61, 184, 92, 46, 23, 70, 35, 106, 53, 160, 80, 40, 20, 10, 5, 16, 8, 4, 2, 1]\n",
            "Number 32: [32, 16, 8, 4, 2, 1]\n",
            "Number 33: [33, 100, 50, 25, 76, 38, 19, 58, 29, 88, 44, 22, 11, 34, 17, 52, 26, 13, 40, 20, 10, 5, 16, 8, 4, 2, 1]\n",
            "Number 34: [34, 17, 52, 26, 13, 40, 20, 10, 5, 16, 8, 4, 2, 1]\n",
            "Number 35: [35, 106, 53, 160, 80, 40, 20, 10, 5, 16, 8, 4, 2, 1]\n",
            "Number 36: [36, 18, 9, 28, 14, 7, 22, 11, 34, 17, 52, 26, 13, 40, 20, 10, 5, 16, 8, 4, 2, 1]\n",
            "Number 37: [37, 112, 56, 28, 14, 7, 22, 11, 34, 17, 52, 26, 13, 40, 20, 10, 5, 16, 8, 4, 2, 1]\n",
            "Number 38: [38, 19, 58, 29, 88, 44, 22, 11, 34, 17, 52, 26, 13, 40, 20, 10, 5, 16, 8, 4, 2, 1]\n",
            "Number 39: [39, 118, 59, 178, 89, 268, 134, 67, 202, 101, 304, 152, 76, 38, 19, 58, 29, 88, 44, 22, 11, 34, 17, 52, 26, 13, 40, 20, 10, 5, 16, 8, 4, 2, 1]\n",
            "Number 40: [40, 20, 10, 5, 16, 8, 4, 2, 1]\n",
            "Number 41: [41, 124, 62, 31, 94, 47, 142, 71, 214, 107, 322, 161, 484, 242, 121, 364, 182, 91, 274, 137, 412, 206, 103, 310, 155, 466, 233, 700, 350, 175, 526, 263, 790, 395, 1186, 593, 1780, 890, 445, 1336, 668, 334, 167, 502, 251, 754, 377, 1132, 566, 283, 850, 425, 1276, 638, 319, 958, 479, 1438, 719, 2158, 1079, 3238, 1619, 4858, 2429, 7288, 3644, 1822, 911, 2734, 1367, 4102, 2051, 6154, 3077, 9232, 4616, 2308, 1154, 577, 1732, 866, 433, 1300, 650, 325, 976, 488, 244, 122, 61, 184, 92, 46, 23, 70, 35, 106, 53, 160, 80, 40, 20, 10, 5, 16, 8, 4, 2, 1]\n",
            "Number 42: [42, 21, 64, 32, 16, 8, 4, 2, 1]\n",
            "Number 43: [43, 130, 65, 196, 98, 49, 148, 74, 37, 112, 56, 28, 14, 7, 22, 11, 34, 17, 52, 26, 13, 40, 20, 10, 5, 16, 8, 4, 2, 1]\n",
            "Number 44: [44, 22, 11, 34, 17, 52, 26, 13, 40, 20, 10, 5, 16, 8, 4, 2, 1]\n",
            "Number 45: [45, 136, 68, 34, 17, 52, 26, 13, 40, 20, 10, 5, 16, 8, 4, 2, 1]\n",
            "Number 46: [46, 23, 70, 35, 106, 53, 160, 80, 40, 20, 10, 5, 16, 8, 4, 2, 1]\n",
            "Number 47: [47, 142, 71, 214, 107, 322, 161, 484, 242, 121, 364, 182, 91, 274, 137, 412, 206, 103, 310, 155, 466, 233, 700, 350, 175, 526, 263, 790, 395, 1186, 593, 1780, 890, 445, 1336, 668, 334, 167, 502, 251, 754, 377, 1132, 566, 283, 850, 425, 1276, 638, 319, 958, 479, 1438, 719, 2158, 1079, 3238, 1619, 4858, 2429, 7288, 3644, 1822, 911, 2734, 1367, 4102, 2051, 6154, 3077, 9232, 4616, 2308, 1154, 577, 1732, 866, 433, 1300, 650, 325, 976, 488, 244, 122, 61, 184, 92, 46, 23, 70, 35, 106, 53, 160, 80, 40, 20, 10, 5, 16, 8, 4, 2, 1]\n",
            "Number 48: [48, 24, 12, 6, 3, 10, 5, 16, 8, 4, 2, 1]\n",
            "Number 49: [49, 148, 74, 37, 112, 56, 28, 14, 7, 22, 11, 34, 17, 52, 26, 13, 40, 20, 10, 5, 16, 8, 4, 2, 1]\n",
            "Number 50: [50, 25, 76, 38, 19, 58, 29, 88, 44, 22, 11, 34, 17, 52, 26, 13, 40, 20, 10, 5, 16, 8, 4, 2, 1]\n",
            "Number 51: [51, 154, 77, 232, 116, 58, 29, 88, 44, 22, 11, 34, 17, 52, 26, 13, 40, 20, 10, 5, 16, 8, 4, 2, 1]\n",
            "Number 52: [52, 26, 13, 40, 20, 10, 5, 16, 8, 4, 2, 1]\n",
            "Number 53: [53, 160, 80, 40, 20, 10, 5, 16, 8, 4, 2, 1]\n",
            "Number 54: [54, 27, 82, 41, 124, 62, 31, 94, 47, 142, 71, 214, 107, 322, 161, 484, 242, 121, 364, 182, 91, 274, 137, 412, 206, 103, 310, 155, 466, 233, 700, 350, 175, 526, 263, 790, 395, 1186, 593, 1780, 890, 445, 1336, 668, 334, 167, 502, 251, 754, 377, 1132, 566, 283, 850, 425, 1276, 638, 319, 958, 479, 1438, 719, 2158, 1079, 3238, 1619, 4858, 2429, 7288, 3644, 1822, 911, 2734, 1367, 4102, 2051, 6154, 3077, 9232, 4616, 2308, 1154, 577, 1732, 866, 433, 1300, 650, 325, 976, 488, 244, 122, 61, 184, 92, 46, 23, 70, 35, 106, 53, 160, 80, 40, 20, 10, 5, 16, 8, 4, 2, 1]\n",
            "Number 55: [55, 166, 83, 250, 125, 376, 188, 94, 47, 142, 71, 214, 107, 322, 161, 484, 242, 121, 364, 182, 91, 274, 137, 412, 206, 103, 310, 155, 466, 233, 700, 350, 175, 526, 263, 790, 395, 1186, 593, 1780, 890, 445, 1336, 668, 334, 167, 502, 251, 754, 377, 1132, 566, 283, 850, 425, 1276, 638, 319, 958, 479, 1438, 719, 2158, 1079, 3238, 1619, 4858, 2429, 7288, 3644, 1822, 911, 2734, 1367, 4102, 2051, 6154, 3077, 9232, 4616, 2308, 1154, 577, 1732, 866, 433, 1300, 650, 325, 976, 488, 244, 122, 61, 184, 92, 46, 23, 70, 35, 106, 53, 160, 80, 40, 20, 10, 5, 16, 8, 4, 2, 1]\n",
            "Number 56: [56, 28, 14, 7, 22, 11, 34, 17, 52, 26, 13, 40, 20, 10, 5, 16, 8, 4, 2, 1]\n",
            "Number 57: [57, 172, 86, 43, 130, 65, 196, 98, 49, 148, 74, 37, 112, 56, 28, 14, 7, 22, 11, 34, 17, 52, 26, 13, 40, 20, 10, 5, 16, 8, 4, 2, 1]\n",
            "Number 58: [58, 29, 88, 44, 22, 11, 34, 17, 52, 26, 13, 40, 20, 10, 5, 16, 8, 4, 2, 1]\n",
            "Number 59: [59, 178, 89, 268, 134, 67, 202, 101, 304, 152, 76, 38, 19, 58, 29, 88, 44, 22, 11, 34, 17, 52, 26, 13, 40, 20, 10, 5, 16, 8, 4, 2, 1]\n",
            "Number 60: [60, 30, 15, 46, 23, 70, 35, 106, 53, 160, 80, 40, 20, 10, 5, 16, 8, 4, 2, 1]\n",
            "Number 61: [61, 184, 92, 46, 23, 70, 35, 106, 53, 160, 80, 40, 20, 10, 5, 16, 8, 4, 2, 1]\n",
            "Number 62: [62, 31, 94, 47, 142, 71, 214, 107, 322, 161, 484, 242, 121, 364, 182, 91, 274, 137, 412, 206, 103, 310, 155, 466, 233, 700, 350, 175, 526, 263, 790, 395, 1186, 593, 1780, 890, 445, 1336, 668, 334, 167, 502, 251, 754, 377, 1132, 566, 283, 850, 425, 1276, 638, 319, 958, 479, 1438, 719, 2158, 1079, 3238, 1619, 4858, 2429, 7288, 3644, 1822, 911, 2734, 1367, 4102, 2051, 6154, 3077, 9232, 4616, 2308, 1154, 577, 1732, 866, 433, 1300, 650, 325, 976, 488, 244, 122, 61, 184, 92, 46, 23, 70, 35, 106, 53, 160, 80, 40, 20, 10, 5, 16, 8, 4, 2, 1]\n",
            "Number 63: [63, 190, 95, 286, 143, 430, 215, 646, 323, 970, 485, 1456, 728, 364, 182, 91, 274, 137, 412, 206, 103, 310, 155, 466, 233, 700, 350, 175, 526, 263, 790, 395, 1186, 593, 1780, 890, 445, 1336, 668, 334, 167, 502, 251, 754, 377, 1132, 566, 283, 850, 425, 1276, 638, 319, 958, 479, 1438, 719, 2158, 1079, 3238, 1619, 4858, 2429, 7288, 3644, 1822, 911, 2734, 1367, 4102, 2051, 6154, 3077, 9232, 4616, 2308, 1154, 577, 1732, 866, 433, 1300, 650, 325, 976, 488, 244, 122, 61, 184, 92, 46, 23, 70, 35, 106, 53, 160, 80, 40, 20, 10, 5, 16, 8, 4, 2, 1]\n",
            "Number 64: [64, 32, 16, 8, 4, 2, 1]\n",
            "Number 65: [65, 196, 98, 49, 148, 74, 37, 112, 56, 28, 14, 7, 22, 11, 34, 17, 52, 26, 13, 40, 20, 10, 5, 16, 8, 4, 2, 1]\n",
            "Number 66: [66, 33, 100, 50, 25, 76, 38, 19, 58, 29, 88, 44, 22, 11, 34, 17, 52, 26, 13, 40, 20, 10, 5, 16, 8, 4, 2, 1]\n",
            "Number 67: [67, 202, 101, 304, 152, 76, 38, 19, 58, 29, 88, 44, 22, 11, 34, 17, 52, 26, 13, 40, 20, 10, 5, 16, 8, 4, 2, 1]\n",
            "Number 68: [68, 34, 17, 52, 26, 13, 40, 20, 10, 5, 16, 8, 4, 2, 1]\n",
            "Number 69: [69, 208, 104, 52, 26, 13, 40, 20, 10, 5, 16, 8, 4, 2, 1]\n",
            "Number 70: [70, 35, 106, 53, 160, 80, 40, 20, 10, 5, 16, 8, 4, 2, 1]\n",
            "Number 71: [71, 214, 107, 322, 161, 484, 242, 121, 364, 182, 91, 274, 137, 412, 206, 103, 310, 155, 466, 233, 700, 350, 175, 526, 263, 790, 395, 1186, 593, 1780, 890, 445, 1336, 668, 334, 167, 502, 251, 754, 377, 1132, 566, 283, 850, 425, 1276, 638, 319, 958, 479, 1438, 719, 2158, 1079, 3238, 1619, 4858, 2429, 7288, 3644, 1822, 911, 2734, 1367, 4102, 2051, 6154, 3077, 9232, 4616, 2308, 1154, 577, 1732, 866, 433, 1300, 650, 325, 976, 488, 244, 122, 61, 184, 92, 46, 23, 70, 35, 106, 53, 160, 80, 40, 20, 10, 5, 16, 8, 4, 2, 1]\n",
            "Number 72: [72, 36, 18, 9, 28, 14, 7, 22, 11, 34, 17, 52, 26, 13, 40, 20, 10, 5, 16, 8, 4, 2, 1]\n",
            "Number 73: [73, 220, 110, 55, 166, 83, 250, 125, 376, 188, 94, 47, 142, 71, 214, 107, 322, 161, 484, 242, 121, 364, 182, 91, 274, 137, 412, 206, 103, 310, 155, 466, 233, 700, 350, 175, 526, 263, 790, 395, 1186, 593, 1780, 890, 445, 1336, 668, 334, 167, 502, 251, 754, 377, 1132, 566, 283, 850, 425, 1276, 638, 319, 958, 479, 1438, 719, 2158, 1079, 3238, 1619, 4858, 2429, 7288, 3644, 1822, 911, 2734, 1367, 4102, 2051, 6154, 3077, 9232, 4616, 2308, 1154, 577, 1732, 866, 433, 1300, 650, 325, 976, 488, 244, 122, 61, 184, 92, 46, 23, 70, 35, 106, 53, 160, 80, 40, 20, 10, 5, 16, 8, 4, 2, 1]\n",
            "Number 74: [74, 37, 112, 56, 28, 14, 7, 22, 11, 34, 17, 52, 26, 13, 40, 20, 10, 5, 16, 8, 4, 2, 1]\n",
            "Number 75: [75, 226, 113, 340, 170, 85, 256, 128, 64, 32, 16, 8, 4, 2, 1]\n",
            "Number 76: [76, 38, 19, 58, 29, 88, 44, 22, 11, 34, 17, 52, 26, 13, 40, 20, 10, 5, 16, 8, 4, 2, 1]\n",
            "Number 77: [77, 232, 116, 58, 29, 88, 44, 22, 11, 34, 17, 52, 26, 13, 40, 20, 10, 5, 16, 8, 4, 2, 1]\n",
            "Number 78: [78, 39, 118, 59, 178, 89, 268, 134, 67, 202, 101, 304, 152, 76, 38, 19, 58, 29, 88, 44, 22, 11, 34, 17, 52, 26, 13, 40, 20, 10, 5, 16, 8, 4, 2, 1]\n",
            "Number 79: [79, 238, 119, 358, 179, 538, 269, 808, 404, 202, 101, 304, 152, 76, 38, 19, 58, 29, 88, 44, 22, 11, 34, 17, 52, 26, 13, 40, 20, 10, 5, 16, 8, 4, 2, 1]\n",
            "Number 80: [80, 40, 20, 10, 5, 16, 8, 4, 2, 1]\n",
            "Number 81: [81, 244, 122, 61, 184, 92, 46, 23, 70, 35, 106, 53, 160, 80, 40, 20, 10, 5, 16, 8, 4, 2, 1]\n",
            "Number 82: [82, 41, 124, 62, 31, 94, 47, 142, 71, 214, 107, 322, 161, 484, 242, 121, 364, 182, 91, 274, 137, 412, 206, 103, 310, 155, 466, 233, 700, 350, 175, 526, 263, 790, 395, 1186, 593, 1780, 890, 445, 1336, 668, 334, 167, 502, 251, 754, 377, 1132, 566, 283, 850, 425, 1276, 638, 319, 958, 479, 1438, 719, 2158, 1079, 3238, 1619, 4858, 2429, 7288, 3644, 1822, 911, 2734, 1367, 4102, 2051, 6154, 3077, 9232, 4616, 2308, 1154, 577, 1732, 866, 433, 1300, 650, 325, 976, 488, 244, 122, 61, 184, 92, 46, 23, 70, 35, 106, 53, 160, 80, 40, 20, 10, 5, 16, 8, 4, 2, 1]\n",
            "Number 83: [83, 250, 125, 376, 188, 94, 47, 142, 71, 214, 107, 322, 161, 484, 242, 121, 364, 182, 91, 274, 137, 412, 206, 103, 310, 155, 466, 233, 700, 350, 175, 526, 263, 790, 395, 1186, 593, 1780, 890, 445, 1336, 668, 334, 167, 502, 251, 754, 377, 1132, 566, 283, 850, 425, 1276, 638, 319, 958, 479, 1438, 719, 2158, 1079, 3238, 1619, 4858, 2429, 7288, 3644, 1822, 911, 2734, 1367, 4102, 2051, 6154, 3077, 9232, 4616, 2308, 1154, 577, 1732, 866, 433, 1300, 650, 325, 976, 488, 244, 122, 61, 184, 92, 46, 23, 70, 35, 106, 53, 160, 80, 40, 20, 10, 5, 16, 8, 4, 2, 1]\n",
            "Number 84: [84, 42, 21, 64, 32, 16, 8, 4, 2, 1]\n",
            "Number 85: [85, 256, 128, 64, 32, 16, 8, 4, 2, 1]\n",
            "Number 86: [86, 43, 130, 65, 196, 98, 49, 148, 74, 37, 112, 56, 28, 14, 7, 22, 11, 34, 17, 52, 26, 13, 40, 20, 10, 5, 16, 8, 4, 2, 1]\n",
            "Number 87: [87, 262, 131, 394, 197, 592, 296, 148, 74, 37, 112, 56, 28, 14, 7, 22, 11, 34, 17, 52, 26, 13, 40, 20, 10, 5, 16, 8, 4, 2, 1]\n",
            "Number 88: [88, 44, 22, 11, 34, 17, 52, 26, 13, 40, 20, 10, 5, 16, 8, 4, 2, 1]\n",
            "Number 89: [89, 268, 134, 67, 202, 101, 304, 152, 76, 38, 19, 58, 29, 88, 44, 22, 11, 34, 17, 52, 26, 13, 40, 20, 10, 5, 16, 8, 4, 2, 1]\n",
            "Number 90: [90, 45, 136, 68, 34, 17, 52, 26, 13, 40, 20, 10, 5, 16, 8, 4, 2, 1]\n",
            "Number 91: [91, 274, 137, 412, 206, 103, 310, 155, 466, 233, 700, 350, 175, 526, 263, 790, 395, 1186, 593, 1780, 890, 445, 1336, 668, 334, 167, 502, 251, 754, 377, 1132, 566, 283, 850, 425, 1276, 638, 319, 958, 479, 1438, 719, 2158, 1079, 3238, 1619, 4858, 2429, 7288, 3644, 1822, 911, 2734, 1367, 4102, 2051, 6154, 3077, 9232, 4616, 2308, 1154, 577, 1732, 866, 433, 1300, 650, 325, 976, 488, 244, 122, 61, 184, 92, 46, 23, 70, 35, 106, 53, 160, 80, 40, 20, 10, 5, 16, 8, 4, 2, 1]\n",
            "Number 92: [92, 46, 23, 70, 35, 106, 53, 160, 80, 40, 20, 10, 5, 16, 8, 4, 2, 1]\n",
            "Number 93: [93, 280, 140, 70, 35, 106, 53, 160, 80, 40, 20, 10, 5, 16, 8, 4, 2, 1]\n",
            "Number 94: [94, 47, 142, 71, 214, 107, 322, 161, 484, 242, 121, 364, 182, 91, 274, 137, 412, 206, 103, 310, 155, 466, 233, 700, 350, 175, 526, 263, 790, 395, 1186, 593, 1780, 890, 445, 1336, 668, 334, 167, 502, 251, 754, 377, 1132, 566, 283, 850, 425, 1276, 638, 319, 958, 479, 1438, 719, 2158, 1079, 3238, 1619, 4858, 2429, 7288, 3644, 1822, 911, 2734, 1367, 4102, 2051, 6154, 3077, 9232, 4616, 2308, 1154, 577, 1732, 866, 433, 1300, 650, 325, 976, 488, 244, 122, 61, 184, 92, 46, 23, 70, 35, 106, 53, 160, 80, 40, 20, 10, 5, 16, 8, 4, 2, 1]\n",
            "Number 95: [95, 286, 143, 430, 215, 646, 323, 970, 485, 1456, 728, 364, 182, 91, 274, 137, 412, 206, 103, 310, 155, 466, 233, 700, 350, 175, 526, 263, 790, 395, 1186, 593, 1780, 890, 445, 1336, 668, 334, 167, 502, 251, 754, 377, 1132, 566, 283, 850, 425, 1276, 638, 319, 958, 479, 1438, 719, 2158, 1079, 3238, 1619, 4858, 2429, 7288, 3644, 1822, 911, 2734, 1367, 4102, 2051, 6154, 3077, 9232, 4616, 2308, 1154, 577, 1732, 866, 433, 1300, 650, 325, 976, 488, 244, 122, 61, 184, 92, 46, 23, 70, 35, 106, 53, 160, 80, 40, 20, 10, 5, 16, 8, 4, 2, 1]\n",
            "Number 96: [96, 48, 24, 12, 6, 3, 10, 5, 16, 8, 4, 2, 1]\n",
            "Number 97: [97, 292, 146, 73, 220, 110, 55, 166, 83, 250, 125, 376, 188, 94, 47, 142, 71, 214, 107, 322, 161, 484, 242, 121, 364, 182, 91, 274, 137, 412, 206, 103, 310, 155, 466, 233, 700, 350, 175, 526, 263, 790, 395, 1186, 593, 1780, 890, 445, 1336, 668, 334, 167, 502, 251, 754, 377, 1132, 566, 283, 850, 425, 1276, 638, 319, 958, 479, 1438, 719, 2158, 1079, 3238, 1619, 4858, 2429, 7288, 3644, 1822, 911, 2734, 1367, 4102, 2051, 6154, 3077, 9232, 4616, 2308, 1154, 577, 1732, 866, 433, 1300, 650, 325, 976, 488, 244, 122, 61, 184, 92, 46, 23, 70, 35, 106, 53, 160, 80, 40, 20, 10, 5, 16, 8, 4, 2, 1]\n",
            "Number 98: [98, 49, 148, 74, 37, 112, 56, 28, 14, 7, 22, 11, 34, 17, 52, 26, 13, 40, 20, 10, 5, 16, 8, 4, 2, 1]\n",
            "Number 99: [99, 298, 149, 448, 224, 112, 56, 28, 14, 7, 22, 11, 34, 17, 52, 26, 13, 40, 20, 10, 5, 16, 8, 4, 2, 1]\n",
            "Number 100: [100, 50, 25, 76, 38, 19, 58, 29, 88, 44, 22, 11, 34, 17, 52, 26, 13, 40, 20, 10, 5, 16, 8, 4, 2, 1]\n"
          ]
        }
      ]
    },
    {
      "cell_type": "markdown",
      "source": [
        "If someone would like to go up to a different number other than $100$, then the range would be changed to $x+1$. "
      ],
      "metadata": {
        "id": "LKw1eL-EujRT"
      }
    },
    {
      "cell_type": "markdown",
      "source": [
        "# Problem 4: Dropping Time Study"
      ],
      "metadata": {
        "id": "yNdP0KMnuXNs"
      }
    },
    {
      "cell_type": "markdown",
      "source": [
        "In order to study the dropping time of each number and compare them, we need to use the second function to determine the steps up to $100$."
      ],
      "metadata": {
        "id": "nRyH6DDxu_qG"
      }
    },
    {
      "cell_type": "code",
      "source": [
        "def Collatz_Sequence_Steps_2(n):\n",
        "  x = n\n",
        "  m = [x]\n",
        "  steps = 0\n",
        "  while x > (n - 1):\n",
        "    if x % 2 == 0:\n",
        "      x = int(x / 2)\n",
        "      m.append(x)\n",
        "      steps = steps + 1\n",
        "    else:\n",
        "      x = int(3 * x + 1)\n",
        "      m.append(x)\n",
        "      steps = steps + 1\n",
        "  return steps"
      ],
      "metadata": {
        "id": "4XLD4gR3vj_Q"
      },
      "execution_count": 74,
      "outputs": []
    },
    {
      "cell_type": "code",
      "source": [
        "for i in range(2,101):\n",
        "  print(\"Number {}: {} Steps\".format(i, Collatz_Sequence_Steps_2(i)))"
      ],
      "metadata": {
        "colab": {
          "base_uri": "https://localhost:8080/"
        },
        "id": "9BpQiLxquW61",
        "outputId": "1e4ce275-c45f-4b94-858f-627854b85d62"
      },
      "execution_count": 75,
      "outputs": [
        {
          "output_type": "stream",
          "name": "stdout",
          "text": [
            "Number 2: 1 Steps\n",
            "Number 3: 6 Steps\n",
            "Number 4: 1 Steps\n",
            "Number 5: 3 Steps\n",
            "Number 6: 1 Steps\n",
            "Number 7: 11 Steps\n",
            "Number 8: 1 Steps\n",
            "Number 9: 3 Steps\n",
            "Number 10: 1 Steps\n",
            "Number 11: 8 Steps\n",
            "Number 12: 1 Steps\n",
            "Number 13: 3 Steps\n",
            "Number 14: 1 Steps\n",
            "Number 15: 11 Steps\n",
            "Number 16: 1 Steps\n",
            "Number 17: 3 Steps\n",
            "Number 18: 1 Steps\n",
            "Number 19: 6 Steps\n",
            "Number 20: 1 Steps\n",
            "Number 21: 3 Steps\n",
            "Number 22: 1 Steps\n",
            "Number 23: 8 Steps\n",
            "Number 24: 1 Steps\n",
            "Number 25: 3 Steps\n",
            "Number 26: 1 Steps\n",
            "Number 27: 96 Steps\n",
            "Number 28: 1 Steps\n",
            "Number 29: 3 Steps\n",
            "Number 30: 1 Steps\n",
            "Number 31: 91 Steps\n",
            "Number 32: 1 Steps\n",
            "Number 33: 3 Steps\n",
            "Number 34: 1 Steps\n",
            "Number 35: 6 Steps\n",
            "Number 36: 1 Steps\n",
            "Number 37: 3 Steps\n",
            "Number 38: 1 Steps\n",
            "Number 39: 13 Steps\n",
            "Number 40: 1 Steps\n",
            "Number 41: 3 Steps\n",
            "Number 42: 1 Steps\n",
            "Number 43: 8 Steps\n",
            "Number 44: 1 Steps\n",
            "Number 45: 3 Steps\n",
            "Number 46: 1 Steps\n",
            "Number 47: 88 Steps\n",
            "Number 48: 1 Steps\n",
            "Number 49: 3 Steps\n",
            "Number 50: 1 Steps\n",
            "Number 51: 6 Steps\n",
            "Number 52: 1 Steps\n",
            "Number 53: 3 Steps\n",
            "Number 54: 1 Steps\n",
            "Number 55: 8 Steps\n",
            "Number 56: 1 Steps\n",
            "Number 57: 3 Steps\n",
            "Number 58: 1 Steps\n",
            "Number 59: 11 Steps\n",
            "Number 60: 1 Steps\n",
            "Number 61: 3 Steps\n",
            "Number 62: 1 Steps\n",
            "Number 63: 88 Steps\n",
            "Number 64: 1 Steps\n",
            "Number 65: 3 Steps\n",
            "Number 66: 1 Steps\n",
            "Number 67: 6 Steps\n",
            "Number 68: 1 Steps\n",
            "Number 69: 3 Steps\n",
            "Number 70: 1 Steps\n",
            "Number 71: 83 Steps\n",
            "Number 72: 1 Steps\n",
            "Number 73: 3 Steps\n",
            "Number 74: 1 Steps\n",
            "Number 75: 8 Steps\n",
            "Number 76: 1 Steps\n",
            "Number 77: 3 Steps\n",
            "Number 78: 1 Steps\n",
            "Number 79: 13 Steps\n",
            "Number 80: 1 Steps\n",
            "Number 81: 3 Steps\n",
            "Number 82: 1 Steps\n",
            "Number 83: 6 Steps\n",
            "Number 84: 1 Steps\n",
            "Number 85: 3 Steps\n",
            "Number 86: 1 Steps\n",
            "Number 87: 8 Steps\n",
            "Number 88: 1 Steps\n",
            "Number 89: 3 Steps\n",
            "Number 90: 1 Steps\n",
            "Number 91: 73 Steps\n",
            "Number 92: 1 Steps\n",
            "Number 93: 3 Steps\n",
            "Number 94: 1 Steps\n",
            "Number 95: 13 Steps\n",
            "Number 96: 1 Steps\n",
            "Number 97: 3 Steps\n",
            "Number 98: 1 Steps\n",
            "Number 99: 6 Steps\n",
            "Number 100: 1 Steps\n"
          ]
        }
      ]
    },
    {
      "cell_type": "markdown",
      "source": [
        "Here, I begin with 2 because we are unable to gather the dropping time for 1 because decimals are not included in the sequence. As we figured out in Problem 2, the dropping time for even numbers is 1, because its Collatz sequence only takes on step until a *smaller* integer is found."
      ],
      "metadata": {
        "id": "79pjzseRVHjX"
      }
    },
    {
      "cell_type": "markdown",
      "source": [
        "I noticed a few sequences with the Collatz conjecture from the numbers 1-100."
      ],
      "metadata": {
        "id": "C1S2Y0gzVaUw"
      }
    },
    {
      "cell_type": "markdown",
      "source": [
        "- First, I noticed that starting from 5 and adding 4 continously until the last term before 100, ($5, 9, 13, 17,..., 97$), each term has a dropping time of 3. Exceeding 100, the next term, 101, should also result in 3 as well. "
      ],
      "metadata": {
        "id": "RWuc80FgVmy7"
      }
    },
    {
      "cell_type": "code",
      "source": [
        "print(Collatz_Sequence_Steps(101))"
      ],
      "metadata": {
        "colab": {
          "base_uri": "https://localhost:8080/"
        },
        "id": "8tKqYDaECpQA",
        "outputId": "1c8cbdfe-9987-4944-c4f0-ccdeedb63f10"
      },
      "execution_count": 85,
      "outputs": [
        {
          "output_type": "stream",
          "name": "stdout",
          "text": [
            "[101, 304, 152, 76]\n",
            "3\n"
          ]
        }
      ]
    },
    {
      "cell_type": "markdown",
      "source": [
        "- Second, I noticed that starting from 3 and adding 16 continously until the last term before 100, ($3, 19, 35, 51,..., 99$), each term has a dropping time of 6. Exceeding 100, the next term, 115 should be 6 as well."
      ],
      "metadata": {
        "id": "Zi7i4pFhWRZK"
      }
    },
    {
      "cell_type": "code",
      "source": [
        "print(Collatz_Sequence_Steps(115))"
      ],
      "metadata": {
        "colab": {
          "base_uri": "https://localhost:8080/"
        },
        "id": "RaCkC9nbDIrW",
        "outputId": "4a909aa0-b58e-4688-f3e6-d0119d610065"
      },
      "execution_count": 84,
      "outputs": [
        {
          "output_type": "stream",
          "name": "stdout",
          "text": [
            "[115, 346, 173, 520, 260, 130, 65]\n",
            "6\n"
          ]
        }
      ]
    },
    {
      "cell_type": "markdown",
      "source": [
        "- Third, I noticed that starting from 11 and adding 12 then 20 then 12 then 20 and doing that continously until the last term before 100, ($11, 23, 43, 55,..., 87$), each term has a dropping time of 8. Exceeding 100, the next two terms,107 and 119 should be 8 as well."
      ],
      "metadata": {
        "id": "Gibo-lqJWt6G"
      }
    },
    {
      "cell_type": "code",
      "source": [
        "print(Collatz_Sequence_Steps(107))"
      ],
      "metadata": {
        "colab": {
          "base_uri": "https://localhost:8080/"
        },
        "id": "zlk2KzlFCp5a",
        "outputId": "d7ef8bc1-3fe2-4a4b-844e-e657f048c509"
      },
      "execution_count": 81,
      "outputs": [
        {
          "output_type": "stream",
          "name": "stdout",
          "text": [
            "[107, 322, 161, 484, 242, 121, 364, 182, 91]\n",
            "8\n"
          ]
        }
      ]
    },
    {
      "cell_type": "code",
      "source": [
        "print(Collatz_Sequence_Steps(119))"
      ],
      "metadata": {
        "colab": {
          "base_uri": "https://localhost:8080/"
        },
        "id": "WWoaA6THCsPF",
        "outputId": "3602df50-cbae-4946-d00e-579c27a2da4f"
      },
      "execution_count": 83,
      "outputs": [
        {
          "output_type": "stream",
          "name": "stdout",
          "text": [
            "[119, 358, 179, 538, 269, 808, 404, 202, 101]\n",
            "8\n"
          ]
        }
      ]
    },
    {
      "cell_type": "markdown",
      "source": [
        "- Lastly, I did notice that ($7, 15, 59$) has a dropping time of 11 and ($39, 79, 95$) has a dropping time of 13. Although they have the same dropping times, I did not recognize a pattern here. ($27, 31, 71, 91$) resulted in different dropping times. "
      ],
      "metadata": {
        "id": "MescYFLkXYFU"
      }
    },
    {
      "cell_type": "markdown",
      "source": [
        "# Problem 5: Other Collatz Conjecture Studies"
      ],
      "metadata": {
        "id": "E0VmQ6fgLXES"
      }
    },
    {
      "cell_type": "code",
      "source": [
        "print(Collatz_Sequence(-4))"
      ],
      "metadata": {
        "colab": {
          "base_uri": "https://localhost:8080/"
        },
        "id": "LaFac-skLW4x",
        "outputId": "fb25c991-d7a1-4578-8ecd-ad65f3f2515b"
      },
      "execution_count": 95,
      "outputs": [
        {
          "output_type": "stream",
          "name": "stdout",
          "text": [
            "[-4]\n"
          ]
        }
      ]
    },
    {
      "cell_type": "markdown",
      "source": [
        "A negative shouldn't result in anything because the Collatz conjecture requires the integer to positive. So, I believe the function should include an error if a person inputs a negative number. Like this:"
      ],
      "metadata": {
        "id": "f5yLs9WxNClV"
      }
    },
    {
      "cell_type": "code",
      "source": [
        "def Collatz_Sequence_3(n):\n",
        "  if n < 1:\n",
        "    raise ValueError('Positive input only please!')  \n",
        "  x = n\n",
        "  m = [x] \n",
        "  while x > 1:\n",
        "    if x % 2 == 0:\n",
        "      x = int(x / 2)\n",
        "      m.append(x)\n",
        "    else:\n",
        "      x = int(3 * x + 1)\n",
        "      m.append(x)\n",
        "  return m"
      ],
      "metadata": {
        "id": "sqL7WICoNdei"
      },
      "execution_count": 101,
      "outputs": []
    },
    {
      "cell_type": "code",
      "source": [
        "print(Collatz_Sequence_3(-4))"
      ],
      "metadata": {
        "colab": {
          "base_uri": "https://localhost:8080/",
          "height": 294
        },
        "id": "Dw99tC5qN06W",
        "outputId": "8f8648cb-6a54-4d34-c790-1a596555ee29"
      },
      "execution_count": 107,
      "outputs": [
        {
          "output_type": "error",
          "ename": "ValueError",
          "evalue": "ignored",
          "traceback": [
            "\u001b[0;31m---------------------------------------------------------------------------\u001b[0m",
            "\u001b[0;31mValueError\u001b[0m                                Traceback (most recent call last)",
            "\u001b[0;32m<ipython-input-107-d2cad14da11a>\u001b[0m in \u001b[0;36m<module>\u001b[0;34m\u001b[0m\n\u001b[0;32m----> 1\u001b[0;31m \u001b[0mprint\u001b[0m\u001b[0;34m(\u001b[0m\u001b[0mCollatz_Sequence_3\u001b[0m\u001b[0;34m(\u001b[0m\u001b[0;34m-\u001b[0m\u001b[0;36m4\u001b[0m\u001b[0;34m)\u001b[0m\u001b[0;34m)\u001b[0m\u001b[0;34m\u001b[0m\u001b[0;34m\u001b[0m\u001b[0m\n\u001b[0m",
            "\u001b[0;32m<ipython-input-101-56fb533d3287>\u001b[0m in \u001b[0;36mCollatz_Sequence_3\u001b[0;34m(n)\u001b[0m\n\u001b[1;32m      1\u001b[0m \u001b[0;32mdef\u001b[0m \u001b[0mCollatz_Sequence_3\u001b[0m\u001b[0;34m(\u001b[0m\u001b[0mn\u001b[0m\u001b[0;34m)\u001b[0m\u001b[0;34m:\u001b[0m\u001b[0;34m\u001b[0m\u001b[0;34m\u001b[0m\u001b[0m\n\u001b[1;32m      2\u001b[0m   \u001b[0;32mif\u001b[0m \u001b[0mn\u001b[0m \u001b[0;34m<\u001b[0m \u001b[0;36m1\u001b[0m\u001b[0;34m:\u001b[0m\u001b[0;34m\u001b[0m\u001b[0;34m\u001b[0m\u001b[0m\n\u001b[0;32m----> 3\u001b[0;31m     \u001b[0;32mraise\u001b[0m \u001b[0mValueError\u001b[0m\u001b[0;34m(\u001b[0m\u001b[0;34m'Positive input only please!'\u001b[0m\u001b[0;34m)\u001b[0m\u001b[0;34m\u001b[0m\u001b[0;34m\u001b[0m\u001b[0m\n\u001b[0m\u001b[1;32m      4\u001b[0m   \u001b[0mx\u001b[0m \u001b[0;34m=\u001b[0m \u001b[0mn\u001b[0m\u001b[0;34m\u001b[0m\u001b[0;34m\u001b[0m\u001b[0m\n\u001b[1;32m      5\u001b[0m   \u001b[0mm\u001b[0m \u001b[0;34m=\u001b[0m \u001b[0;34m[\u001b[0m\u001b[0mx\u001b[0m\u001b[0;34m]\u001b[0m\u001b[0;34m\u001b[0m\u001b[0;34m\u001b[0m\u001b[0m\n",
            "\u001b[0;31mValueError\u001b[0m: Positive input only please!"
          ]
        }
      ]
    },
    {
      "cell_type": "code",
      "source": [
        "print(Collatz_Sequence(1000000000000000000001))"
      ],
      "metadata": {
        "colab": {
          "base_uri": "https://localhost:8080/"
        },
        "id": "y3z1_9nVLjeM",
        "outputId": "ab1a0042-fe03-44dd-8e89-3e7beefcc1e8"
      },
      "execution_count": 97,
      "outputs": [
        {
          "output_type": "stream",
          "name": "stdout",
          "text": [
            "[1000000000000000000001, 3000000000000000000004, 1500000000000000000000, 750000000000000000000, 375000000000000000000, 187500000000000000000, 93750000000000000000, 46875000000000000000, 23437500000000000000, 11718750000000000000, 5859375000000000000, 2929687500000000000, 1464843750000000000, 732421875000000000, 366210937500000000, 183105468750000000, 91552734375000000, 45776367187500000, 22888183593750000, 11444091796875000, 5722045898437500, 2861022949218750, 1430511474609375, 4291534423828126, 2145767211914063, 6437301635742190, 3218650817871095, 9655952453613286, 4827976226806643, 14483928680419930, 7241964340209965, 21725893020629896, 10862946510314948, 5431473255157474, 2715736627578737, 8147209882736212, 4073604941368106, 2036802470684053, 6110407412052160, 3055203706026080, 1527601853013040, 763800926506520, 381900463253260, 190950231626630, 95475115813315, 286425347439946, 143212673719973, 429638021159920, 214819010579960, 107409505289980, 53704752644990, 26852376322495, 80557128967486, 40278564483743, 120835693451230, 60417846725615, 181253540176846, 90626770088423, 271880310265270, 135940155132635, 407820465397906, 203910232698953, 611730698096860, 305865349048430, 152932674524215, 458798023572646, 229399011786323, 688197035358970, 344098517679485, 1032295553038456, 516147776519228, 258073888259614, 129036944129807, 387110832389422, 193555416194711, 580666248584134, 290333124292067, 870999372876202, 435499686438101, 1306499059314304, 653249529657152, 326624764828576, 163312382414288, 81656191207144, 40828095603572, 20414047801786, 10207023900893, 30621071702680, 15310535851340, 7655267925670, 3827633962835, 11482901888506, 5741450944253, 17224352832760, 8612176416380, 4306088208190, 2153044104095, 6459132312286, 3229566156143, 9688698468430, 4844349234215, 14533047702646, 7266523851323, 21799571553970, 10899785776985, 32699357330956, 16349678665478, 8174839332739, 24524517998218, 12262258999109, 36786776997328, 18393388498664, 9196694249332, 4598347124666, 2299173562333, 6897520687000, 3448760343500, 1724380171750, 862190085875, 2586570257626, 1293285128813, 3879855386440, 1939927693220, 969963846610, 484981923305, 1454945769916, 727472884958, 363736442479, 1091209327438, 545604663719, 1636813991158, 818406995579, 2455220986738, 1227610493369, 3682831480108, 1841415740054, 920707870027, 2762123610082, 1381061805041, 4143185415124, 2071592707562, 1035796353781, 3107389061344, 1553694530672, 776847265336, 388423632668, 194211816334, 97105908167, 291317724502, 145658862251, 436976586754, 218488293377, 655464880132, 327732440066, 163866220033, 491598660100, 245799330050, 122899665025, 368698995076, 184349497538, 92174748769, 276524246308, 138262123154, 69131061577, 207393184732, 103696592366, 51848296183, 155544888550, 77772444275, 233317332826, 116658666413, 349975999240, 174987999620, 87493999810, 43746999905, 131240999716, 65620499858, 32810249929, 98430749788, 49215374894, 24607687447, 73823062342, 36911531171, 110734593514, 55367296757, 166101890272, 83050945136, 41525472568, 20762736284, 10381368142, 5190684071, 15572052214, 7786026107, 23358078322, 11679039161, 35037117484, 17518558742, 8759279371, 26277838114, 13138919057, 39416757172, 19708378586, 9854189293, 29562567880, 14781283940, 7390641970, 3695320985, 11085962956, 5542981478, 2771490739, 8314472218, 4157236109, 12471708328, 6235854164, 3117927082, 1558963541, 4676890624, 2338445312, 1169222656, 584611328, 292305664, 146152832, 73076416, 36538208, 18269104, 9134552, 4567276, 2283638, 1141819, 3425458, 1712729, 5138188, 2569094, 1284547, 3853642, 1926821, 5780464, 2890232, 1445116, 722558, 361279, 1083838, 541919, 1625758, 812879, 2438638, 1219319, 3657958, 1828979, 5486938, 2743469, 8230408, 4115204, 2057602, 1028801, 3086404, 1543202, 771601, 2314804, 1157402, 578701, 1736104, 868052, 434026, 217013, 651040, 325520, 162760, 81380, 40690, 20345, 61036, 30518, 15259, 45778, 22889, 68668, 34334, 17167, 51502, 25751, 77254, 38627, 115882, 57941, 173824, 86912, 43456, 21728, 10864, 5432, 2716, 1358, 679, 2038, 1019, 3058, 1529, 4588, 2294, 1147, 3442, 1721, 5164, 2582, 1291, 3874, 1937, 5812, 2906, 1453, 4360, 2180, 1090, 545, 1636, 818, 409, 1228, 614, 307, 922, 461, 1384, 692, 346, 173, 520, 260, 130, 65, 196, 98, 49, 148, 74, 37, 112, 56, 28, 14, 7, 22, 11, 34, 17, 52, 26, 13, 40, 20, 10, 5, 16, 8, 4, 2, 1]\n"
          ]
        }
      ]
    },
    {
      "cell_type": "markdown",
      "source": [
        "I don't know how to answer the rest of the question."
      ],
      "metadata": {
        "id": "3gXexe92OHTd"
      }
    },
    {
      "cell_type": "markdown",
      "source": [
        "# Overall Findings"
      ],
      "metadata": {
        "id": "VjdSJ6c5OQKY"
      }
    },
    {
      "cell_type": "markdown",
      "source": [
        "While studying the dropping times of each number from 1 to 100, I noticed some patterns that can follow after 100. For even numbers, the dropping time is 1. The arithmetic sequence $a_n=a_{n-1}+4$ when $n>1$ and $a_1=5$ has the dropping time is 3. The arithmetic sequence $a_n=a_{n-1}+16$ when $n>1$ and $a_1=3$ has the dropping time is 6. The third arithmetic sequence $a_n=a_{n-1}+12$ when the $n$ in $a_n$ is even and $a_n=a_{n-1}+20$ when the $n$ in $a_n$ is odd, both when $n>1$ and $a_1=11$, has the dropping time 8. With the other numbers, I did not recognize a pattern."
      ],
      "metadata": {
        "id": "iergCLw0OSOF"
      }
    }
  ]
}