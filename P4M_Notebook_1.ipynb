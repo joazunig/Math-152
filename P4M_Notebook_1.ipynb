{
  "nbformat": 4,
  "nbformat_minor": 0,
  "metadata": {
    "kernelspec": {
      "display_name": "Python 3",
      "language": "python",
      "name": "python3"
    },
    "language_info": {
      "codemirror_mode": {
        "name": "ipython",
        "version": 3
      },
      "file_extension": ".py",
      "mimetype": "text/x-python",
      "name": "python",
      "nbconvert_exporter": "python",
      "pygments_lexer": "ipython3",
      "version": "3.6.7"
    },
    "colab": {
      "name": "P4M_Notebook1.ipynb",
      "provenance": [],
      "toc_visible": true,
      "include_colab_link": true
    }
  },
  "cells": [
    {
      "cell_type": "markdown",
      "metadata": {
        "id": "view-in-github",
        "colab_type": "text"
      },
      "source": [
        "<a href=\"https://colab.research.google.com/github/joazunig/Math-152/blob/main/P4M_Notebook_1.ipynb\" target=\"_parent\"><img src=\"https://colab.research.google.com/assets/colab-badge.svg\" alt=\"Open In Colab\"/></a>"
      ]
    },
    {
      "cell_type": "markdown",
      "metadata": {
        "id": "aLsfIWSoU5x_"
      },
      "source": [
        "#  Computing with Python:  an Introduction"
      ]
    },
    {
      "cell_type": "markdown",
      "metadata": {
        "id": "AXTRG_T1U5yD"
      },
      "source": [
        "Welcome to programming!\n",
        "\n",
        "What is the difference between *Python* and a calculator?  We begin this first lesson by showing how Python can be used **as** a calculator, and we move into one of the most important programming structures -- the **loop**.  Loops allow computers to carry out repetetive computations, with just a few commands.\n",
        "\n",
        "To navigate this notebook, you might wish to click on the Table of Contents icon (near top-left of the Google Colab window).  Then you can expand the sections to work on each one.\n",
        "\n",
        "Remember to save your work frequently on your personal GitHub repository.\n",
        "\n",
        "You do **not** need to complete every exercise to get full credit for this assignment.  Please **do** try to make it to the end of the notebook to learn all the concepts, and attempt as many exercises as time permits."
      ]
    },
    {
      "cell_type": "markdown",
      "metadata": {
        "id": "-y8Iz5LaU5yD"
      },
      "source": [
        "# Python as a calculator"
      ]
    },
    {
      "cell_type": "markdown",
      "metadata": {
        "id": "6rbqov7pU5yE"
      },
      "source": [
        "Different kinds of data are stored as different *types* in Python.  For example, if you wish to work with integers, your data is typically stored as an *int*.  A real number might be stored as a *float*.  There are types for booleans (True/False data), strings (like \"Hello World!\"), and many more we will see.  \n",
        "\n",
        "A more complete reference for Python's numerical types and arithmetic operations can be found in the [official Python documentation](https://docs.python.org/3/library/stdtypes.html).  The [official Python tutorial](https://docs.python.org/3/tutorial/introduction.html) is also a great place to start.\n",
        "\n",
        "Python allows you to perform arithmetic operations:  addition, subtraction, multiplication, and division, on numerical types.  The operation symbols are `+`, `-`, `*`, and `/`.   Evaluate each of the following cells to see how Python performs operations on *integers*.  \n",
        "\n",
        "To evaluate the cell, click anywhere within the cell to select it and use the keyboard shortcut *Shift-Enter* to evaluate.  But as you go through this and later lessons, try to *predict* what will happen when you evaluate the cell before you hit Shift-Enter.  Don't just click click click!  Think for a few seconds or a minute, and then Shift-Enter."
      ]
    },
    {
      "cell_type": "code",
      "metadata": {
        "scrolled": true,
        "id": "yqyWbMp-U5yE",
        "colab": {
          "base_uri": "https://localhost:8080/"
        },
        "outputId": "1b37e5bf-3b08-4b5f-943b-983a64947c17"
      },
      "source": [
        "2 + 3"
      ],
      "execution_count": null,
      "outputs": [
        {
          "output_type": "execute_result",
          "data": {
            "text/plain": [
              "5"
            ]
          },
          "metadata": {},
          "execution_count": 18
        }
      ]
    },
    {
      "cell_type": "code",
      "metadata": {
        "scrolled": true,
        "id": "ITtBZC2kU5yE",
        "colab": {
          "base_uri": "https://localhost:8080/"
        },
        "outputId": "bc6734c1-41a2-4934-94d9-6fd9d13e33e5"
      },
      "source": [
        "2 * 3"
      ],
      "execution_count": null,
      "outputs": [
        {
          "output_type": "execute_result",
          "data": {
            "text/plain": [
              "6"
            ]
          },
          "metadata": {},
          "execution_count": 19
        }
      ]
    },
    {
      "cell_type": "code",
      "metadata": {
        "id": "mS2JIy1oU5yE",
        "colab": {
          "base_uri": "https://localhost:8080/"
        },
        "outputId": "f85cce0b-be47-42d6-82e1-deec97606dea"
      },
      "source": [
        "5 - 11"
      ],
      "execution_count": null,
      "outputs": [
        {
          "output_type": "execute_result",
          "data": {
            "text/plain": [
              "-6"
            ]
          },
          "metadata": {},
          "execution_count": 20
        }
      ]
    },
    {
      "cell_type": "code",
      "metadata": {
        "id": "WRjeVm8rU5yF",
        "colab": {
          "base_uri": "https://localhost:8080/"
        },
        "outputId": "752c30b3-4deb-4877-bc61-ffe65b32e4c0"
      },
      "source": [
        "5.0 - 11"
      ],
      "execution_count": null,
      "outputs": [
        {
          "output_type": "execute_result",
          "data": {
            "text/plain": [
              "-6.0"
            ]
          },
          "metadata": {},
          "execution_count": 21
        }
      ]
    },
    {
      "cell_type": "code",
      "metadata": {
        "id": "Q9pdWY_hU5yF",
        "colab": {
          "base_uri": "https://localhost:8080/"
        },
        "outputId": "66c2173b-0b53-464c-a183-6595df1ca1ff"
      },
      "source": [
        "5 / 11"
      ],
      "execution_count": null,
      "outputs": [
        {
          "output_type": "execute_result",
          "data": {
            "text/plain": [
              "0.45454545454545453"
            ]
          },
          "metadata": {},
          "execution_count": 22
        }
      ]
    },
    {
      "cell_type": "code",
      "metadata": {
        "id": "TPzva1UXU5yF",
        "colab": {
          "base_uri": "https://localhost:8080/"
        },
        "outputId": "357fbdf5-8763-4216-fefe-df300153c0aa"
      },
      "source": [
        "6 / 3"
      ],
      "execution_count": null,
      "outputs": [
        {
          "output_type": "execute_result",
          "data": {
            "text/plain": [
              "2.0"
            ]
          },
          "metadata": {},
          "execution_count": 23
        }
      ]
    },
    {
      "cell_type": "code",
      "metadata": {
        "id": "GUmGnpHVU5yF",
        "colab": {
          "base_uri": "https://localhost:8080/"
        },
        "outputId": "63da9fb1-b2b0-4184-b15f-4be61d245f7f"
      },
      "source": [
        "5 // 11"
      ],
      "execution_count": null,
      "outputs": [
        {
          "output_type": "execute_result",
          "data": {
            "text/plain": [
              "0"
            ]
          },
          "metadata": {},
          "execution_count": 24
        }
      ]
    },
    {
      "cell_type": "code",
      "metadata": {
        "id": "JEXb5uPQU5yF",
        "colab": {
          "base_uri": "https://localhost:8080/"
        },
        "outputId": "6f1c5d7b-1936-4e8d-cc31-37b693180e6f"
      },
      "source": [
        "6 // 3"
      ],
      "execution_count": null,
      "outputs": [
        {
          "output_type": "execute_result",
          "data": {
            "text/plain": [
              "2"
            ]
          },
          "metadata": {},
          "execution_count": 25
        }
      ]
    },
    {
      "cell_type": "markdown",
      "metadata": {
        "id": "o4t4Yw_XU5yF"
      },
      "source": [
        "The results are probably not too surprising, though the last two require a bit of explanation.  Python *interprets* the input number 5 as an *int* (integer) and 5.0 as a *float*.  \"Float\" stands for \"floating point number,\" which is a sort of decimal approximation to a real number.  The word \"float\" refers to the fact that the decimal (or binary, for computers) point can float around (as in 1.2345 or 12.345 or 123.45 or 1234.5 or 0.00012345).  There are deep computational issues related to how computers handle decimal approximations, and you can [read about the IEEE standards](https://en.wikipedia.org/wiki/IEEE_754) if you're interested.\n",
        "\n",
        "Python enables different kinds of division.  The single-slash division in Python 3.x gives a floating point approximation of the quotient.  That's why `5 / 11` and `6 / 3` both output floats.  On the other hand, `5 // 11` and `6 // 3` yield integer outputs (rounding down) -- this is useful, but one has to be careful!\n",
        "\n",
        "In fact the designers of Python changed their mind.  **This tutorial assumes that you are using Python 3.x.**  If you are using Python 2.x, the command `5 / 11` would output zero."
      ]
    },
    {
      "cell_type": "code",
      "metadata": {
        "id": "msOx7ga_U5yF",
        "colab": {
          "base_uri": "https://localhost:8080/"
        },
        "outputId": "8bd6bff8-f8f0-4105-a719-5fa553723187"
      },
      "source": [
        "-12 // 5  # What will this output?  Guess before evaluating! This should result in -3."
      ],
      "execution_count": null,
      "outputs": [
        {
          "output_type": "execute_result",
          "data": {
            "text/plain": [
              "-3"
            ]
          },
          "metadata": {},
          "execution_count": 26
        }
      ]
    },
    {
      "cell_type": "markdown",
      "metadata": {
        "id": "6m4OcRYfU5yG"
      },
      "source": [
        "Why use integer division `//` and why use floating point division?  In practice, integer division is typically a faster operation.  So if you only need the rounded result (and that will often be the case), use integer division.  It will run much faster than carrying out floating point division then manually rounding down.\n",
        "\n",
        "Observe that floating point operations involve approximation.  The result of `5.0/11.0` might not be what you expect in the last digit.  Over time, especially with repeated operations, *floating point approximation* errors can add up!"
      ]
    },
    {
      "cell_type": "markdown",
      "metadata": {
        "id": "uAyV-QWrU5yG"
      },
      "source": [
        "You might be wondering about the little [XX] and [XX] prompts in the code cells above.  What is their purpose?  Guess what the following line will do."
      ]
    },
    {
      "cell_type": "code",
      "metadata": {
        "id": "vgnp3B3JU5yG",
        "colab": {
          "base_uri": "https://localhost:8080/"
        },
        "outputId": "99777d80-76ed-4607-f3a8-cde64a276681"
      },
      "source": [
        "Out[4] + Out[5] # I don't quite understand what is going on here."
      ],
      "execution_count": null,
      "outputs": [
        {
          "output_type": "execute_result",
          "data": {
            "text/plain": [
              "-5.545454545454546"
            ]
          },
          "metadata": {},
          "execution_count": 27
        }
      ]
    },
    {
      "cell_type": "markdown",
      "metadata": {
        "id": "GgS8uA14U5yG"
      },
      "source": [
        "Cool, huh?  It's nice to have a record of previous computations, especially if you don't want to type something again.\n",
        "\n",
        "Python allows you to group expressions with parentheses, and follows the order of operations that you learn in school."
      ]
    },
    {
      "cell_type": "code",
      "metadata": {
        "id": "kE_p7LcGU5yG",
        "colab": {
          "base_uri": "https://localhost:8080/"
        },
        "outputId": "325ca92e-8d68-4874-94be-f46fe59bf57c"
      },
      "source": [
        "(3 + 4) * 5"
      ],
      "execution_count": null,
      "outputs": [
        {
          "output_type": "execute_result",
          "data": {
            "text/plain": [
              "35"
            ]
          },
          "metadata": {},
          "execution_count": 28
        }
      ]
    },
    {
      "cell_type": "code",
      "metadata": {
        "id": "n-hUvTxHU5yG",
        "colab": {
          "base_uri": "https://localhost:8080/"
        },
        "outputId": "1d688514-a528-4393-c109-fe913cd039b3"
      },
      "source": [
        "3 + (4 * 5)"
      ],
      "execution_count": null,
      "outputs": [
        {
          "output_type": "execute_result",
          "data": {
            "text/plain": [
              "23"
            ]
          },
          "metadata": {},
          "execution_count": 29
        }
      ]
    },
    {
      "cell_type": "code",
      "metadata": {
        "id": "3E_z7E81U5yG",
        "colab": {
          "base_uri": "https://localhost:8080/"
        },
        "outputId": "a83f92e9-047e-4e34-90a6-40877cf5548b"
      },
      "source": [
        "3 + 4 * 5   #  What do you think will be the result?  Remember PEMDAS? This will result in 23."
      ],
      "execution_count": null,
      "outputs": [
        {
          "output_type": "execute_result",
          "data": {
            "text/plain": [
              "23"
            ]
          },
          "metadata": {},
          "execution_count": 30
        }
      ]
    },
    {
      "cell_type": "code",
      "source": [
        "4(1+3) # Python does not use \"implicit\" multiplication!  This should give an error."
      ],
      "metadata": {
        "id": "Azt9irrVLcE1",
        "colab": {
          "base_uri": "https://localhost:8080/",
          "height": 242
        },
        "outputId": "dcadf814-a730-4075-9b80-99f2ebdeff1d"
      },
      "execution_count": null,
      "outputs": [
        {
          "output_type": "stream",
          "name": "stderr",
          "text": [
            "<>:1: SyntaxWarning: 'int' object is not callable; perhaps you missed a comma?\n",
            "<>:1: SyntaxWarning: 'int' object is not callable; perhaps you missed a comma?\n",
            "<ipython-input-31-686be9fd5e6b>:1: SyntaxWarning: 'int' object is not callable; perhaps you missed a comma?\n",
            "  4(1+3) # Python does not use \"implicit\" multiplication!  This should give an error.\n"
          ]
        },
        {
          "output_type": "error",
          "ename": "TypeError",
          "evalue": "ignored",
          "traceback": [
            "\u001b[0;31m---------------------------------------------------------------------------\u001b[0m",
            "\u001b[0;31mTypeError\u001b[0m                                 Traceback (most recent call last)",
            "\u001b[0;32m<ipython-input-31-686be9fd5e6b>\u001b[0m in \u001b[0;36m<module>\u001b[0;34m\u001b[0m\n\u001b[0;32m----> 1\u001b[0;31m \u001b[0;36m4\u001b[0m\u001b[0;34m(\u001b[0m\u001b[0;36m1\u001b[0m\u001b[0;34m+\u001b[0m\u001b[0;36m3\u001b[0m\u001b[0;34m)\u001b[0m \u001b[0;31m# Python does not use \"implicit\" multiplication!  This should give an error.\u001b[0m\u001b[0;34m\u001b[0m\u001b[0;34m\u001b[0m\u001b[0m\n\u001b[0m",
            "\u001b[0;31mTypeError\u001b[0m: 'int' object is not callable"
          ]
        }
      ]
    },
    {
      "cell_type": "markdown",
      "source": [
        "* This did result in an error."
      ],
      "metadata": {
        "id": "Lt7rlcA3YkIP"
      }
    },
    {
      "cell_type": "markdown",
      "metadata": {
        "id": "lIFwbvWsU5yG"
      },
      "source": [
        "Now is a good time to try a few computations of your own, in the empty cell below.  You can type any Python commands you want in the empty cell.  If you want to insert a new cell into this notebook, just hover your cursor in the space between cells in Colab."
      ]
    },
    {
      "cell_type": "code",
      "metadata": {
        "id": "Rc5Lv9wLU5yH",
        "colab": {
          "base_uri": "https://localhost:8080/"
        },
        "outputId": "50b61310-324c-4b7c-847e-fd8f7282e3c9"
      },
      "source": [
        "#  An empty cell.  Have fun!\n",
        "Out[3] + Out[2]"
      ],
      "execution_count": null,
      "outputs": [
        {
          "output_type": "execute_result",
          "data": {
            "text/plain": [
              "0"
            ]
          },
          "metadata": {},
          "execution_count": 32
        }
      ]
    },
    {
      "cell_type": "markdown",
      "source": [
        "* I now know what is going on here. "
      ],
      "metadata": {
        "id": "j89qeFcLYqmw"
      }
    },
    {
      "cell_type": "markdown",
      "metadata": {
        "id": "OkWlZNSSU5yH"
      },
      "source": [
        "For number theory, *division with remainder* is an operation of central importance.  Integer division provides the quotient, and the operation `%` provides the remainder.  It's a bit strange that the percent symbol is used for the remainder, but this [dates at least to the early 1970s](https://softwareengineering.stackexchange.com/questions/294297/in-what-programming-language-did-the-use-of-the-percent-sign-to-mean-modulo) and has become standard across computer languages."
      ]
    },
    {
      "cell_type": "code",
      "metadata": {
        "id": "xTWOi_XxU5yH",
        "colab": {
          "base_uri": "https://localhost:8080/"
        },
        "outputId": "9e3f8aef-19c1-4c47-8e17-e093373ddf3a"
      },
      "source": [
        "23 // 5  # Integer division"
      ],
      "execution_count": null,
      "outputs": [
        {
          "output_type": "execute_result",
          "data": {
            "text/plain": [
              "4"
            ]
          },
          "metadata": {},
          "execution_count": 33
        }
      ]
    },
    {
      "cell_type": "code",
      "metadata": {
        "id": "UNjARp_xU5yH",
        "colab": {
          "base_uri": "https://localhost:8080/"
        },
        "outputId": "f79a678e-7011-4050-af25-dcdff4254276"
      },
      "source": [
        "23 % 5  # The remainder after division"
      ],
      "execution_count": null,
      "outputs": [
        {
          "output_type": "execute_result",
          "data": {
            "text/plain": [
              "3"
            ]
          },
          "metadata": {},
          "execution_count": 34
        }
      ]
    },
    {
      "cell_type": "markdown",
      "metadata": {
        "id": "WFrRvFgkU5yH"
      },
      "source": [
        "Note in the code above, there are little \"comments\".  To place a short comment on a line of code, just put a hashtag `#` at the end of the line of code, followed by your comment.\n",
        "\n",
        "Python gives a single command for division with remainder.  Its output is a *tuple*."
      ]
    },
    {
      "cell_type": "code",
      "metadata": {
        "id": "F2zJS-tRU5yH",
        "colab": {
          "base_uri": "https://localhost:8080/"
        },
        "outputId": "f8ed0323-9d59-4c56-aabd-63fe31cc261d"
      },
      "source": [
        "divmod(23,5)"
      ],
      "execution_count": null,
      "outputs": [
        {
          "output_type": "execute_result",
          "data": {
            "text/plain": [
              "(4, 3)"
            ]
          },
          "metadata": {},
          "execution_count": 35
        }
      ]
    },
    {
      "cell_type": "code",
      "metadata": {
        "id": "y3dckm2dU5yH",
        "colab": {
          "base_uri": "https://localhost:8080/"
        },
        "outputId": "4fa6ea73-2885-469c-c707-a6049e147590"
      },
      "source": [
        "type(divmod(23,5))"
      ],
      "execution_count": null,
      "outputs": [
        {
          "output_type": "execute_result",
          "data": {
            "text/plain": [
              "tuple"
            ]
          },
          "metadata": {},
          "execution_count": 36
        }
      ]
    },
    {
      "cell_type": "markdown",
      "metadata": {
        "id": "0qVUgNJ2U5yH"
      },
      "source": [
        "All data in Python has a type, but a common complaint about Python is that types are a bit concealed \"under the hood\".  But they are not far under the hood!  Anyone can find out the type of some data with a single command."
      ]
    },
    {
      "cell_type": "code",
      "metadata": {
        "id": "TU1Cho4tU5yI",
        "colab": {
          "base_uri": "https://localhost:8080/"
        },
        "outputId": "30f6957d-3a83-4007-9d0a-051e58f1b756"
      },
      "source": [
        "type(3)"
      ],
      "execution_count": null,
      "outputs": [
        {
          "output_type": "execute_result",
          "data": {
            "text/plain": [
              "int"
            ]
          },
          "metadata": {},
          "execution_count": 37
        }
      ]
    },
    {
      "cell_type": "code",
      "metadata": {
        "id": "OYALDWO5U5yI",
        "colab": {
          "base_uri": "https://localhost:8080/"
        },
        "outputId": "d0fdaa54-bcd4-4994-df2e-2fc3aa9c0189"
      },
      "source": [
        "type(3.0)"
      ],
      "execution_count": null,
      "outputs": [
        {
          "output_type": "execute_result",
          "data": {
            "text/plain": [
              "float"
            ]
          },
          "metadata": {},
          "execution_count": 38
        }
      ]
    },
    {
      "cell_type": "code",
      "metadata": {
        "id": "SHQ-_qcHU5yI",
        "colab": {
          "base_uri": "https://localhost:8080/"
        },
        "outputId": "686ddbda-edb7-4611-ed34-c5ce532691f5"
      },
      "source": [
        "type('Hello')"
      ],
      "execution_count": null,
      "outputs": [
        {
          "output_type": "execute_result",
          "data": {
            "text/plain": [
              "str"
            ]
          },
          "metadata": {},
          "execution_count": 39
        }
      ]
    },
    {
      "cell_type": "code",
      "metadata": {
        "id": "nhf-YmD3U5yI",
        "colab": {
          "base_uri": "https://localhost:8080/"
        },
        "outputId": "a6f23c7d-0d09-4a4a-e7b2-a044dae0e23b"
      },
      "source": [
        "type([1,2,3])"
      ],
      "execution_count": null,
      "outputs": [
        {
          "output_type": "execute_result",
          "data": {
            "text/plain": [
              "list"
            ]
          },
          "metadata": {},
          "execution_count": 40
        }
      ]
    },
    {
      "cell_type": "markdown",
      "metadata": {
        "id": "tYWDszLmU5yI"
      },
      "source": [
        "The key to careful computation in Python is always being *aware of the type* of your data, and *knowing* how Python operates differently on data of different types."
      ]
    },
    {
      "cell_type": "code",
      "metadata": {
        "id": "Uc7eYJLWU5yI",
        "colab": {
          "base_uri": "https://localhost:8080/"
        },
        "outputId": "7862b01b-c8bf-440e-e855-e45bbfd670cb"
      },
      "source": [
        "3 + 3"
      ],
      "execution_count": null,
      "outputs": [
        {
          "output_type": "execute_result",
          "data": {
            "text/plain": [
              "6"
            ]
          },
          "metadata": {},
          "execution_count": 41
        }
      ]
    },
    {
      "cell_type": "code",
      "metadata": {
        "id": "jv6N6XLQU5yI",
        "colab": {
          "base_uri": "https://localhost:8080/"
        },
        "outputId": "4f849d1b-a9fa-4dda-e120-46fb73d31cbe"
      },
      "source": [
        "3.0 + 3.0"
      ],
      "execution_count": null,
      "outputs": [
        {
          "output_type": "execute_result",
          "data": {
            "text/plain": [
              "6.0"
            ]
          },
          "metadata": {},
          "execution_count": 42
        }
      ]
    },
    {
      "cell_type": "code",
      "metadata": {
        "id": "KKF4Sv-jU5yI",
        "colab": {
          "base_uri": "https://localhost:8080/",
          "height": 36
        },
        "outputId": "ab51271f-9048-47f6-fa9c-2a031d1ace05"
      },
      "source": [
        "'Hello' + 'World!'"
      ],
      "execution_count": null,
      "outputs": [
        {
          "output_type": "execute_result",
          "data": {
            "text/plain": [
              "'HelloWorld!'"
            ],
            "application/vnd.google.colaboratory.intrinsic+json": {
              "type": "string"
            }
          },
          "metadata": {},
          "execution_count": 43
        }
      ]
    },
    {
      "cell_type": "code",
      "metadata": {
        "id": "q9H__Z99U5yI",
        "colab": {
          "base_uri": "https://localhost:8080/"
        },
        "outputId": "22cf70e4-f292-465e-eb7b-1e3c8becf0c7"
      },
      "source": [
        "[1,2,3] + [4,5,6]"
      ],
      "execution_count": null,
      "outputs": [
        {
          "output_type": "execute_result",
          "data": {
            "text/plain": [
              "[1, 2, 3, 4, 5, 6]"
            ]
          },
          "metadata": {},
          "execution_count": 44
        }
      ]
    },
    {
      "cell_type": "code",
      "metadata": {
        "id": "NDDAxeQJU5yJ",
        "colab": {
          "base_uri": "https://localhost:8080/"
        },
        "outputId": "6a8066e8-3967-45c4-8d55-db46030b112b"
      },
      "source": [
        "3 + 3.0"
      ],
      "execution_count": null,
      "outputs": [
        {
          "output_type": "execute_result",
          "data": {
            "text/plain": [
              "6.0"
            ]
          },
          "metadata": {},
          "execution_count": 45
        }
      ]
    },
    {
      "cell_type": "code",
      "metadata": {
        "id": "xuBj_w9_U5yJ",
        "colab": {
          "base_uri": "https://localhost:8080/",
          "height": 170
        },
        "outputId": "8486b2fa-c787-439a-eb5f-d548af24024d"
      },
      "source": [
        "3 + 'Hello!'  # Uh oh!"
      ],
      "execution_count": null,
      "outputs": [
        {
          "output_type": "error",
          "ename": "TypeError",
          "evalue": "ignored",
          "traceback": [
            "\u001b[0;31m---------------------------------------------------------------------------\u001b[0m",
            "\u001b[0;31mTypeError\u001b[0m                                 Traceback (most recent call last)",
            "\u001b[0;32m<ipython-input-46-dacf80a979a3>\u001b[0m in \u001b[0;36m<module>\u001b[0;34m\u001b[0m\n\u001b[0;32m----> 1\u001b[0;31m \u001b[0;36m3\u001b[0m \u001b[0;34m+\u001b[0m \u001b[0;34m'Hello!'\u001b[0m  \u001b[0;31m# Uh oh!\u001b[0m\u001b[0;34m\u001b[0m\u001b[0;34m\u001b[0m\u001b[0m\n\u001b[0m",
            "\u001b[0;31mTypeError\u001b[0m: unsupported operand type(s) for +: 'int' and 'str'"
          ]
        }
      ]
    },
    {
      "cell_type": "code",
      "metadata": {
        "id": "9P7roKZgU5yJ",
        "colab": {
          "base_uri": "https://localhost:8080/"
        },
        "outputId": "3673a733-0bac-4bc7-8b7f-8a79e07a6ae6"
      },
      "source": [
        "#  An empty cell.  Have fun!\n",
        "#  Try operating on ints, floats, and strings, with different operations.  Which ones work?  How?\n",
        "\n",
        "19 + 6 "
      ],
      "execution_count": null,
      "outputs": [
        {
          "output_type": "execute_result",
          "data": {
            "text/plain": [
              "25"
            ]
          },
          "metadata": {},
          "execution_count": 49
        }
      ]
    },
    {
      "cell_type": "code",
      "source": [
        "19.0 + 6.0"
      ],
      "metadata": {
        "colab": {
          "base_uri": "https://localhost:8080/"
        },
        "id": "upe7oxKAZfZR",
        "outputId": "18af4497-0579-42de-de68-ac100845a74d"
      },
      "execution_count": null,
      "outputs": [
        {
          "output_type": "execute_result",
          "data": {
            "text/plain": [
              "25.0"
            ]
          },
          "metadata": {},
          "execution_count": 50
        }
      ]
    },
    {
      "cell_type": "code",
      "source": [
        "'Hello' + 'I' + 'am' + 'Jonathan.'"
      ],
      "metadata": {
        "colab": {
          "base_uri": "https://localhost:8080/",
          "height": 36
        },
        "id": "j5mwg2lHZgsM",
        "outputId": "06e1ed9d-c573-42b0-9f4e-5a8766f6bdc8"
      },
      "execution_count": null,
      "outputs": [
        {
          "output_type": "execute_result",
          "data": {
            "text/plain": [
              "'HelloIamJonathan.'"
            ],
            "application/vnd.google.colaboratory.intrinsic+json": {
              "type": "string"
            }
          },
          "metadata": {},
          "execution_count": 65
        }
      ]
    },
    {
      "cell_type": "code",
      "source": [
        "[2,5] + [1,6]"
      ],
      "metadata": {
        "colab": {
          "base_uri": "https://localhost:8080/"
        },
        "id": "-B8MMjlOZkyn",
        "outputId": "765147ee-e8c6-4689-9184-58a267709d9e"
      },
      "execution_count": null,
      "outputs": [
        {
          "output_type": "execute_result",
          "data": {
            "text/plain": [
              "[2, 5, 1, 6]"
            ]
          },
          "metadata": {},
          "execution_count": 24
        }
      ]
    },
    {
      "cell_type": "markdown",
      "metadata": {
        "id": "1_2D8-NFU5yJ"
      },
      "source": [
        "As you can see, addition (the `+` operator) is interpreted differently in the contexts of numbers, strings, and lists.  The designers of Python allowed us to add *numbers* of different types:  if you try to operate on an *int* and a *float*, the *int* will typically be *coerced* into a float in order to perform the operation.  But the designers of Python did not give meaning to the addition of a number with a string, for example.  That's why you probably received a *TypeError* after trying to add a number to a string. \n",
        "\n",
        "On the other hand, Python does interpret *multiplication* of a natural number with a string or a list."
      ]
    },
    {
      "cell_type": "code",
      "metadata": {
        "id": "MmRfXepMU5yJ",
        "colab": {
          "base_uri": "https://localhost:8080/",
          "height": 36
        },
        "outputId": "32e0299a-d4a4-4606-d5d5-2449ef5595e1"
      },
      "source": [
        "3 * 'Hello!'"
      ],
      "execution_count": null,
      "outputs": [
        {
          "output_type": "execute_result",
          "data": {
            "text/plain": [
              "'Hello!Hello!Hello!'"
            ],
            "application/vnd.google.colaboratory.intrinsic+json": {
              "type": "string"
            }
          },
          "metadata": {},
          "execution_count": 53
        }
      ]
    },
    {
      "cell_type": "code",
      "metadata": {
        "id": "gVo2bjWzU5yJ",
        "colab": {
          "base_uri": "https://localhost:8080/",
          "height": 36
        },
        "outputId": "52897769-1a9e-4bd6-c1ac-656eeb6b063e"
      },
      "source": [
        "0 * 'Hello!'"
      ],
      "execution_count": null,
      "outputs": [
        {
          "output_type": "execute_result",
          "data": {
            "text/plain": [
              "''"
            ],
            "application/vnd.google.colaboratory.intrinsic+json": {
              "type": "string"
            }
          },
          "metadata": {},
          "execution_count": 54
        }
      ]
    },
    {
      "cell_type": "code",
      "metadata": {
        "id": "OqWWK6VWU5yJ",
        "colab": {
          "base_uri": "https://localhost:8080/"
        },
        "outputId": "9cafcbd2-84c3-4634-fe7a-0d0d1594c40c"
      },
      "source": [
        "2 * [1,2,3]"
      ],
      "execution_count": null,
      "outputs": [
        {
          "output_type": "execute_result",
          "data": {
            "text/plain": [
              "[1, 2, 3, 1, 2, 3]"
            ]
          },
          "metadata": {},
          "execution_count": 55
        }
      ]
    },
    {
      "cell_type": "markdown",
      "metadata": {
        "id": "Z28hpoAjU5yJ"
      },
      "source": [
        "Can you create a string with 100 A's (like `AAA...`)?  Use an appropriate operation in the cell below."
      ]
    },
    {
      "cell_type": "code",
      "metadata": {
        "id": "fAxwL5O3U5yJ",
        "colab": {
          "base_uri": "https://localhost:8080/",
          "height": 36
        },
        "outputId": "6da094bf-0c11-4d5d-bfd8-e9886daba665"
      },
      "source": [
        "#  Practice cell\n",
        "100 * 'A'"
      ],
      "execution_count": null,
      "outputs": [
        {
          "output_type": "execute_result",
          "data": {
            "text/plain": [
              "'AAAAAAAAAAAAAAAAAAAAAAAAAAAAAAAAAAAAAAAAAAAAAAAAAAAAAAAAAAAAAAAAAAAAAAAAAAAAAAAAAAAAAAAAAAAAAAAAAAAA'"
            ],
            "application/vnd.google.colaboratory.intrinsic+json": {
              "type": "string"
            }
          },
          "metadata": {},
          "execution_count": 56
        }
      ]
    },
    {
      "cell_type": "code",
      "source": [
        "type(Out[56])"
      ],
      "metadata": {
        "id": "MPplORRIbdaw",
        "outputId": "fbda18d4-32ed-4032-98c5-44918d9fec31",
        "colab": {
          "base_uri": "https://localhost:8080/"
        }
      },
      "execution_count": null,
      "outputs": [
        {
          "output_type": "execute_result",
          "data": {
            "text/plain": [
              "str"
            ]
          },
          "metadata": {},
          "execution_count": 57
        }
      ]
    },
    {
      "cell_type": "markdown",
      "metadata": {
        "id": "nHp8b6_8U5yJ"
      },
      "source": [
        "Exponents in Python are given by the `**` operator.  The following lines compute 2 to the 1000th power, in two different ways."
      ]
    },
    {
      "cell_type": "code",
      "metadata": {
        "id": "VNDmF-hcU5yK",
        "colab": {
          "base_uri": "https://localhost:8080/"
        },
        "outputId": "8612e9de-5db9-4cac-d039-bd248836907a"
      },
      "source": [
        "2**1000"
      ],
      "execution_count": null,
      "outputs": [
        {
          "output_type": "execute_result",
          "data": {
            "text/plain": [
              "10715086071862673209484250490600018105614048117055336074437503883703510511249361224931983788156958581275946729175531468251871452856923140435984577574698574803934567774824230985421074605062371141877954182153046474983581941267398767559165543946077062914571196477686542167660429831652624386837205668069376"
            ]
          },
          "metadata": {},
          "execution_count": 58
        }
      ]
    },
    {
      "cell_type": "code",
      "metadata": {
        "id": "DEHGNQ3RU5yK",
        "colab": {
          "base_uri": "https://localhost:8080/"
        },
        "outputId": "0cd6b62a-7957-44cd-c4b6-586da20d28fa"
      },
      "source": [
        "2.0**1000"
      ],
      "execution_count": null,
      "outputs": [
        {
          "output_type": "execute_result",
          "data": {
            "text/plain": [
              "1.0715086071862673e+301"
            ]
          },
          "metadata": {},
          "execution_count": 59
        }
      ]
    },
    {
      "cell_type": "markdown",
      "metadata": {
        "id": "O1bSyFFJU5yK"
      },
      "source": [
        "As before, Python interprets an operation (`**`) differently in different contexts.  When given integer input, Python evaluates `2**1000` **exactly**.  The result is a large integer.  A nice fact about Python, for mathematicians, is that it handles exact integers of arbitrary length!  Many other programming languages (like C++) will give an error message if integers get too large in the midst of a computation.  \n",
        "\n",
        "New in version 3.x, Python implements long integers without giving signals to the programmer or changing types.  In Python 2.x, there were two types: *int* for somewhat small integers (e.g., up to $2^{31}$) and *long* type for all larger integers.  Python 2.x would signal which type of integer was being used, by placing the letter \"L\" at the end of a long integer.  Now, in Python 3.x, the programmer doesn't really see the difference.  There is only the *int* type.  But Python still optimizes computations, using hardware functionality for arithmetic of small integers and custom routines for large integers.  The programmer doesn't have to worry about it most of the time.\n",
        "\n",
        "For scientific applications, one often wants to keep track of only a certain number of significant digits (sig figs).  If one computes the floating point exponent `2.0**1000`, the result is a decimal approximation.  It is still a float.  The expression \"e+301\" stands for \"multiplied by 10 to the 301st power\", i.e., Python uses *scientific notation* for large floats."
      ]
    },
    {
      "cell_type": "code",
      "metadata": {
        "id": "gbiP5lpxU5yK",
        "colab": {
          "base_uri": "https://localhost:8080/"
        },
        "outputId": "f147a467-bb02-4a70-c3df-4194094aa484"
      },
      "source": [
        "type(2**1000)"
      ],
      "execution_count": null,
      "outputs": [
        {
          "output_type": "execute_result",
          "data": {
            "text/plain": [
              "int"
            ]
          },
          "metadata": {},
          "execution_count": 60
        }
      ]
    },
    {
      "cell_type": "code",
      "metadata": {
        "id": "oYFQ7ZxFU5yL",
        "colab": {
          "base_uri": "https://localhost:8080/"
        },
        "outputId": "41b71dfe-8928-4898-dbd2-d99f48097a41"
      },
      "source": [
        "type(2.0**1000)"
      ],
      "execution_count": null,
      "outputs": [
        {
          "output_type": "execute_result",
          "data": {
            "text/plain": [
              "float"
            ]
          },
          "metadata": {},
          "execution_count": 61
        }
      ]
    },
    {
      "cell_type": "code",
      "metadata": {
        "id": "MtmwQzLgU5yL",
        "colab": {
          "base_uri": "https://localhost:8080/"
        },
        "outputId": "940168ed-e761-4a20-ec18-db1d3b66004c"
      },
      "source": [
        "#  An empty cell.  Have fun!\n",
        "2**31"
      ],
      "execution_count": null,
      "outputs": [
        {
          "output_type": "execute_result",
          "data": {
            "text/plain": [
              "2147483648"
            ]
          },
          "metadata": {},
          "execution_count": 62
        }
      ]
    },
    {
      "cell_type": "code",
      "source": [
        "2.0**31"
      ],
      "metadata": {
        "id": "Nd2gNXyXc8tF",
        "outputId": "11bf9d44-7380-47b7-e642-2c11ee441a82",
        "colab": {
          "base_uri": "https://localhost:8080/"
        }
      },
      "execution_count": null,
      "outputs": [
        {
          "output_type": "execute_result",
          "data": {
            "text/plain": [
              "2147483648.0"
            ]
          },
          "metadata": {},
          "execution_count": 63
        }
      ]
    },
    {
      "cell_type": "markdown",
      "metadata": {
        "id": "hu0LPXNLU5yL"
      },
      "source": [
        "Now is a good time for reflection.  Double-click in the cell below to answer the given questions.  Cells like this one are used for text rather than Python code.  Text is entered using *markdown*, but you can typically just enter text as you would in any text editor without problems.  Press *shift-Enter* after editing a text cell to complete the editing process.  "
      ]
    },
    {
      "cell_type": "markdown",
      "metadata": {
        "id": "QLyCVcXoU5yL"
      },
      "source": [
        "### Exercises\n",
        "\n",
        "1.  What data types have you seen, and what kinds of data are they used for?  Can you remember them without looking back?\n",
        "\n",
        "2.  How is division `/` interpreted differently for different types of data?\n",
        "\n",
        "3.  How is multiplication `*` interpreted differently for different types of data?\n",
        "\n",
        "4.  What is the difference between 100 and 100.0, for Python?"
      ]
    },
    {
      "cell_type": "markdown",
      "metadata": {
        "id": "KDzM72ZXU5yL"
      },
      "source": [
        "Double-click this text cell to edit it, and answer the exercises.  This **may be graded**, so please complete all questions!  Write in clear, complete, and concise sentences.\n",
        "\n",
        "1. Data types are outputs that printed out in a specific format. Some of the data types introduced in this section are: int (integer is printed), float (number with a decimal is printed), str (string - text in single quotation marks, like '...', is printed), list (a integer, float, or a string is printed in [...,...,...]), and a tuple (similar to a list but printed in a parentheses, like (...,...,...)).   \n",
        "\n",
        "2. With the division symbol /: integers and float data types results in a float, str and list and tuple data type results in an error, \n",
        "\n",
        "3. With eh multiplication symbol *: integer * integer = integer, integer * float = float, integer * 'string' = 'stringstring...\", integer * [1,2,3] = [1,2,3,1,2,3,...], integer * (1,2,3) = (1,2,3,1,2,3,...). \n",
        "\n",
        "4. 100 is an integer and 100.0 is a float. "
      ]
    },
    {
      "cell_type": "markdown",
      "metadata": {
        "id": "0jhkZ5zhU5yL"
      },
      "source": [
        "# Calculating with booleans"
      ]
    },
    {
      "cell_type": "markdown",
      "metadata": {
        "id": "IAb0HST5U5yM"
      },
      "source": [
        "A *boolean* (type *bool*) is the smallest possible piece of data.  While an *int* can be any integer, positive or negative, a *boolean* can only be one of two things:  *True* or *False*.  In this way, booleans are useful for storing the answers to yes/no questions.  \n",
        "\n",
        "Questions about (in)equality of numbers are answered in Python by *operations* with numerical input and boolean output.  Here are some examples.  A more complete reference is [in the official Python documentation](https://docs.python.org/3/library/stdtypes.html#boolean-operations-and-or-not)."
      ]
    },
    {
      "cell_type": "code",
      "metadata": {
        "id": "AqNG6PZBU5yM",
        "outputId": "85998f76-898a-4e89-f880-34db8767c20a",
        "colab": {
          "base_uri": "https://localhost:8080/"
        }
      },
      "source": [
        "3 > 2"
      ],
      "execution_count": null,
      "outputs": [
        {
          "output_type": "execute_result",
          "data": {
            "text/plain": [
              "True"
            ]
          },
          "metadata": {},
          "execution_count": 25
        }
      ]
    },
    {
      "cell_type": "code",
      "metadata": {
        "id": "nOgi4gqUU5yM",
        "outputId": "de1c0571-bff3-4c16-9864-a471f2ffdf88",
        "colab": {
          "base_uri": "https://localhost:8080/"
        }
      },
      "source": [
        "type(3 > 2)"
      ],
      "execution_count": null,
      "outputs": [
        {
          "output_type": "execute_result",
          "data": {
            "text/plain": [
              "bool"
            ]
          },
          "metadata": {},
          "execution_count": 26
        }
      ]
    },
    {
      "cell_type": "code",
      "metadata": {
        "id": "WabkpXPbU5yM",
        "outputId": "51f02dd0-0ec9-4858-963c-8ceb6a941b3c",
        "colab": {
          "base_uri": "https://localhost:8080/"
        }
      },
      "source": [
        "10 < 3"
      ],
      "execution_count": null,
      "outputs": [
        {
          "output_type": "execute_result",
          "data": {
            "text/plain": [
              "False"
            ]
          },
          "metadata": {},
          "execution_count": 27
        }
      ]
    },
    {
      "cell_type": "code",
      "metadata": {
        "id": "Mohc3o5oU5yM",
        "outputId": "98ffe8ac-9338-4b9b-d411-78484c421efe",
        "colab": {
          "base_uri": "https://localhost:8080/"
        }
      },
      "source": [
        "2.4 < 2.4000001"
      ],
      "execution_count": null,
      "outputs": [
        {
          "output_type": "execute_result",
          "data": {
            "text/plain": [
              "True"
            ]
          },
          "metadata": {},
          "execution_count": 28
        }
      ]
    },
    {
      "cell_type": "code",
      "metadata": {
        "id": "jnrzq17fU5yM",
        "outputId": "a05b2b7a-6be3-4dd6-c4cd-01a27535a106",
        "colab": {
          "base_uri": "https://localhost:8080/"
        }
      },
      "source": [
        "32 >= 32"
      ],
      "execution_count": null,
      "outputs": [
        {
          "output_type": "execute_result",
          "data": {
            "text/plain": [
              "True"
            ]
          },
          "metadata": {},
          "execution_count": 29
        }
      ]
    },
    {
      "cell_type": "code",
      "metadata": {
        "id": "D55td8J7U5yM",
        "outputId": "afc66766-c256-4846-fade-fd6df3c17782",
        "colab": {
          "base_uri": "https://localhost:8080/"
        }
      },
      "source": [
        "32 >= 31"
      ],
      "execution_count": null,
      "outputs": [
        {
          "output_type": "execute_result",
          "data": {
            "text/plain": [
              "True"
            ]
          },
          "metadata": {},
          "execution_count": 30
        }
      ]
    },
    {
      "cell_type": "code",
      "metadata": {
        "id": "L0RlreGLU5yM",
        "outputId": "f18b53e8-a67c-4980-e12b-f99671d3e548",
        "colab": {
          "base_uri": "https://localhost:8080/"
        }
      },
      "source": [
        "2 + 2 == 4"
      ],
      "execution_count": null,
      "outputs": [
        {
          "output_type": "execute_result",
          "data": {
            "text/plain": [
              "True"
            ]
          },
          "metadata": {},
          "execution_count": 31
        }
      ]
    },
    {
      "cell_type": "markdown",
      "metadata": {
        "id": "_f2QoYJ-U5yM"
      },
      "source": [
        "Which number is bigger:  $23^{32}$ or $32^{23}$?  Use the cell below to answer the question!"
      ]
    },
    {
      "cell_type": "code",
      "metadata": {
        "id": "PGlksxncU5yN",
        "outputId": "83da99dd-1365-4fb3-aeed-970dd9f6e088",
        "colab": {
          "base_uri": "https://localhost:8080/"
        }
      },
      "source": [
        "#  Write your code here.\n",
        "\n",
        "23**32 > 32**23\n"
      ],
      "execution_count": null,
      "outputs": [
        {
          "output_type": "execute_result",
          "data": {
            "text/plain": [
              "True"
            ]
          },
          "metadata": {},
          "execution_count": 35
        }
      ]
    },
    {
      "cell_type": "markdown",
      "source": [
        "* $23^{32}$ is bigger than $32^{23}$"
      ],
      "metadata": {
        "id": "eSO40__oW5GP"
      }
    },
    {
      "cell_type": "markdown",
      "metadata": {
        "id": "KTiAVQ0qU5yN"
      },
      "source": [
        "The expressions `<`, `>`, `<=`, `>=` are interpreted here as **operations** with numerical input and boolean output.  The symbol `==` (two equal symbols!) gives a True result if the numbers are equal, and False if the numbers are not equal.  An extremely common typo is to confuse `=` with `==`.  But the single equality symbol `=` has an entirely different meaning, as we shall see."
      ]
    },
    {
      "cell_type": "markdown",
      "metadata": {
        "id": "3atYTyAnU5yN"
      },
      "source": [
        "Using the remainder operator `%` and equality, we obtain a divisibility test."
      ]
    },
    {
      "cell_type": "code",
      "metadata": {
        "id": "t1BCq6GFU5yN",
        "outputId": "d04d264b-a139-46ec-a02c-1a3d7250b81c",
        "colab": {
          "base_uri": "https://localhost:8080/"
        }
      },
      "source": [
        "63 % 7 == 0  # Is 63 divisible by 7?"
      ],
      "execution_count": null,
      "outputs": [
        {
          "output_type": "execute_result",
          "data": {
            "text/plain": [
              "True"
            ]
          },
          "metadata": {},
          "execution_count": 36
        }
      ]
    },
    {
      "cell_type": "markdown",
      "source": [
        "* Yes"
      ],
      "metadata": {
        "id": "f8AZsR-jXrER"
      }
    },
    {
      "cell_type": "code",
      "metadata": {
        "id": "kYz8XfraU5yN",
        "outputId": "020c35a6-c889-4452-8d94-be0b673788d7",
        "colab": {
          "base_uri": "https://localhost:8080/"
        }
      },
      "source": [
        "101 % 2 == 0  # Is 101 even?"
      ],
      "execution_count": null,
      "outputs": [
        {
          "output_type": "execute_result",
          "data": {
            "text/plain": [
              "False"
            ]
          },
          "metadata": {},
          "execution_count": 37
        }
      ]
    },
    {
      "cell_type": "markdown",
      "source": [
        "* No"
      ],
      "metadata": {
        "id": "dbUephrKXs2n"
      }
    },
    {
      "cell_type": "markdown",
      "metadata": {
        "id": "0Iikx3JZU5yN"
      },
      "source": [
        "Use the cell below to determine whether 1234567890 is divisible by 3."
      ]
    },
    {
      "cell_type": "code",
      "metadata": {
        "id": "LPqBN_VlU5yN",
        "outputId": "89cad57f-12a2-449a-e74c-106957d5f053",
        "colab": {
          "base_uri": "https://localhost:8080/"
        }
      },
      "source": [
        "# Your code goes here.\n",
        "\n",
        "1234567890 % 3 == 0\n"
      ],
      "execution_count": null,
      "outputs": [
        {
          "output_type": "execute_result",
          "data": {
            "text/plain": [
              "True"
            ]
          },
          "metadata": {},
          "execution_count": 38
        }
      ]
    },
    {
      "cell_type": "markdown",
      "source": [
        "* 1234567890 is divisible by 3."
      ],
      "metadata": {
        "id": "jy2g3ozzYG98"
      }
    },
    {
      "cell_type": "markdown",
      "metadata": {
        "id": "Tvle2bwdU5yN"
      },
      "source": [
        "Booleans can be operated on by the standard logical operations: and, or, not.  In ordinary English usage, \"and\" and \"or\" are conjunctions, while here in *Boolean algebra*, \"and\" and \"or\" are operations with Boolean inputs and Boolean output.  The precise meanings of \"and\" and \"or\" are given by the following **truth tables**.\n",
        "\n",
        "    \n",
        "| and | True | False |\n",
        "|-----|------|-------|\n",
        "| **True** | True | False |\n",
        "| **False** | False | False|\n",
        "\n",
        "<br>\n",
        "  \n",
        "| or | True | False |\n",
        "|-----|------|-------|\n",
        "| **True** | True | True |\n",
        "| **False** | True | False|"
      ]
    },
    {
      "cell_type": "code",
      "metadata": {
        "id": "eRo1A6IzU5yN",
        "outputId": "8d4d40ff-a861-48ff-875e-8c186f74695f",
        "colab": {
          "base_uri": "https://localhost:8080/"
        }
      },
      "source": [
        "True and False"
      ],
      "execution_count": null,
      "outputs": [
        {
          "output_type": "execute_result",
          "data": {
            "text/plain": [
              "False"
            ]
          },
          "metadata": {},
          "execution_count": 39
        }
      ]
    },
    {
      "cell_type": "code",
      "metadata": {
        "id": "sFMWK-0HU5yN",
        "outputId": "eeaa4f75-b432-4415-c59d-b47f0a8fb38c",
        "colab": {
          "base_uri": "https://localhost:8080/"
        }
      },
      "source": [
        "True or False"
      ],
      "execution_count": null,
      "outputs": [
        {
          "output_type": "execute_result",
          "data": {
            "text/plain": [
              "True"
            ]
          },
          "metadata": {},
          "execution_count": 40
        }
      ]
    },
    {
      "cell_type": "code",
      "metadata": {
        "id": "5bREtxzOU5yN",
        "outputId": "c32ee0b9-5b4b-4408-8eba-24a87b02d2f1",
        "colab": {
          "base_uri": "https://localhost:8080/"
        }
      },
      "source": [
        "True or True"
      ],
      "execution_count": null,
      "outputs": [
        {
          "output_type": "execute_result",
          "data": {
            "text/plain": [
              "True"
            ]
          },
          "metadata": {},
          "execution_count": 41
        }
      ]
    },
    {
      "cell_type": "code",
      "metadata": {
        "id": "DP0Rw6jDU5yO",
        "outputId": "aeb6aa2b-b62e-46bf-feba-6364e9a04efa",
        "colab": {
          "base_uri": "https://localhost:8080/"
        }
      },
      "source": [
        "not True"
      ],
      "execution_count": null,
      "outputs": [
        {
          "output_type": "execute_result",
          "data": {
            "text/plain": [
              "False"
            ]
          },
          "metadata": {},
          "execution_count": 42
        }
      ]
    },
    {
      "cell_type": "markdown",
      "metadata": {
        "id": "DRKe3Jv8U5yO"
      },
      "source": [
        "Use the truth tables to predict the result (True or False) of each of the following, before evaluating the code."
      ]
    },
    {
      "cell_type": "markdown",
      "source": [
        "* The following code will result in False."
      ],
      "metadata": {
        "id": "XTY9Eu0MZPcg"
      }
    },
    {
      "cell_type": "code",
      "metadata": {
        "id": "NVKb_6njU5yO",
        "outputId": "fecd9e1c-c5e3-47a7-f858-05382b3b2a28",
        "colab": {
          "base_uri": "https://localhost:8080/"
        }
      },
      "source": [
        "(2 > 3) and (3 > 2)"
      ],
      "execution_count": null,
      "outputs": [
        {
          "output_type": "execute_result",
          "data": {
            "text/plain": [
              "False"
            ]
          },
          "metadata": {},
          "execution_count": 43
        }
      ]
    },
    {
      "cell_type": "markdown",
      "source": [
        "* The following code will result in True."
      ],
      "metadata": {
        "id": "tLkhgowaZWUj"
      }
    },
    {
      "cell_type": "code",
      "metadata": {
        "id": "JrprEal6U5yO",
        "outputId": "669e0336-21a8-4a1a-ab1e-c6b6ed34c4ee",
        "colab": {
          "base_uri": "https://localhost:8080/"
        }
      },
      "source": [
        "(1 + 1 == 2) or (1 + 1 == 3)"
      ],
      "execution_count": null,
      "outputs": [
        {
          "output_type": "execute_result",
          "data": {
            "text/plain": [
              "True"
            ]
          },
          "metadata": {},
          "execution_count": 44
        }
      ]
    },
    {
      "cell_type": "markdown",
      "source": [
        "* The following code will result in False."
      ],
      "metadata": {
        "id": "d6_GIALYZdgD"
      }
    },
    {
      "cell_type": "code",
      "metadata": {
        "scrolled": true,
        "id": "Ef-ryEGjU5yO",
        "outputId": "6add92ef-2b4a-4549-a53a-15432604921f",
        "colab": {
          "base_uri": "https://localhost:8080/"
        }
      },
      "source": [
        "not (-1 + 1 >= 0)"
      ],
      "execution_count": null,
      "outputs": [
        {
          "output_type": "execute_result",
          "data": {
            "text/plain": [
              "False"
            ]
          },
          "metadata": {},
          "execution_count": 45
        }
      ]
    },
    {
      "cell_type": "markdown",
      "source": [
        "* The following code will result in True."
      ],
      "metadata": {
        "id": "y3cTdcTJZiYH"
      }
    },
    {
      "cell_type": "code",
      "metadata": {
        "id": "FUSY_QuLU5yO",
        "outputId": "b268726a-90f8-46af-af8f-9bd6638525bb",
        "colab": {
          "base_uri": "https://localhost:8080/"
        }
      },
      "source": [
        "2 + 2 == 4"
      ],
      "execution_count": null,
      "outputs": [
        {
          "output_type": "execute_result",
          "data": {
            "text/plain": [
              "True"
            ]
          },
          "metadata": {},
          "execution_count": 46
        }
      ]
    },
    {
      "cell_type": "markdown",
      "source": [
        "* The following code will result in False."
      ],
      "metadata": {
        "id": "51gPZUhnZkei"
      }
    },
    {
      "cell_type": "code",
      "metadata": {
        "id": "hKTk4LjaU5yO",
        "outputId": "fa76596b-269d-4720-c605-0a85b3dbf659",
        "colab": {
          "base_uri": "https://localhost:8080/"
        }
      },
      "source": [
        "2 + 2 != 4  # For \"not equal\", Python uses the operation `!=`."
      ],
      "execution_count": null,
      "outputs": [
        {
          "output_type": "execute_result",
          "data": {
            "text/plain": [
              "False"
            ]
          },
          "metadata": {},
          "execution_count": 47
        }
      ]
    },
    {
      "cell_type": "markdown",
      "source": [
        "* The following code will result in True."
      ],
      "metadata": {
        "id": "snOxWXSAZwsu"
      }
    },
    {
      "cell_type": "code",
      "metadata": {
        "id": "UsJtoToLU5yO",
        "outputId": "6b042ea6-5a27-43ba-dd35-4d84b2eae889",
        "colab": {
          "base_uri": "https://localhost:8080/"
        }
      },
      "source": [
        "2 + 2 != 5  # Is 2+2 *not* equal to 5?"
      ],
      "execution_count": null,
      "outputs": [
        {
          "output_type": "execute_result",
          "data": {
            "text/plain": [
              "True"
            ]
          },
          "metadata": {},
          "execution_count": 48
        }
      ]
    },
    {
      "cell_type": "markdown",
      "source": [
        "* The following code will result in True."
      ],
      "metadata": {
        "id": "RDWG7PxFZzBZ"
      }
    },
    {
      "cell_type": "code",
      "metadata": {
        "id": "tVfKlWT_U5yO",
        "outputId": "b44343ad-5e57-495a-c43a-a15b0b04aedd",
        "colab": {
          "base_uri": "https://localhost:8080/"
        }
      },
      "source": [
        "not (2 + 2 == 5)  # The same as above, but a bit longer to write."
      ],
      "execution_count": null,
      "outputs": [
        {
          "output_type": "execute_result",
          "data": {
            "text/plain": [
              "True"
            ]
          },
          "metadata": {},
          "execution_count": 49
        }
      ]
    },
    {
      "cell_type": "markdown",
      "metadata": {
        "id": "uwxFqT9uU5yO"
      },
      "source": [
        "Experiment below to see how Python handles a double or triple negative, i.e., something with a `not` `not`."
      ]
    },
    {
      "cell_type": "code",
      "metadata": {
        "id": "nD-RgY0CU5yP",
        "outputId": "30758d98-b6cc-4810-f1dc-a791cdaa9eb1",
        "colab": {
          "base_uri": "https://localhost:8080/"
        }
      },
      "source": [
        "# Experiment here.\n",
        "not(not(2 + 2 != 4))"
      ],
      "execution_count": null,
      "outputs": [
        {
          "output_type": "execute_result",
          "data": {
            "text/plain": [
              "False"
            ]
          },
          "metadata": {},
          "execution_count": 50
        }
      ]
    },
    {
      "cell_type": "markdown",
      "metadata": {
        "id": "5xxO21m1U5yP"
      },
      "source": [
        "Python does give an interpretation to arithmetic operations with booleans and numbers.  Try to guess this interpretation with the following examples.  Change the examples to experiment!"
      ]
    },
    {
      "cell_type": "markdown",
      "source": [
        "* The following code will result in 100 Falses. "
      ],
      "metadata": {
        "id": "pk4LoyiIadv0"
      }
    },
    {
      "cell_type": "code",
      "metadata": {
        "id": "Y2lLPpdWU5yP",
        "outputId": "b1e108df-1b17-49d3-abad-78e6afe37ca8",
        "colab": {
          "base_uri": "https://localhost:8080/"
        }
      },
      "source": [
        "False * 100"
      ],
      "execution_count": null,
      "outputs": [
        {
          "output_type": "execute_result",
          "data": {
            "text/plain": [
              "0"
            ]
          },
          "metadata": {},
          "execution_count": 51
        }
      ]
    },
    {
      "cell_type": "markdown",
      "source": [
        "* I was wrong."
      ],
      "metadata": {
        "id": "Gv64Tf_-alw4"
      }
    },
    {
      "cell_type": "markdown",
      "source": [
        "* I don't know, honestly. "
      ],
      "metadata": {
        "id": "RIFfhaygatgs"
      }
    },
    {
      "cell_type": "code",
      "metadata": {
        "id": "5y3rtwrdU5yP",
        "outputId": "5808ae08-fede-486f-c19c-5e308d5fc21d",
        "colab": {
          "base_uri": "https://localhost:8080/"
        }
      },
      "source": [
        "True + 13"
      ],
      "execution_count": null,
      "outputs": [
        {
          "output_type": "execute_result",
          "data": {
            "text/plain": [
              "14"
            ]
          },
          "metadata": {},
          "execution_count": 52
        }
      ]
    },
    {
      "cell_type": "markdown",
      "source": [
        "* Yeah, I don't understand this. \n",
        "* Does False = 0, and True = 1???"
      ],
      "metadata": {
        "id": "WwZiK5n0axyR"
      }
    },
    {
      "cell_type": "code",
      "source": [
        "False + 100"
      ],
      "metadata": {
        "id": "pvQX70Zza6Ss",
        "outputId": "dcc09f4e-6e1a-435c-d26a-365fdd9b514f",
        "colab": {
          "base_uri": "https://localhost:8080/"
        }
      },
      "execution_count": null,
      "outputs": [
        {
          "output_type": "execute_result",
          "data": {
            "text/plain": [
              "100"
            ]
          },
          "metadata": {},
          "execution_count": 54
        }
      ]
    },
    {
      "cell_type": "code",
      "source": [
        "True + 90"
      ],
      "metadata": {
        "id": "34eboe1ba9K1",
        "outputId": "abc416d5-d57a-47c0-d5d3-b0e8f7fa0478",
        "colab": {
          "base_uri": "https://localhost:8080/"
        }
      },
      "execution_count": null,
      "outputs": [
        {
          "output_type": "execute_result",
          "data": {
            "text/plain": [
              "91"
            ]
          },
          "metadata": {},
          "execution_count": 56
        }
      ]
    },
    {
      "cell_type": "markdown",
      "source": [
        "* I think that's true, so I guess now I understand. "
      ],
      "metadata": {
        "id": "dndCP8b0a_64"
      }
    },
    {
      "cell_type": "markdown",
      "metadata": {
        "id": "QOkU3A_fU5yP"
      },
      "source": [
        "This ability of Python to interpret operations based on context is a mixed blessing.  On one hand, it leads to handy shortcuts -- quick ways of writing complicated programs.  On the other hand, it can lead to code that is harder to read, especially for a Python novice.  Good programmers aim for code that is easy to read, not just short!\n",
        "\n",
        "The [Zen of Python](https://www.python.org/dev/peps/pep-0020/) is a series of 20 aphorisms for Python programmers.  The first seven are below.\n",
        "\n",
        "> Beautiful is better than ugly.\n",
        "\n",
        "> Explicit is better than implicit.\n",
        "\n",
        "> Simple is better than complex.\n",
        "\n",
        "> Complex is better than complicated.\n",
        "\n",
        "> Flat is better than nested.\n",
        "\n",
        "> Sparse is better than dense.\n",
        "\n",
        "> Readability counts."
      ]
    },
    {
      "cell_type": "markdown",
      "metadata": {
        "id": "_5mUQ1tCU5yP"
      },
      "source": [
        "### Exercises\n",
        "\n",
        "1.  Did you look at the truth tables closely?  Can you remember, from memory, what `True or False` equals, or what `True and False` equals?  \n",
        "\n",
        "2.  How might you easily remember the truth tables?  How do they resemble the standard English usage of the words \"and\" and \"or\"?\n",
        "\n",
        "3.  If you wanted to know whether a number, like 2349872348723, is a multiple of 7 but **not** a multiple of 11, how might you write this in one line of Python code?\n",
        "\n",
        "4.  You can chain together `and` commands, e.g., with an expression like `True and True and True` (which would evaluate to `True`).  You can also group booleans, e.g., with `True and (True or False)`.  Experiment to figure out the order of operations (`and`, `or`, `not`) for booleans.\n",
        "\n",
        "6.  The operation `xor` means \"exclusive or\".  Its truth table is: `True xor True = False` and `False xor False = False` and `True xor False = True` and `False xor True = True`.  How might you implement `xor` in terms of the usual `and`, `or`, and `not`?\n",
        "\n"
      ]
    },
    {
      "cell_type": "markdown",
      "metadata": {
        "id": "owWkn3ieU5yP"
      },
      "source": [
        "###  Solutions\n",
        "\n",
        "1. Yes, I did. True or False equals to True, and True and False equals to False. \n",
        "\n",
        "2. I would easily remember the truth tables because of their resemblance with the Standard English usage of the word \"and\" and \"or.\" For \"and,\" both are represented so if there is at least one False then the expression is False, but if there is no False, two True, then it is True. For \"or,\" only one is represented so if there is at least one True then the expression is True, but if there is no True, two False, then it is False.  \n",
        "\n",
        "3. I would write 2349872348723 % 7 == 0 and 2349872348723 % 11 != 0\n",
        "\n",
        "4. My understanding with order of operations for the booleans is the `not` will be solved first since it has parenthesis then whatever is from left to right with `and` and `or`.\n",
        "\n",
        "5. `xor` would be the first term I would solve first if there is no `not`, but if there was then it would be whatever it is in `not` then `xor` then left to right with `and` and `or`."
      ]
    },
    {
      "cell_type": "code",
      "source": [
        "False and True or False or not(True and False)"
      ],
      "metadata": {
        "id": "w9wQduJBpwaD",
        "outputId": "bd244a85-dbe0-4ec2-f712-603b59cdc165",
        "colab": {
          "base_uri": "https://localhost:8080/"
        }
      },
      "execution_count": null,
      "outputs": [
        {
          "output_type": "execute_result",
          "data": {
            "text/plain": [
              "True"
            ]
          },
          "metadata": {},
          "execution_count": 17
        }
      ]
    },
    {
      "cell_type": "code",
      "source": [
        "True ^ False and not(True and True)"
      ],
      "metadata": {
        "id": "MAXB03lTq2ci",
        "outputId": "c6fba91a-eb90-40bc-e0f9-b3ff1d6a0b55",
        "colab": {
          "base_uri": "https://localhost:8080/"
        }
      },
      "execution_count": null,
      "outputs": [
        {
          "output_type": "execute_result",
          "data": {
            "text/plain": [
              "False"
            ]
          },
          "metadata": {},
          "execution_count": 31
        }
      ]
    },
    {
      "cell_type": "markdown",
      "metadata": {
        "id": "k69tL17JU5yP"
      },
      "source": [
        "# Declaring variables\n",
        "\n",
        "---\n",
        "\n"
      ]
    },
    {
      "cell_type": "markdown",
      "metadata": {
        "id": "UjI-5d00U5yP"
      },
      "source": [
        "A central feature of programming is the declaration of variables.  When you declare a variable, you are *storing* data in the computer's *memory* and you are assigning a *name* to that data.  Both storage and name-assignment are carried out with the *single* equality symbol =."
      ]
    },
    {
      "cell_type": "code",
      "metadata": {
        "id": "hkwJHNVpU5yQ"
      },
      "source": [
        "e = 2.71828"
      ],
      "execution_count": null,
      "outputs": []
    },
    {
      "cell_type": "markdown",
      "metadata": {
        "id": "gY-LejB4U5yQ"
      },
      "source": [
        "With this command, the float 2.71828 is stored somewhere inside your computer, and Python can access this stored number by the name \"e\" thereafter.  So if you want to compute \"e squared\", a single command will do."
      ]
    },
    {
      "cell_type": "code",
      "metadata": {
        "id": "2ZJ7VtIwU5yQ",
        "outputId": "5113fa53-970e-4e90-fdc0-8612ccb4d562",
        "colab": {
          "base_uri": "https://localhost:8080/"
        }
      },
      "source": [
        "e * e"
      ],
      "execution_count": null,
      "outputs": [
        {
          "output_type": "execute_result",
          "data": {
            "text/plain": [
              "7.3890461584"
            ]
          },
          "metadata": {},
          "execution_count": 2
        }
      ]
    },
    {
      "cell_type": "code",
      "metadata": {
        "id": "G46Ma5fCU5yQ",
        "outputId": "91c27920-280d-472b-d33f-81382d703516",
        "colab": {
          "base_uri": "https://localhost:8080/"
        }
      },
      "source": [
        "type(e)"
      ],
      "execution_count": null,
      "outputs": [
        {
          "output_type": "execute_result",
          "data": {
            "text/plain": [
              "float"
            ]
          },
          "metadata": {},
          "execution_count": 3
        }
      ]
    },
    {
      "cell_type": "markdown",
      "metadata": {
        "id": "cWVyUzZxU5yQ"
      },
      "source": [
        "You can use just about any name you want for a variable, but your name *must* start with a letter, *must* not contain spaces, and your name *must* not be an existing Python word.  Characters in a variable name can include letters (uppercase and lowercase) and numbers and underscores `_`.  \n",
        "\n",
        "So `e` is a valid name for a variable, but `type` is a bad name.  It is very tempting for beginners to use very short abbreviation-style names for variables (like `dx` or `vbn`).  But resist that temptation and use more descriptive names for variables, like `difference_x` or `very_big_number`.  This will make your code readable by you and others!\n",
        "\n",
        "There are different style conventions for variable names.  We use lowercase names, with underscores separating words,  roughly following [Google's style conventions](https://google.github.io/styleguide/pyguide.html#Python_Style_Rules) for Python code."
      ]
    },
    {
      "cell_type": "code",
      "metadata": {
        "id": "yQN7N7ZPU5yQ"
      },
      "source": [
        "my_number = 17"
      ],
      "execution_count": null,
      "outputs": []
    },
    {
      "cell_type": "code",
      "metadata": {
        "id": "FitPq8UNU5yQ",
        "outputId": "b292b537-ff98-47ff-dd48-0344043d499d",
        "colab": {
          "base_uri": "https://localhost:8080/"
        }
      },
      "source": [
        "my_number < 23"
      ],
      "execution_count": null,
      "outputs": [
        {
          "output_type": "execute_result",
          "data": {
            "text/plain": [
              "True"
            ]
          },
          "metadata": {},
          "execution_count": 5
        }
      ]
    },
    {
      "cell_type": "markdown",
      "metadata": {
        "id": "ne_mUsdnU5yQ"
      },
      "source": [
        "After you declare a variable, its value remains the same until it is changed.  You can change the value of a variable with a simple assignment.  After the above lines, the value of my_number is 17."
      ]
    },
    {
      "cell_type": "code",
      "metadata": {
        "id": "Eu-rHwt0U5yQ"
      },
      "source": [
        "my_number = 3.14"
      ],
      "execution_count": null,
      "outputs": []
    },
    {
      "cell_type": "markdown",
      "metadata": {
        "id": "cqgxOyyEU5yQ"
      },
      "source": [
        "This command reassigns the value of my_number to 3.14.  Note that it changes the type too!  It effectively overrides the previous value and replaces it with the new value.\n",
        "\n",
        "Often it is useful to change the value of a variable *incrementally* or *recursively*.  Python, like many programming languages, allows one to assign variables in a self-referential way.  What do you think the value of S will be after the following four lines?"
      ]
    },
    {
      "cell_type": "code",
      "metadata": {
        "id": "zW6_fRoxU5yR",
        "outputId": "6900ecf5-6ebd-4c52-82a0-c21b7ffb69f3",
        "colab": {
          "base_uri": "https://localhost:8080/"
        }
      },
      "source": [
        "S = 0\n",
        "S = S + 1\n",
        "S = S + 2\n",
        "S = S + 3\n",
        "print(S)"
      ],
      "execution_count": null,
      "outputs": [
        {
          "output_type": "stream",
          "name": "stdout",
          "text": [
            "6\n"
          ]
        }
      ]
    },
    {
      "cell_type": "markdown",
      "metadata": {
        "id": "cX1eo3jZU5yR"
      },
      "source": [
        "The first line `S = 0` is the initial declaration:  the value 0 is stored in memory, and the name S is assigned to this value.\n",
        "\n",
        "The next line `S = S + 1` looks like nonsense, as an algebraic sentence.  But reading = as **assignment** rather than **equality**, you should read the line `S = S + 1` as assigning the *value* `S + 1` to the *name* `S`.  When Python interprets `S = S + 1`, it carries out the following steps.\n",
        "\n",
        "1.  Compute the value of the right side, `S+1`.  (The value is 1, since `S` was assigned the value 0 in the previous line.)\n",
        "2.  Assign the name `S` to this new value.   (Now `S` has the value 1.)\n",
        "\n",
        "Well, this is a slight lie.  Python probably does something more efficient, when given the command `S = S + 1`, since such operations are hard-wired in the computer and the Python interpreter is smart enough to take the most efficient route.  But at this level, it is most useful to think of a self-referential assignment of the form `X = expression(X)` as a two step process as above.\n",
        "\n",
        "1.  Compute the value of `expression(X)`.\n",
        "2.  Assign this value to the name `X`."
      ]
    },
    {
      "cell_type": "markdown",
      "metadata": {
        "id": "82NT9vo2U5yR"
      },
      "source": [
        "Now consider the following three commands."
      ]
    },
    {
      "cell_type": "code",
      "metadata": {
        "id": "CbT40NiuU5yR"
      },
      "source": [
        "my_number = 17\n",
        "new_number = my_number + 1\n",
        "my_number = 3.14"
      ],
      "execution_count": null,
      "outputs": []
    },
    {
      "cell_type": "markdown",
      "metadata": {
        "id": "yQz42J2dU5yR"
      },
      "source": [
        "What are the values of the variables my_number and new_number, after the execution of these three lines?\n",
        "\n",
        "To access these values, you can use the *print* function."
      ]
    },
    {
      "cell_type": "markdown",
      "source": [
        "* After the execution of these three lines, my_number will result to 3.14 and new_number will result to 18."
      ],
      "metadata": {
        "id": "kh5SsrqIWcJo"
      }
    },
    {
      "cell_type": "code",
      "metadata": {
        "id": "5J4rfa08U5yR",
        "outputId": "f9d027d4-d3f1-4a83-8c3e-7f28924e1204",
        "colab": {
          "base_uri": "https://localhost:8080/"
        }
      },
      "source": [
        "print(my_number)\n",
        "print(new_number)"
      ],
      "execution_count": null,
      "outputs": [
        {
          "output_type": "stream",
          "name": "stdout",
          "text": [
            "3.14\n",
            "18\n"
          ]
        }
      ]
    },
    {
      "cell_type": "markdown",
      "metadata": {
        "id": "DbEoFnjnU5yR"
      },
      "source": [
        "Python is an *interpreted* language, which carries out commands line-by-line from top to bottom.  So consider the three lines\n",
        "\n",
        "``` python\n",
        "my_number = 17\n",
        "new_number = my_number + 1\n",
        "my_number = 3.14\n",
        "```\n",
        "\n",
        "Line 1 sets the value of my_number to 17.  Line 2 sets the value of new_number to 18.  Line 3 sets the value of my_number to 3.14.  But Line 3 does *not* change the value of new_number at all.\n",
        "\n",
        "(This will become confusing and complicated later, as we study mutable and immutable types.)"
      ]
    },
    {
      "cell_type": "markdown",
      "metadata": {
        "id": "PFA4Q7SiU5yR"
      },
      "source": [
        "### Exercises\n",
        "\n",
        "1.  What is the difference between `=` and `==` in the Python language?\n",
        "\n",
        "2.  If the variable `x` has value `3`, and you then evaluate the Python command `x = x * x`, what will be the value of `x` after evaluation?\n",
        "\n",
        "3.  Imagine you have two variables `a` and `b`, and you want to switch their values.  How could you do this in Python?\n",
        "\n",
        "4.  Kepler's third law states that for a planet in circular orbit around an object of mass $M$, one has $4 \\pi^2 r^3 = G M t^2$.  We can use this to estimate the mass of the sun, from other astronomically observable quantities.  Look up $G$ (the gravitational constant, estimated by experiment on Earth) and $r$ (the distance from the Earth to the sun, in meters).  Compute $t$, the number of seconds it takes for the Earth to go around the sun (365.25 days).  Finally use all of this to estimate $M$, the mass of the sun.  Your solution should use 5-10 lines of Python code."
      ]
    },
    {
      "cell_type": "markdown",
      "metadata": {
        "id": "sIeJz7hUU5yR"
      },
      "source": [
        "### Solutions\n",
        "\n",
        "(Use this space to work on the exercises.  Place more code and text cells above as needed.)\n",
        "\n",
        "1. `=` signs a variable to a number or expression, while `==` determines whether it is true or not.\n",
        "\n",
        "2. If the variable x = 3, the Phython command x = x * x will equal to 9 after the evaluation. \n",
        "\n",
        "3. If we have two variables a and b and want to switch their values, we would use this code: \n",
        "  a = ...\n",
        "  b = ...\n",
        "  c = a\n",
        "  a = b\n",
        "  b = c\n",
        "\n",
        "4. M = 4 pi^2 r^3 / G * t^2, code below"
      ]
    },
    {
      "cell_type": "code",
      "source": [
        "G = 6.6743 * 10 ** -11\n",
        "r = 149600000000\n",
        "pi = 3.14159265359\n",
        "hours = 365.25 * 24 # 365/x = 1/24\n",
        "mins = hours * 60 # hours/x = 1/60\n",
        "t = mins * 60 # mins/x = 1/60\n",
        "M = (4 * pi ** 2 * r ** 3) / (G * t ** 2)\n",
        "print(M)"
      ],
      "metadata": {
        "id": "goiC-ftIX2P1",
        "outputId": "e8bc5c13-85e4-4917-a8cb-1183474f9a75",
        "colab": {
          "base_uri": "https://localhost:8080/"
        }
      },
      "execution_count": null,
      "outputs": [
        {
          "output_type": "stream",
          "name": "stdout",
          "text": [
            "1.988569891052582e+30\n"
          ]
        }
      ]
    },
    {
      "cell_type": "markdown",
      "metadata": {
        "id": "b81C2aIPU5yS"
      },
      "source": [
        "# Lists and ranges"
      ]
    },
    {
      "cell_type": "markdown",
      "metadata": {
        "id": "iZoKvbn0U5yS"
      },
      "source": [
        "Python stands out for the central role played by *lists*.  A *list* is what it sounds like -- a list of data.  Data within a list can be of any type.  Multiple types are possible within the same list!  The basic syntax for a list is to use brackets to enclose the list items and commas to separate the list items."
      ]
    },
    {
      "cell_type": "code",
      "metadata": {
        "id": "MQRMJWrgU5yS",
        "outputId": "e0389349-803f-41dd-d97e-766e84125eb5",
        "colab": {
          "base_uri": "https://localhost:8080/"
        }
      },
      "source": [
        "type([1,2,3])"
      ],
      "execution_count": null,
      "outputs": [
        {
          "output_type": "execute_result",
          "data": {
            "text/plain": [
              "list"
            ]
          },
          "metadata": {},
          "execution_count": 16
        }
      ]
    },
    {
      "cell_type": "code",
      "metadata": {
        "id": "BkTCBWhsU5yS",
        "outputId": "60a62905-cce4-4352-cd5e-14170e7b3c4f",
        "colab": {
          "base_uri": "https://localhost:8080/"
        }
      },
      "source": [
        "type(['Hello',17])"
      ],
      "execution_count": null,
      "outputs": [
        {
          "output_type": "execute_result",
          "data": {
            "text/plain": [
              "list"
            ]
          },
          "metadata": {},
          "execution_count": 17
        }
      ]
    },
    {
      "cell_type": "markdown",
      "metadata": {
        "id": "DH51tlMvU5yS"
      },
      "source": [
        "There is another type called a *tuple* that we will use less often.  Tuples use parentheses for enclosure instead of brackets."
      ]
    },
    {
      "cell_type": "code",
      "metadata": {
        "id": "8m1KBuRNU5yS",
        "outputId": "1fe0d1a3-3056-46ae-a5f4-3c043d14c00a",
        "colab": {
          "base_uri": "https://localhost:8080/"
        }
      },
      "source": [
        "type((1,2,3))"
      ],
      "execution_count": null,
      "outputs": [
        {
          "output_type": "execute_result",
          "data": {
            "text/plain": [
              "tuple"
            ]
          },
          "metadata": {},
          "execution_count": 18
        }
      ]
    },
    {
      "cell_type": "markdown",
      "metadata": {
        "id": "sFZr5TtpU5yS"
      },
      "source": [
        "There's another list-like type in Python 3, called the `range` type.  Ranges are kind of like lists, but instead of plunking every item into a slot of memory, ranges just have to remember three integers:  their *start*, their *stop*, and their *step*.    \n",
        "\n",
        "The `range` command creates a range with a given start, stop, and step.  If you only input one number, the range will ***start at zero*** and use ***steps of one*** and will stop ***just before*** the given stop-number.\n",
        "\n",
        "One can create a list from a range (plunking every term in the range into a slot of memory), by using the `list` command.  Here are a few examples."
      ]
    },
    {
      "cell_type": "code",
      "metadata": {
        "id": "0N_HejMiU5yS",
        "outputId": "d8cfa439-9d70-40b4-fd90-853e36899d7a",
        "colab": {
          "base_uri": "https://localhost:8080/"
        }
      },
      "source": [
        "type(range(10)) # Ranges are their own type, in Python 3.x.  Not in Python 2.x!"
      ],
      "execution_count": null,
      "outputs": [
        {
          "output_type": "execute_result",
          "data": {
            "text/plain": [
              "range"
            ]
          },
          "metadata": {},
          "execution_count": 19
        }
      ]
    },
    {
      "cell_type": "code",
      "metadata": {
        "id": "XzlQhL4eU5yS",
        "outputId": "a8ca1f17-a7a4-4165-c492-3718164821e7",
        "colab": {
          "base_uri": "https://localhost:8080/"
        }
      },
      "source": [
        "list(range(10)) # Let's see what's in the range.  Note it starts at zero!  Where does it stop?"
      ],
      "execution_count": null,
      "outputs": [
        {
          "output_type": "execute_result",
          "data": {
            "text/plain": [
              "[0, 1, 2, 3, 4, 5, 6, 7, 8, 9]"
            ]
          },
          "metadata": {},
          "execution_count": 20
        }
      ]
    },
    {
      "cell_type": "markdown",
      "metadata": {
        "id": "7-TeavRKU5yS"
      },
      "source": [
        "A more complicated two-input form of the range command produces a range of integers **starting at** a given number, and **terminating before** another given number."
      ]
    },
    {
      "cell_type": "code",
      "metadata": {
        "id": "fpHHkb82U5yT",
        "outputId": "e3523ddc-a8aa-482e-baf3-3783f6f3e23e",
        "colab": {
          "base_uri": "https://localhost:8080/"
        }
      },
      "source": [
        "list(range(3,10))"
      ],
      "execution_count": null,
      "outputs": [
        {
          "output_type": "execute_result",
          "data": {
            "text/plain": [
              "[3, 4, 5, 6, 7, 8, 9]"
            ]
          },
          "metadata": {},
          "execution_count": 21
        }
      ]
    },
    {
      "cell_type": "code",
      "metadata": {
        "id": "O5A8XZFxU5yT",
        "outputId": "0e49e3f5-ea27-4875-fe1f-ae62e64a50a3",
        "colab": {
          "base_uri": "https://localhost:8080/"
        }
      },
      "source": [
        "list(range(-4,5))"
      ],
      "execution_count": null,
      "outputs": [
        {
          "output_type": "execute_result",
          "data": {
            "text/plain": [
              "[-4, -3, -2, -1, 0, 1, 2, 3, 4]"
            ]
          },
          "metadata": {},
          "execution_count": 22
        }
      ]
    },
    {
      "cell_type": "markdown",
      "metadata": {
        "id": "dRzyphm5U5yT"
      },
      "source": [
        "This is a common source of difficulty for Python beginners.  While the first parameter (-4) is the starting point of the list, the list ends just before the second parameter (5).  This takes some getting used to, but experienced Python programmers grow to like this convention."
      ]
    },
    {
      "cell_type": "markdown",
      "metadata": {
        "id": "XderpNFAU5yT"
      },
      "source": [
        "The *length* of a list can be accessed by the len command."
      ]
    },
    {
      "cell_type": "code",
      "metadata": {
        "id": "-xjzFOxWU5yT",
        "outputId": "bd00dc6f-cccf-446a-d303-6d1432d999ef",
        "colab": {
          "base_uri": "https://localhost:8080/"
        }
      },
      "source": [
        "len([2,4,6])"
      ],
      "execution_count": null,
      "outputs": [
        {
          "output_type": "execute_result",
          "data": {
            "text/plain": [
              "3"
            ]
          },
          "metadata": {},
          "execution_count": 23
        }
      ]
    },
    {
      "cell_type": "code",
      "metadata": {
        "id": "1IG2dOJeU5yT",
        "outputId": "18602c08-8db6-428a-a4b6-f7f8cb4dbe33",
        "colab": {
          "base_uri": "https://localhost:8080/"
        }
      },
      "source": [
        "len(range(10))  # The len command can deal with lists and ranges.  No need to convert."
      ],
      "execution_count": null,
      "outputs": [
        {
          "output_type": "execute_result",
          "data": {
            "text/plain": [
              "10"
            ]
          },
          "metadata": {},
          "execution_count": 24
        }
      ]
    },
    {
      "cell_type": "code",
      "metadata": {
        "id": "N9lCN8-bU5yT",
        "outputId": "5b1e4645-e288-461c-ecac-46a58cee6c0b",
        "colab": {
          "base_uri": "https://localhost:8080/"
        }
      },
      "source": [
        "len(range(10,100)) # Can you figure out the length, before evaluating?"
      ],
      "execution_count": null,
      "outputs": [
        {
          "output_type": "execute_result",
          "data": {
            "text/plain": [
              "90"
            ]
          },
          "metadata": {},
          "execution_count": 25
        }
      ]
    },
    {
      "cell_type": "markdown",
      "metadata": {
        "id": "zW4aiYaAU5yT"
      },
      "source": [
        "The final variant of the range command (for now) is the *three-parameter* command of the form `range(a,b,s)`.  This produces a list like `range(a,b)`, but with a \"step size\" of `s`.  In other words, it produces a list of integers, beginning at `a`, increasing by `s` from one entry to the next, and going up to (but not including) `b`.  It is best to experiment a bit to get the feel for it!"
      ]
    },
    {
      "cell_type": "code",
      "metadata": {
        "id": "RjmZQRmtU5yT",
        "outputId": "a485deb5-ce1f-4ce6-8407-a042d82c0509",
        "colab": {
          "base_uri": "https://localhost:8080/"
        }
      },
      "source": [
        "list(range(1,10,2))"
      ],
      "execution_count": null,
      "outputs": [
        {
          "output_type": "execute_result",
          "data": {
            "text/plain": [
              "[1, 3, 5, 7, 9]"
            ]
          },
          "metadata": {},
          "execution_count": 26
        }
      ]
    },
    {
      "cell_type": "code",
      "metadata": {
        "id": "UX91kNpoU5yT",
        "outputId": "f875567d-b431-4b59-dac9-ac251f5d66f7",
        "colab": {
          "base_uri": "https://localhost:8080/"
        }
      },
      "source": [
        "list(range(11,30,2))"
      ],
      "execution_count": null,
      "outputs": [
        {
          "output_type": "execute_result",
          "data": {
            "text/plain": [
              "[11, 13, 15, 17, 19, 21, 23, 25, 27, 29]"
            ]
          },
          "metadata": {},
          "execution_count": 27
        }
      ]
    },
    {
      "cell_type": "code",
      "metadata": {
        "id": "cU6TYerPU5yU",
        "outputId": "ed44f0bf-37a4-4d2e-ef6a-75089c5d2bf5",
        "colab": {
          "base_uri": "https://localhost:8080/"
        }
      },
      "source": [
        "list(range(-4,5,3))"
      ],
      "execution_count": null,
      "outputs": [
        {
          "output_type": "execute_result",
          "data": {
            "text/plain": [
              "[-4, -1, 2]"
            ]
          },
          "metadata": {},
          "execution_count": 28
        }
      ]
    },
    {
      "cell_type": "code",
      "metadata": {
        "id": "_RueWhdHU5yU",
        "outputId": "b8997270-1492-45aa-8020-9265fb1a2a2f",
        "colab": {
          "base_uri": "https://localhost:8080/"
        }
      },
      "source": [
        "list(range(10,100,17))"
      ],
      "execution_count": null,
      "outputs": [
        {
          "output_type": "execute_result",
          "data": {
            "text/plain": [
              "[10, 27, 44, 61, 78, 95]"
            ]
          },
          "metadata": {},
          "execution_count": 29
        }
      ]
    },
    {
      "cell_type": "markdown",
      "metadata": {
        "id": "I3otAH2AU5yU"
      },
      "source": [
        "This can be used for descending ranges too, and observe that the final number b in range(a,b,s) is not included."
      ]
    },
    {
      "cell_type": "code",
      "metadata": {
        "id": "LVm1djsTU5yU",
        "outputId": "52f4973b-d2e7-4c3b-f41b-b036e5db7696",
        "colab": {
          "base_uri": "https://localhost:8080/"
        }
      },
      "source": [
        "list(range(10,0,-1))"
      ],
      "execution_count": null,
      "outputs": [
        {
          "output_type": "execute_result",
          "data": {
            "text/plain": [
              "[10, 9, 8, 7, 6, 5, 4, 3, 2, 1]"
            ]
          },
          "metadata": {},
          "execution_count": 30
        }
      ]
    },
    {
      "cell_type": "markdown",
      "metadata": {
        "id": "Jp1V-X59U5yU"
      },
      "source": [
        "How many multiples of 7 are between 10 and 100?  We can find out pretty quickly with the range command and the len command (to count)."
      ]
    },
    {
      "cell_type": "code",
      "metadata": {
        "id": "roA4gLoXU5yU",
        "outputId": "a94dab65-3e67-44ae-805e-73cc6790e31c",
        "colab": {
          "base_uri": "https://localhost:8080/"
        }
      },
      "source": [
        "list(range(10,100,7))  # What list will this create?  It won't answer the question..."
      ],
      "execution_count": null,
      "outputs": [
        {
          "output_type": "execute_result",
          "data": {
            "text/plain": [
              "[10, 17, 24, 31, 38, 45, 52, 59, 66, 73, 80, 87, 94]"
            ]
          },
          "metadata": {},
          "execution_count": 31
        }
      ]
    },
    {
      "cell_type": "markdown",
      "source": [
        "* This list above will create [10, 17, 24, 31, 38, 45, 52, 59, 66, 73, 80, 87, 94]"
      ],
      "metadata": {
        "id": "LGUFMHySbdKY"
      }
    },
    {
      "cell_type": "code",
      "metadata": {
        "id": "jybN-evPU5yU",
        "outputId": "9eddee98-a110-45c7-fbf8-62b8e0c94e5b",
        "colab": {
          "base_uri": "https://localhost:8080/"
        }
      },
      "source": [
        "list(range(14,100,7))  # Starting at 14 gives the multiples of 7."
      ],
      "execution_count": null,
      "outputs": [
        {
          "output_type": "execute_result",
          "data": {
            "text/plain": [
              "[14, 21, 28, 35, 42, 49, 56, 63, 70, 77, 84, 91, 98]"
            ]
          },
          "metadata": {},
          "execution_count": 33
        }
      ]
    },
    {
      "cell_type": "markdown",
      "source": [
        "* The list above will create [14, 21, 28, 35, 42, 49, 56, 63, 70, 77, 84, 91, 98]"
      ],
      "metadata": {
        "id": "2YJTk4_RbqmT"
      }
    },
    {
      "cell_type": "code",
      "metadata": {
        "id": "BdvLmGljU5yU",
        "outputId": "a70e0ef9-a41d-419a-f68e-f725980fd142",
        "colab": {
          "base_uri": "https://localhost:8080/"
        }
      },
      "source": [
        "len(range(14,100,7))  # Gives the length of the list, and answers the question!"
      ],
      "execution_count": null,
      "outputs": [
        {
          "output_type": "execute_result",
          "data": {
            "text/plain": [
              "13"
            ]
          },
          "metadata": {},
          "execution_count": 32
        }
      ]
    },
    {
      "cell_type": "markdown",
      "metadata": {
        "id": "dMbcJV5UU5yU"
      },
      "source": [
        "### Exercises\n",
        "\n",
        "1.  If `a` and `b` are integers, what is the length of `range(a,b)`?  Express your answer as a formula involving `a` and `b`.\n",
        "\n",
        "2.  Use a list and range command to produce the list `[1,2,3,4,5,6,7,8,9,10]`.\n",
        "\n",
        "3.  Create the list `[1,2,3,4,5,1,2,3,4,5,1,2,3,4,5,1,2,3,4,5,1,2,3,4,5]` with a single list and range command and another operation.\n",
        "\n",
        "4.  How many multiples of 3 are there between 300 and 3000 (including 300 and 3000)?"
      ]
    },
    {
      "cell_type": "markdown",
      "source": [
        "Here are my answers. \n",
        "\n",
        "1. len(range(a,b))\n",
        "\n",
        "2. list(range(1, 11, 1))\n",
        "\n",
        "3. list(range(1,6,1))*5\n",
        "- list(range(1,6,1)) + list(range(1,6,1)) + list(range(1,6,1)) + list(range(1,6,1)) + list(range(1,6,1))\n",
        "\n",
        "4. len(range(300,3000,3))"
      ],
      "metadata": {
        "id": "zUMiEdkRc5-w"
      }
    },
    {
      "cell_type": "markdown",
      "metadata": {
        "id": "ccSW2BGyU5yV"
      },
      "source": [
        "# Iterating over a range"
      ]
    },
    {
      "cell_type": "markdown",
      "metadata": {
        "id": "qoOhvB1rU5yV"
      },
      "source": [
        "Computers are excellent at repetitive reliable tasks.  If we wish to perform a similar computation, many times over, a computer a great tool.  Here we look at a common and simple way to carry out a repetetive computation:  the \"for loop\".  The \"for loop\" *iterates* through items in a list or range, carrying out some action for each item.  Two examples will illustrate."
      ]
    },
    {
      "cell_type": "code",
      "metadata": {
        "id": "mwdKBi3kU5yV",
        "outputId": "9cbd41ae-63a2-425a-8158-e8bf674c29aa",
        "colab": {
          "base_uri": "https://localhost:8080/"
        }
      },
      "source": [
        "for n in [1,2,3,4,5]:\n",
        "    print(n*n)"
      ],
      "execution_count": null,
      "outputs": [
        {
          "output_type": "stream",
          "name": "stdout",
          "text": [
            "1\n",
            "4\n",
            "9\n",
            "16\n",
            "25\n"
          ]
        }
      ]
    },
    {
      "cell_type": "code",
      "metadata": {
        "id": "HC031A4LU5yV",
        "outputId": "e6455629-a20a-4ba6-a37b-8756af6648b8",
        "colab": {
          "base_uri": "https://localhost:8080/"
        }
      },
      "source": [
        "for s in ['I','Am','Python']:\n",
        "    print(s + \"!\")"
      ],
      "execution_count": null,
      "outputs": [
        {
          "output_type": "stream",
          "name": "stdout",
          "text": [
            "I!\n",
            "Am!\n",
            "Python!\n"
          ]
        }
      ]
    },
    {
      "cell_type": "markdown",
      "metadata": {
        "id": "yuctH9OZU5yV"
      },
      "source": [
        "The first loop, **unraveled**, carries out the following sequence of commands."
      ]
    },
    {
      "cell_type": "code",
      "metadata": {
        "id": "UY4izCfvU5yV",
        "outputId": "76bad16a-0ad5-4425-81b6-05302cb8090e",
        "colab": {
          "base_uri": "https://localhost:8080/"
        }
      },
      "source": [
        "n = 1\n",
        "print(n*n)\n",
        "n = 2\n",
        "print(n*n)\n",
        "n = 3\n",
        "print(n*n)\n",
        "n = 4\n",
        "print(n*n)\n",
        "n = 5\n",
        "print(n*n)"
      ],
      "execution_count": null,
      "outputs": [
        {
          "output_type": "stream",
          "name": "stdout",
          "text": [
            "1\n",
            "4\n",
            "9\n",
            "16\n",
            "25\n"
          ]
        }
      ]
    },
    {
      "cell_type": "markdown",
      "metadata": {
        "id": "IgnUBVI0U5yV"
      },
      "source": [
        "But the \"for loop\" is more efficient *and* more readable to programmers.  Indeed, it saves the repetition of writing the same command `print(n*n)` over and over again.  It also makes transparent, from the beginning, the range of values that `n` is assigned to.  \n",
        "\n",
        "When you read and write \"for loops\", you should consider how they look unravelled -- that is how Python will carry out the loop.  And when you find yourself faced with a repetetive task, you might consider whether it may be wrapped up in a for loop.  Most of the time, you should try to write code that *never repeats* the same task.  If there is repetition, wrap it in a loop."
      ]
    },
    {
      "cell_type": "markdown",
      "metadata": {
        "id": "M16fubaDU5yV"
      },
      "source": [
        "Try to unravel the loop below, and predict the result, before evaluating the code."
      ]
    },
    {
      "cell_type": "markdown",
      "source": [
        "* 1 times 1 = P = 1, 1 times 2 = P = 2, 2 times 3 = P = 6, 6 times 4 = P = 24, 24 times 5 = 120"
      ],
      "metadata": {
        "id": "4piI0FrIdrmm"
      }
    },
    {
      "cell_type": "code",
      "metadata": {
        "id": "vOyvFfJcU5yW",
        "outputId": "0b4771ab-2e95-44a0-8534-998127c697a8",
        "colab": {
          "base_uri": "https://localhost:8080/"
        }
      },
      "source": [
        "P = 1\n",
        "for n in range(1,6):\n",
        "    P = P * n\n",
        "print(P)"
      ],
      "execution_count": null,
      "outputs": [
        {
          "output_type": "stream",
          "name": "stdout",
          "text": [
            "120\n"
          ]
        }
      ]
    },
    {
      "cell_type": "markdown",
      "metadata": {
        "id": "I79mIz44U5yW"
      },
      "source": [
        "This might have been difficult!  So what if you want to trace through the loop, as it goes?  Sometimes, especially when debugging, it's useful to inspect every step of the loop to see what Python is doing.  We can inspect the loop above, by inserting a print command within the *scope* of the loop."
      ]
    },
    {
      "cell_type": "code",
      "metadata": {
        "id": "C6bVCkZdU5yW",
        "outputId": "be42ded4-0fe0-4f35-e832-5feab9fc4987",
        "colab": {
          "base_uri": "https://localhost:8080/"
        }
      },
      "source": [
        "P = 1\n",
        "for n in range(1,6):\n",
        "    P = P * n\n",
        "    print(\"n is\",n,\"and P is\",P)\n",
        "print(P)"
      ],
      "execution_count": null,
      "outputs": [
        {
          "output_type": "stream",
          "name": "stdout",
          "text": [
            "n is 1 and P is 1\n",
            "n is 2 and P is 2\n",
            "n is 3 and P is 6\n",
            "n is 4 and P is 24\n",
            "n is 5 and P is 120\n",
            "120\n"
          ]
        }
      ]
    },
    {
      "cell_type": "markdown",
      "metadata": {
        "id": "y8kjJUJAU5yW"
      },
      "source": [
        "Here we have used the *print* command with strings and numbers together.  In Python 3.x, you can print multiple things on the same line by separating them by commas.  The \"things\" can be strings (enclosed by single or double-quotes) and numbers (int, float, etc.)."
      ]
    },
    {
      "cell_type": "code",
      "metadata": {
        "id": "wUu0BH2lU5yW",
        "outputId": "e866ce78-3963-4e21-d8e4-289591898b27",
        "colab": {
          "base_uri": "https://localhost:8080/"
        }
      },
      "source": [
        "print(\"My favorite number is\",17)"
      ],
      "execution_count": null,
      "outputs": [
        {
          "output_type": "stream",
          "name": "stdout",
          "text": [
            "My favorite number is 17\n"
          ]
        }
      ]
    },
    {
      "cell_type": "markdown",
      "metadata": {
        "id": "TPCXSm1LU5yW"
      },
      "source": [
        "If we unravel the loop above, the linear sequence of commands interpreted by Python is the following."
      ]
    },
    {
      "cell_type": "code",
      "metadata": {
        "id": "KzUl3ac7U5yW",
        "outputId": "44f1a6e6-40c6-473d-e998-ea0f2a1b551e",
        "colab": {
          "base_uri": "https://localhost:8080/"
        }
      },
      "source": [
        "P = 1\n",
        "n = 1\n",
        "P = P * n\n",
        "print(\"n is\",n,\"and P is\",P)\n",
        "n = 2\n",
        "P = P * n\n",
        "print(\"n is\",n,\"and P is\",P)\n",
        "n = 3\n",
        "P = P * n\n",
        "print(\"n is\",n,\"and P is\",P)\n",
        "n = 4\n",
        "P = P * n\n",
        "print(\"n is\",n,\"and P is\",P)\n",
        "n = 5\n",
        "P = P * n\n",
        "print(\"n is\",n,\"and P is\",P)\n",
        "print (P)"
      ],
      "execution_count": null,
      "outputs": [
        {
          "output_type": "stream",
          "name": "stdout",
          "text": [
            "n is 1 and P is 1\n",
            "n is 2 and P is 2\n",
            "n is 3 and P is 6\n",
            "n is 4 and P is 24\n",
            "n is 5 and P is 120\n",
            "120\n"
          ]
        }
      ]
    },
    {
      "cell_type": "markdown",
      "metadata": {
        "id": "44_u1MSrU5yW"
      },
      "source": [
        "Let's analyze the loop syntax in more detail.  \n",
        "```python\n",
        "P = 1\n",
        "for n in range(1,6):\n",
        "    P = P * n  # this command is in the scope of the loop.\n",
        "    print(\"n is\",n,\"and P is\",P)  # this command is in the scope of the loop too!\n",
        "print(P)\n",
        "```\n",
        "The \"for\" command ends with a colon `:`, and the **next two** lines are indented.  The colon and indentation are indicators of **scope**.  The *scope* of the for loop begins after the colon, and includes all indented lines.  The *scope* of the for loop is what is repeated in every step of the loop (in addition to the reassignment of `n`).  "
      ]
    },
    {
      "cell_type": "code",
      "metadata": {
        "id": "jE003_YTU5yW",
        "outputId": "e2ec5793-6f94-4131-e034-8b46031d9026",
        "colab": {
          "base_uri": "https://localhost:8080/"
        }
      },
      "source": [
        "P = 1\n",
        "for n in range(1,6):\n",
        "    P = P * n  # this command is in the scope of the loop.\n",
        "    print(\"n is\",n,\"and P is\",P)  # this command is in the scope of the loop too!\n",
        "print(P)"
      ],
      "execution_count": null,
      "outputs": [
        {
          "output_type": "stream",
          "name": "stdout",
          "text": [
            "n is 1 and P is 1\n",
            "n is 2 and P is 2\n",
            "n is 3 and P is 6\n",
            "n is 4 and P is 24\n",
            "n is 5 and P is 120\n",
            "120\n"
          ]
        }
      ]
    },
    {
      "cell_type": "markdown",
      "metadata": {
        "id": "8wXaf4hxU5yW"
      },
      "source": [
        "If we change the indentation, it changes the scope of the for loop.  Predict what the following loop will do, by unraveling, before evaluating it."
      ]
    },
    {
      "cell_type": "code",
      "metadata": {
        "id": "F_FcpC5QU5yX",
        "outputId": "0b8701ae-0e98-4961-bb38-9f06dda2e9de",
        "colab": {
          "base_uri": "https://localhost:8080/"
        }
      },
      "source": [
        "P = 1\n",
        "for n in range(1,6):\n",
        "    P = P * n\n",
        "print(\"n is\",n,\"and P is\",P)\n",
        "print(P)"
      ],
      "execution_count": null,
      "outputs": [
        {
          "output_type": "stream",
          "name": "stdout",
          "text": [
            "n is 5 and P is 120\n",
            "120\n"
          ]
        }
      ]
    },
    {
      "cell_type": "markdown",
      "metadata": {
        "id": "__tEmpKPU5yX"
      },
      "source": [
        "Scopes can be nested by nesting indentation.  What do you think the following loop will do?  Can you unravel it?"
      ]
    },
    {
      "cell_type": "markdown",
      "source": [
        "* 1 a, 1 b, 2 a, 2 b, 3 a, 3 b"
      ],
      "metadata": {
        "id": "0c-bF79YenLf"
      }
    },
    {
      "cell_type": "code",
      "metadata": {
        "id": "9fboPJdAU5yX",
        "outputId": "55561ff5-cbc7-4361-e2dd-0a2cbd87adda",
        "colab": {
          "base_uri": "https://localhost:8080/"
        }
      },
      "source": [
        "for x in [1,2,3]:\n",
        "    for y in ['a', 'b']:\n",
        "        print(x,y)"
      ],
      "execution_count": null,
      "outputs": [
        {
          "output_type": "stream",
          "name": "stdout",
          "text": [
            "1 a\n",
            "1 b\n",
            "2 a\n",
            "2 b\n",
            "3 a\n",
            "3 b\n"
          ]
        }
      ]
    },
    {
      "cell_type": "markdown",
      "metadata": {
        "id": "HmXwPykdU5yX"
      },
      "source": [
        "How might you create a nested loop which prints `1 a` then `2 a` then `3 a` then `1 b` then `2 b` then `3 b`?  Try it below."
      ]
    },
    {
      "cell_type": "code",
      "metadata": {
        "id": "b97leVdkU5yX",
        "outputId": "ce2b90da-1173-4775-bde3-84443353d4c3",
        "colab": {
          "base_uri": "https://localhost:8080/"
        }
      },
      "source": [
        "# Insert your loop here.\n",
        "for x in [1,2,3]:\n",
        "  y = 'a'\n",
        "  print(x, y)\n",
        "for x in [1,2,3]:\n",
        "  y = 'b'\n",
        "  print(x,y)"
      ],
      "execution_count": null,
      "outputs": [
        {
          "output_type": "stream",
          "name": "stdout",
          "text": [
            "1 a\n",
            "2 a\n",
            "3 a\n",
            "1 b\n",
            "2 b\n",
            "3 b\n"
          ]
        }
      ]
    },
    {
      "cell_type": "markdown",
      "metadata": {
        "id": "ofCBY24EU5yX"
      },
      "source": [
        "Among popular programming languages, Python is particular about indentation.  Other languages indicate scope with open/close braces, for example, and indentation is just a matter of style.  By requiring indentation to indicate scope, Python effectively removes the need for open/close braces, and enforces a readable style.\n",
        "\n",
        "We have now encountered data types, operations, variables, and loops.  Taken together, these are powerful tools for computation!  Now complete the following exercises for more practice."
      ]
    },
    {
      "cell_type": "markdown",
      "metadata": {
        "id": "JBr_HgrSU5yX"
      },
      "source": [
        "## Exercises"
      ]
    },
    {
      "cell_type": "markdown",
      "metadata": {
        "id": "FEQTm_WZU5yX"
      },
      "source": [
        "1.  Describe how Python interprets division with remainder when the divisor and/or dividend is negative.\n",
        "2.  What is the remainder when $2^{90}$ is divided by $91$?\n",
        "3.  How many multiples of 13 are there between 1 and 1000?\n",
        "4.  How many *odd* multiples of 13 are there between 1 and 1000?\n",
        "5.  What is the sum of the numbers from 1 to 1000?\n",
        "6.  What is the sum of the squares, from $1 \\cdot 1$ to $1000 \\cdot 1000$?\n",
        "7.  Euler proved that\n",
        "$$\\frac{1}{1^4} + \\frac{1}{2^4} + \\frac{1}{3^4} + \\cdots = \\frac{\\pi^4}{C},$$\n",
        "for some positive integer $C$.  Use Python to guess what $C$ is."
      ]
    },
    {
      "cell_type": "code",
      "source": [
        "2 % -5"
      ],
      "metadata": {
        "id": "9NE9Gyuhw2DI",
        "outputId": "81bc6f20-8e6e-4102-ca51-081e2649d1da",
        "colab": {
          "base_uri": "https://localhost:8080/"
        }
      },
      "execution_count": null,
      "outputs": [
        {
          "data": {
            "text/plain": [
              "-3"
            ]
          },
          "execution_count": 35,
          "metadata": {},
          "output_type": "execute_result"
        }
      ]
    },
    {
      "cell_type": "code",
      "source": [
        "-6 % -4"
      ],
      "metadata": {
        "id": "nofYSd62w98p",
        "outputId": "a8e8cacf-2fb6-463e-de31-bd6e1978049a",
        "colab": {
          "base_uri": "https://localhost:8080/"
        }
      },
      "execution_count": null,
      "outputs": [
        {
          "output_type": "execute_result",
          "data": {
            "text/plain": [
              "-2"
            ]
          },
          "metadata": {},
          "execution_count": 36
        }
      ]
    },
    {
      "cell_type": "code",
      "source": [
        "-10 % 4"
      ],
      "metadata": {
        "id": "yw_bV2MIxBHr",
        "outputId": "b0f653ef-e317-4343-af54-63a9a70afafb",
        "colab": {
          "base_uri": "https://localhost:8080/"
        }
      },
      "execution_count": null,
      "outputs": [
        {
          "output_type": "execute_result",
          "data": {
            "text/plain": [
              "2"
            ]
          },
          "metadata": {},
          "execution_count": 37
        }
      ]
    },
    {
      "cell_type": "markdown",
      "source": [
        "Number 1: when the dividend is negative, then it would count up by the multiples of the divisor to the dividend until it reaches the first positive number. when the divisor is negative, then it would subtract by the multiples of the divisor to the dividend until it reaches the first negative number. lastly, if both are negatives, then it would count up by the multiples of the divisor (positive) to the dividend until it reaches the last negative number before it reaches positive. "
      ],
      "metadata": {
        "id": "qCwmRK__FM7-"
      }
    },
    {
      "cell_type": "code",
      "metadata": {
        "id": "F870MLhKU5yX",
        "outputId": "de74b0e0-ad80-482e-b690-f5c2a8dd9a5f",
        "colab": {
          "base_uri": "https://localhost:8080/"
        }
      },
      "source": [
        "# Number 2\n",
        "2 ** 90 % 91"
      ],
      "execution_count": null,
      "outputs": [
        {
          "output_type": "execute_result",
          "data": {
            "text/plain": [
              "64"
            ]
          },
          "metadata": {},
          "execution_count": 55
        }
      ]
    },
    {
      "cell_type": "code",
      "source": [
        "# Number 3\n",
        "len(range(13,1000,13))"
      ],
      "metadata": {
        "id": "f2bHGruZfcv6",
        "outputId": "b0eac47c-442a-4db8-8845-67062debb510",
        "colab": {
          "base_uri": "https://localhost:8080/"
        }
      },
      "execution_count": null,
      "outputs": [
        {
          "output_type": "execute_result",
          "data": {
            "text/plain": [
              "76"
            ]
          },
          "metadata": {},
          "execution_count": 93
        }
      ]
    },
    {
      "cell_type": "code",
      "source": [
        "# Number 4\n",
        "b = []\n",
        "for a in range(13, 1000, 13):\n",
        "  if a % 2 != 0:\n",
        "    b.append(a)\n",
        "print(len(b))"
      ],
      "metadata": {
        "id": "6Qo_TUslg0Q4",
        "outputId": "691b4399-ebae-419f-9a52-5a6b7ed2a9b7",
        "colab": {
          "base_uri": "https://localhost:8080/"
        }
      },
      "execution_count": null,
      "outputs": [
        {
          "output_type": "stream",
          "name": "stdout",
          "text": [
            "38\n"
          ]
        }
      ]
    },
    {
      "cell_type": "code",
      "source": [
        "# Number 5\n",
        "sum = 0\n",
        "for a in range(1,1001):\n",
        "  sum += a\n",
        "print(sum)"
      ],
      "metadata": {
        "id": "THKYe4ggiFQW",
        "outputId": "b5ae813c-eb77-4ab0-93ca-ac0bffb90d93",
        "colab": {
          "base_uri": "https://localhost:8080/"
        }
      },
      "execution_count": null,
      "outputs": [
        {
          "output_type": "stream",
          "name": "stdout",
          "text": [
            "500500\n"
          ]
        }
      ]
    },
    {
      "cell_type": "code",
      "source": [
        "# Number 6\n",
        "sum = 0\n",
        "for a in range(1,1000):\n",
        "  b = a*a\n",
        "  sum += b\n",
        "print(sum)"
      ],
      "metadata": {
        "id": "1obEvPL7iVPa",
        "outputId": "b63f7c99-7a2e-408d-ad3b-2498784450da",
        "colab": {
          "base_uri": "https://localhost:8080/"
        }
      },
      "execution_count": null,
      "outputs": [
        {
          "output_type": "stream",
          "name": "stdout",
          "text": [
            "332833500\n"
          ]
        }
      ]
    },
    {
      "cell_type": "code",
      "source": [
        "# Number 7\n",
        "# C = (1/1^4 + 1/2^4 + 1/3^4) / pi^4\n",
        "\n",
        "pi = 3.14159265359\n",
        "\n",
        "sum = 0\n",
        "\n",
        "for i in range (1, 10000000):\n",
        "  sum += 1 / (i ** 4)\n",
        "  \n",
        "C = (pi ** 4) / sum\n",
        "print(C)"
      ],
      "metadata": {
        "id": "SCrXKBD9ixB4",
        "outputId": "d30efa24-7dc4-47f9-9e56-1489981b67dc",
        "colab": {
          "base_uri": "https://localhost:8080/"
        }
      },
      "execution_count": 27,
      "outputs": [
        {
          "output_type": "stream",
          "name": "stdout",
          "text": [
            "90.00000000004675\n"
          ]
        }
      ]
    },
    {
      "cell_type": "markdown",
      "source": [
        "* I don't know how to make this to go to infinity,  but approximately C = 90. "
      ],
      "metadata": {
        "id": "l2IO8qQVFGFT"
      }
    },
    {
      "cell_type": "markdown",
      "metadata": {
        "id": "nS9xYcpCU5yY"
      },
      "source": [
        "# Explorations\n",
        "\n",
        "Now that you have learned the basics of computation in Python and loops, we can start exploring some interesting mathematics!  We are going to look at approximation here -- some ancient questions made easier with programming.\n",
        "\n",
        "These explorations will be graded, but it's ok (no grade penalty!) if you don't finish all the explorations by the due date.  Finish what you can, and focus on doing the work well, not getting all the way to the end.  Experienced programmers might get quickly to the end, but new programmers might focus on approximating square roots for more time."
      ]
    },
    {
      "cell_type": "markdown",
      "metadata": {
        "id": "IfPCPAu5U5yY"
      },
      "source": [
        "## Exploration 1:  Approximating square roots.\n",
        "\n",
        "We have seen how Python can do basic arithmetic -- addition, subtraction, multiplication, and division.  But what about other functions, like the square root?  In fact, Python offers a few functions for the square root, but that's not the point.  How can we compute the square root using only basic arithmetic?  \n",
        "\n",
        "Why might we care?\n",
        "\n",
        "1.  We might want to know the square root of a number with more precision than the Python function offers.\n",
        "2.  We might want to understand how the square root is computed... under the hood.\n",
        "3.  Understanding approximations of square roots and other functions is important, because we might want to approximate other functions in the future (that aren't pre-programmed for us).\n",
        "\n",
        "Here is a method for approximating the square root of a number $X$.\n",
        "\n",
        "1.  Begin with a guess $g$.\n",
        "2.  Observe that $g \\cdot (X / g) = X$.  Therefore, among the two numbers $g$ and $(X/g)$, one will be less than or equal to the square root of X, and the other will be greater than or equal to the square root.\n",
        "3.  Take the average of $g$ and $(X/g)$.  This will be closer to the square root than $g$ or $X/g$ (unless your guess is exactly right!) \n",
        "4.  Use this average as a new guess... and go back to the beginning.\n",
        "\n",
        "Now implement this in Python to approximate the square root of 2.  Use a loop, so that you can go through the approximation process 10 times or 100 times or however many you wish.  Explore the effect of different starting guesses.  Would a change in the averaging function improve the approximation?  How quickly does this converge?  How does this change if you try square roots of different positive numbers?\n",
        "\n",
        "Write your code (Python) and findings (in Markdown cells) in a readable form.  Answer the questions in complete sentences.\n",
        "\n"
      ]
    },
    {
      "cell_type": "code",
      "source": [
        "# Square root of a number X. X will be 16.\n",
        "X = 16\n",
        "g = 4\n",
        "g * (X/g)\n",
        "(g + (X/g)) / 2"
      ],
      "metadata": {
        "id": "0M3pxQ6kxlbP",
        "outputId": "d1ab8962-954b-4d04-b462-c9005f2a6df8",
        "colab": {
          "base_uri": "https://localhost:8080/"
        }
      },
      "execution_count": null,
      "outputs": [
        {
          "output_type": "execute_result",
          "data": {
            "text/plain": [
              "4.0"
            ]
          },
          "metadata": {},
          "execution_count": 41
        }
      ]
    },
    {
      "cell_type": "code",
      "source": [
        "# I couldn't get this to work\n"
      ],
      "metadata": {
        "id": "AW3keJBg7qhx"
      },
      "execution_count": 1,
      "outputs": []
    },
    {
      "cell_type": "code",
      "metadata": {
        "id": "PoGqUlqoU5yY"
      },
      "source": [
        "\n",
        "#  Start your explorations here!"
      ],
      "execution_count": null,
      "outputs": []
    },
    {
      "cell_type": "markdown",
      "metadata": {
        "id": "gHxmSYaoc8v0"
      },
      "source": [
        "Describe your findings here in 1-2 paragraphs."
      ]
    },
    {
      "cell_type": "markdown",
      "metadata": {
        "id": "fOUbCcfxU5yY"
      },
      "source": [
        "## Exploration 2:  Approximating e and pi.\n",
        "\n",
        "Now we approximate two of the most important constants in mathematics:  e and pi.  There are multiple approaches, but e is pretty easy with the series expansion of e^x.  First, approximate e by evaluating the Taylor series expansion of e^x at x=1.  I.e., remember from calculus that\n",
        "$$e^x = 1 + x + \\frac{1}{2} x^2 + \\frac{1}{3!} x^3 + \\frac{1}{4!} x^4 + \\cdots.$$\n",
        "How many terms are necessary before the float stabilizes?  Use a loop, with a running product for the factorials and running sums for the series."
      ]
    },
    {
      "cell_type": "code",
      "metadata": {
        "id": "cH0ApCftU5yY"
      },
      "source": [
        "#  Approximate e here."
      ],
      "execution_count": null,
      "outputs": []
    },
    {
      "cell_type": "markdown",
      "metadata": {
        "id": "YYhT-tDRU5yY"
      },
      "source": [
        "Next we will approximate pi, which is much more interesting.  We can try a few approaches.  For a series-approach (like e), we need a series that converges to pi.  A simple example is the arctangent atan(x).  Recall (precalculus!) that $atan(1) = \\pi/4$.  Moreover, the derivative of $atan(x)$ is $1 / (1+x^2)$.  \n",
        "\n",
        "1.  Figure out the Taylor series of $1 / (1+x^2)$ near $x=0$.  Note that this is a geometric series!  So you can use the formula $1 / (1-r) = 1 + r + r^2 + r^3 + \\cdots$. \n",
        "\n",
        "2.  Figure out the Taylor series of $atan(x)$ near $x=0$ by taking the antiderivative, term by term, of the above.\n",
        "\n",
        "3.  Try to estimate $\\pi$ with this series, using many terms of the series."
      ]
    },
    {
      "cell_type": "code",
      "metadata": {
        "id": "wYlwMQxBU5yY"
      },
      "source": [
        "#  Approximate pi here!"
      ],
      "execution_count": null,
      "outputs": []
    },
    {
      "cell_type": "markdown",
      "metadata": {
        "id": "77BvRTGFU5yY"
      },
      "source": [
        "Now we'll accelerate things a bit.  There's a famous formula of Machin (1706) who computed the first hundred digits of $\\pi$.  We'll use his identity:\n",
        "\n",
        "$\\pi/4 = 4 \\cdot atan(1/5) - atan(1 / 239)$.  \n",
        "\n",
        "This isn't obvious, but there's a tedious proof using sum/difference identities in trig.\n",
        "\n",
        "Try using this formula now to approximate $\\pi$, using your Taylor series for $atan(x)$.  It should require fewer terms."
      ]
    },
    {
      "cell_type": "code",
      "metadata": {
        "id": "71EwcYnMU5yY"
      },
      "source": [
        "#  Approximate pi more quickly here!"
      ],
      "execution_count": null,
      "outputs": []
    },
    {
      "cell_type": "markdown",
      "metadata": {
        "id": "NazcANnNU5yY"
      },
      "source": [
        "Now let's compare this to **Archimedes' method**.  Archimedes approximated pi by looking at the perimeters $p(n)$ and $P(n)$ of ($2^n$)-gons inscribed in and circumscribed around a unit circle.  So $p(2)$ is the perimeter of a square inscribed in the unit circle.  $P(2)$ is the perimeter of a square circumscribed around a unit circle.\n",
        "\n",
        "Archimedes proved the following (not in the formulaic language of algebra):  For all $n \\geq 2$,\n",
        "\n",
        "(P-formula)  $P(n+1) = \\frac{2  p(n) P(n)}{p(n) + P(n)}$.\n",
        "\n",
        "(p-formula)  $p(n+1) = \\sqrt{ p(n)  P(n+1) }$.\n",
        "\n",
        "1.  Compute $p(2)$ and $P(2)$.\n",
        "\n",
        "2.  Use these formulas to compute $p(10)$ and $P(10)$.  Use this to get a good approximation for $\\pi$!\n",
        "\n",
        "We could use our previous sqrt function.  But here is a fancier high-precision approach.  \"mpmath\" is a Python package for high-precision calculation.  It should be accessible through Google Colab.  You can read the full documentation at http://mpmath.org/doc/current/\n",
        "\n",
        "First we load the package and print its status."
      ]
    },
    {
      "cell_type": "code",
      "metadata": {
        "id": "uJZZ9M_PU5yZ"
      },
      "source": [
        "from mpmath import *\n",
        "print(mp)"
      ],
      "execution_count": null,
      "outputs": []
    },
    {
      "cell_type": "markdown",
      "metadata": {
        "id": "17mWwbgyU5yZ"
      },
      "source": [
        "The number mp.dps is (roughly) the number of decimal digits that mpmath will keep track of in its computations.  mp.prec is the binary precision, a bit more than 3 times the decimal precision.  We can change this to whatever we want."
      ]
    },
    {
      "cell_type": "code",
      "metadata": {
        "id": "f2aNKEWeU5yZ"
      },
      "source": [
        "mp.dps = 50 # Let's try 50 digits precision to start.\n",
        "print(mp)"
      ],
      "execution_count": null,
      "outputs": []
    },
    {
      "cell_type": "markdown",
      "metadata": {
        "id": "AVFYKq9hU5yZ"
      },
      "source": [
        "mpmath has a nice function for square roots.  Compare this to your approximation from before!"
      ]
    },
    {
      "cell_type": "code",
      "metadata": {
        "scrolled": true,
        "id": "IynhKMaLU5yZ"
      },
      "source": [
        "sqrt(2)  # mpf(...) stands for an mp-float.  "
      ],
      "execution_count": null,
      "outputs": []
    },
    {
      "cell_type": "code",
      "metadata": {
        "id": "quMwWJJ3U5yZ"
      },
      "source": [
        "type(sqrt(2)) # mpmath stores numbers in its own types!"
      ],
      "execution_count": null,
      "outputs": []
    },
    {
      "cell_type": "code",
      "metadata": {
        "id": "3WEkkeNNU5yZ"
      },
      "source": [
        "4*mp.atan(1) # mpmath has the arctan built in.  This should be pretty close to pi!"
      ],
      "execution_count": null,
      "outputs": []
    },
    {
      "cell_type": "markdown",
      "metadata": {
        "id": "8oMFGUkiU5yZ"
      },
      "source": [
        "Now try Archimedes' approximation of pi.  Use the mpmath sqrt function along the way.  How many iterations do you need to get pi correct to 100 digits?  Compare this to the arctan-series (not the mpmath atan function) via Machin's formula."
      ]
    },
    {
      "cell_type": "code",
      "metadata": {
        "id": "ulLOs22VU5yZ"
      },
      "source": [
        "#  Explore and experiment."
      ],
      "execution_count": null,
      "outputs": []
    }
  ]
}