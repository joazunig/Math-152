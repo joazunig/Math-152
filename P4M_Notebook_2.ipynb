{
  "nbformat": 4,
  "nbformat_minor": 0,
  "metadata": {
    "kernelspec": {
      "display_name": "Python 3",
      "language": "python",
      "name": "python3"
    },
    "language_info": {
      "codemirror_mode": {
        "name": "ipython",
        "version": 3
      },
      "file_extension": ".py",
      "mimetype": "text/x-python",
      "name": "python",
      "nbconvert_exporter": "python",
      "pygments_lexer": "ipython3",
      "version": "3.6.7"
    },
    "colab": {
      "name": "P4M_Notebook2.ipynb",
      "provenance": [],
      "toc_visible": true
    }
  },
  "cells": [
    {
      "cell_type": "markdown",
      "metadata": {
        "id": "K-XYXmmluXdg"
      },
      "source": [
        "# Part 2:  Functions and Control Statements"
      ]
    },
    {
      "cell_type": "markdown",
      "metadata": {
        "id": "xvBm3ReiuXdj"
      },
      "source": [
        "A distinguishing property of *programming* languages is that the programmer can create their own *functions*.  Creating a *function* is like teaching the computer a new trick.  Typically a function will receive some data as *input*, will perform an *algorithm* involving the input data, and will *output* data when the algorithm terminates.  \n",
        "\n",
        "In this part, we explore Python functions.  We also explore control statements, which allow a program to behave in different ways for different inputs.  We also introduce the *while loop*, a loop whose repetition can be more carefully controlled than a for loop.  As an application of these techniques, we implement the Euclidean algorithm as a Python function in a few ways, to effectively find the GCD of integers.\n",
        "\n",
        "At the end, you will be prepared to explore the Collatz conjecture."
      ]
    },
    {
      "cell_type": "markdown",
      "metadata": {
        "id": "Cw0CHgACuXdk"
      },
      "source": [
        "## Getting started with Python functions"
      ]
    },
    {
      "cell_type": "markdown",
      "metadata": {
        "id": "o0UhM3CKuXdk"
      },
      "source": [
        "A *function* in Python is a construction which takes input data, performs some actions, and outputs data.  It is best to start with a few examples and break down the code.  Here is a function `square`.  Run the code as usual by pressing *shift-Enter* when the code block is selected."
      ]
    },
    {
      "cell_type": "code",
      "metadata": {
        "id": "-sH7F-YEuXdk"
      },
      "source": [
        "def square(x):\n",
        "    answer = x * x\n",
        "    return answer"
      ],
      "execution_count": 1,
      "outputs": []
    },
    {
      "cell_type": "markdown",
      "metadata": {
        "id": "C6tqVsj6u4Ic"
      },
      "source": [
        "To see \"under the hood\" what Python is doing, we import the Python disassembler."
      ]
    },
    {
      "cell_type": "code",
      "metadata": {
        "id": "v-H2v_wOuXdl"
      },
      "source": [
        "from dis import dis"
      ],
      "execution_count": 2,
      "outputs": []
    },
    {
      "cell_type": "code",
      "metadata": {
        "id": "6ZYvlyCYuXdl",
        "colab": {
          "base_uri": "https://localhost:8080/"
        },
        "outputId": "4adafd9a-5f58-48cb-b42b-36d9def2e896"
      },
      "source": [
        "dis(square)"
      ],
      "execution_count": 3,
      "outputs": [
        {
          "output_type": "stream",
          "name": "stdout",
          "text": [
            "  2           0 LOAD_FAST                0 (x)\n",
            "              2 LOAD_FAST                0 (x)\n",
            "              4 BINARY_MULTIPLY\n",
            "              6 STORE_FAST               1 (answer)\n",
            "\n",
            "  3           8 LOAD_FAST                1 (answer)\n",
            "             10 RETURN_VALUE\n"
          ]
        }
      ]
    },
    {
      "cell_type": "markdown",
      "metadata": {
        "id": "p43oP8AquXdm"
      },
      "source": [
        "When you run the code block, you probably didn't see anything happen.  But you have effectively taught your computer a new trick, increasing the vocabulary of commands it understands through the Python interpreter.  \n",
        "\n",
        "More specifically, Python has turned your neat \"square function\" into a series of very quickly runnable commands (\"LOAD_FAST\" and \"BINARY_MULTIPLY\").  That way, every time you want to use your square function, Python will just go through the same series of quick operations.\n",
        "\n",
        "You don't really need to know the \"disassembled\" square function above... you can use the `square` command as you wish."
      ]
    },
    {
      "cell_type": "code",
      "metadata": {
        "id": "J1Drx8OauXdm",
        "colab": {
          "base_uri": "https://localhost:8080/"
        },
        "outputId": "cc52b13d-afa0-4184-84ac-54edbab7a9af"
      },
      "source": [
        "square(12)"
      ],
      "execution_count": 4,
      "outputs": [
        {
          "output_type": "execute_result",
          "data": {
            "text/plain": [
              "144"
            ]
          },
          "metadata": {},
          "execution_count": 4
        }
      ]
    },
    {
      "cell_type": "code",
      "metadata": {
        "id": "RPfYsUfAuXdm",
        "colab": {
          "base_uri": "https://localhost:8080/"
        },
        "outputId": "32089b33-b812-4e26-864e-13660e13f9e1"
      },
      "source": [
        "square(1.5)"
      ],
      "execution_count": 5,
      "outputs": [
        {
          "output_type": "execute_result",
          "data": {
            "text/plain": [
              "2.25"
            ]
          },
          "metadata": {},
          "execution_count": 5
        }
      ]
    },
    {
      "cell_type": "markdown",
      "metadata": {
        "id": "83KgYRaIuXdm"
      },
      "source": [
        "Let's break down the syntax of the *function declaration*, line by line.\n",
        "\n",
        "```python\n",
        "def square(x):\n",
        "    answer = x * x\n",
        "    return answer\n",
        "```\n",
        "\n",
        "The first line begins with the Python reserved word `def`.  (So don't use `def` as a variable name!).  The word `def` stands for \"define\" and it defines a function called `square`.  After the function name `square` comes parentheses `(x)` containing the **argument** `x`.  The *arguments* or *parameters* of a function refer to the input data.  Even if your function has no arguments, you need parentheses.  The argument `x` is used to name whatever number is input into the `square` function.  \n",
        "\n",
        "At the end of the function declaration line is a colon `:` and the following two lines are indented.  As in the case of for loops, the colon and indentation are signals of *scope*.  Everything on the indented lines is considered within the *scope of the function* and is carried out when the function is used later.\n",
        "\n",
        "The second line `answer = x * x` is the beginning of the scope of the function.  It declares a variable `answer` and sets the value to be `x * x`.  So if the argument `x` is 12, then `answer` will be set to 144.  The variable `answer`, being declared within the scope of the function, will not be accessible outside the scope of the function.  It is called a **local variable**.\n",
        "\n",
        "The last line `return answer` contains the Python reserved word `return`, which terminates the function and outputs the value of the variable `answer`.  So when you apply the function with the command `square(1.5)`, the number `1.5` is `passed` as the argument `x`, and `answer` is `2.25`, and that number `2.25` becomes the output."
      ]
    },
    {
      "cell_type": "markdown",
      "metadata": {
        "id": "v_nIkzhAuXdn"
      },
      "source": [
        "A function does not have to return a value.  Some functions might just provide some information.  Here is a function which displays the result of division with remainder as a sentence with addition and multiplication."
      ]
    },
    {
      "cell_type": "code",
      "metadata": {
        "id": "kblJD_kQuXdn"
      },
      "source": [
        "def display_divmod(a,b):\n",
        "    quotient = a // b # Integer division\n",
        "    remainder = a % b #\n",
        "    print(\"{} = {} ({}) + {}\".format(a,quotient,b,remainder))"
      ],
      "execution_count": 7,
      "outputs": []
    },
    {
      "cell_type": "markdown",
      "metadata": {
        "id": "g2fq4CwHvtF1"
      },
      "source": [
        "If you want a quick look under the hood, here is the function disassembled.  Again, you don't need to know what everything means.  The four-line code above is translated into 20 very fast steps below, numbered 0,2,4, up to 38."
      ]
    },
    {
      "cell_type": "code",
      "metadata": {
        "id": "44kJtTHJuXdn",
        "colab": {
          "base_uri": "https://localhost:8080/"
        },
        "outputId": "551356a3-b5b4-450b-b2c7-4afab85ef819"
      },
      "source": [
        "dis(display_divmod)"
      ],
      "execution_count": 8,
      "outputs": [
        {
          "output_type": "stream",
          "name": "stdout",
          "text": [
            "  2           0 LOAD_FAST                0 (a)\n",
            "              2 LOAD_FAST                1 (b)\n",
            "              4 BINARY_FLOOR_DIVIDE\n",
            "              6 STORE_FAST               2 (quotient)\n",
            "\n",
            "  3           8 LOAD_FAST                0 (a)\n",
            "             10 LOAD_FAST                1 (b)\n",
            "             12 BINARY_MODULO\n",
            "             14 STORE_FAST               3 (remainder)\n",
            "\n",
            "  4          16 LOAD_GLOBAL              0 (print)\n",
            "             18 LOAD_CONST               1 ('{} = {} ({}) + {}')\n",
            "             20 LOAD_METHOD              1 (format)\n",
            "             22 LOAD_FAST                0 (a)\n",
            "             24 LOAD_FAST                2 (quotient)\n",
            "             26 LOAD_FAST                1 (b)\n",
            "             28 LOAD_FAST                3 (remainder)\n",
            "             30 CALL_METHOD              4\n",
            "             32 CALL_FUNCTION            1\n",
            "             34 POP_TOP\n",
            "             36 LOAD_CONST               0 (None)\n",
            "             38 RETURN_VALUE\n"
          ]
        }
      ]
    },
    {
      "cell_type": "markdown",
      "metadata": {
        "id": "g8zsMb4av9Pu"
      },
      "source": [
        "Below, we can run the function to see the output."
      ]
    },
    {
      "cell_type": "code",
      "metadata": {
        "scrolled": true,
        "id": "-5N5Px0XuXdn",
        "colab": {
          "base_uri": "https://localhost:8080/"
        },
        "outputId": "13aacb4b-3356-4d6a-d812-16c2a1a16a9c"
      },
      "source": [
        "display_divmod(23,5)"
      ],
      "execution_count": 9,
      "outputs": [
        {
          "output_type": "stream",
          "name": "stdout",
          "text": [
            "23 = 4 (5) + 3\n"
          ]
        }
      ]
    },
    {
      "cell_type": "markdown",
      "metadata": {
        "id": "JUD5Y7FLuXdn"
      },
      "source": [
        "Notice that this function has no `return` line.  The function terminates automatically at the end of its scope.\n",
        "\n",
        "The function also uses Python's **string formatting**.  This has changed between Python 2.x and 3.x, and this notebook uses Python 3.x syntax.\n",
        "\n",
        "String formatting allows you to insert placeholders like `{}` within a string, and later fill those places with a list of things.  "
      ]
    },
    {
      "cell_type": "code",
      "metadata": {
        "id": "qYo13qoyuXdn",
        "colab": {
          "base_uri": "https://localhost:8080/"
        },
        "outputId": "48d38a80-f0a8-4350-998d-0aa4921a6264"
      },
      "source": [
        "print(\"My favorite number is {}\".format(17))  # The .format \"method\" substitutes 17 for {}"
      ],
      "execution_count": 10,
      "outputs": [
        {
          "output_type": "stream",
          "name": "stdout",
          "text": [
            "My favorite number is 17\n"
          ]
        }
      ]
    },
    {
      "cell_type": "code",
      "metadata": {
        "id": "-XwFB1SBuXdo",
        "colab": {
          "base_uri": "https://localhost:8080/"
        },
        "outputId": "8d41668a-909d-4d52-d9ec-41a5ff5ef254"
      },
      "source": [
        "print(\"{} + {} = {}\".format(13,12,13+12))"
      ],
      "execution_count": 11,
      "outputs": [
        {
          "output_type": "stream",
          "name": "stdout",
          "text": [
            "13 + 12 = 25\n"
          ]
        }
      ]
    },
    {
      "cell_type": "markdown",
      "metadata": {
        "id": "6_WwWoLOuXdo"
      },
      "source": [
        "The `format` command is an example of a **string method**.  It has the effect of replacing all placeholders `{}` by the its inputs, in sequence.  There is an intricate syntax for these placeholders, to allow one to match placeholders with values in different orders, and to format different kinds of values.  Here is the [official reference for string formatting in Python 3.x](https://docs.python.org/3/library/string.html#formatstrings).  We will only use the most basic features, exhibited below."
      ]
    },
    {
      "cell_type": "code",
      "metadata": {
        "id": "IVmzfGzsuXdo",
        "colab": {
          "base_uri": "https://localhost:8080/"
        },
        "outputId": "73cf3f2d-3778-4cc9-8021-e0ccbd5ddd00"
      },
      "source": [
        "print (\"The number {} comes before {}.\".format(1,2)) # This should be familiar.\n",
        "print (\"The number {1} comes before {0}.\".format(1,2)) # What happens?\n",
        "print (\"The number {1} comes before {1}.\".format(1,2)) # Got it now?\n",
        "\n"
      ],
      "execution_count": 12,
      "outputs": [
        {
          "output_type": "stream",
          "name": "stdout",
          "text": [
            "The number 1 comes before 2.\n",
            "The number 2 comes before 1.\n",
            "The number 2 comes before 2.\n"
          ]
        }
      ]
    },
    {
      "cell_type": "markdown",
      "source": [
        "- {0} is the first number, while {1} is the second number in the format."
      ],
      "metadata": {
        "id": "6eHxS2Lzrg4r"
      }
    },
    {
      "cell_type": "markdown",
      "metadata": {
        "id": "ITCX3DmduXdo"
      },
      "source": [
        "By placing a number in the placeholder, like `{1}`, one can fill in the placeholders with the values in a different order, or repeat the same value.  The format method takes multiple parameters, and they are numbered:  parameter 0, parameter 1, parameter 2, etc..  So the placeholder `{1}` will be replaced by the second parameter (parameter 1).  It's confusing at first, but Python almost always starts counting at zero."
      ]
    },
    {
      "cell_type": "code",
      "metadata": {
        "id": "cDQWP_m4uXdo",
        "colab": {
          "base_uri": "https://localhost:8080/"
        },
        "outputId": "2a87d735-bf61-4732-d640-62acbe21faba"
      },
      "source": [
        "print(\"pi is approximately {0}\".format(3.14159265))\n",
        "print(\"pi is approximately {0:f}\".format(3.14159265)) # The \"f\" in \"0:f\" formats the float.\n",
        "print(\"pi is approximately {0:0.3f}\".format(3.14159265)) # Choose 3 digits of precision.\n"
      ],
      "execution_count": 13,
      "outputs": [
        {
          "output_type": "stream",
          "name": "stdout",
          "text": [
            "pi is approximately 3.14159265\n",
            "pi is approximately 3.141593\n",
            "pi is approximately 3.142\n"
          ]
        }
      ]
    },
    {
      "cell_type": "markdown",
      "metadata": {
        "id": "W9QjcrivuXdp"
      },
      "source": [
        "If you give some information about how the placeholder is being used, the format method will format things more nicely for printing.  The placeholder `{0:f}` will be replaced by parameter 0, and it will be formatted in a way that is nice for floats (hence the `f`).  Don't try formatting things outside of their type!"
      ]
    },
    {
      "cell_type": "code",
      "metadata": {
        "id": "WI4b7-z6uXdp",
        "colab": {
          "base_uri": "https://localhost:8080/",
          "height": 271
        },
        "outputId": "ba72d9a0-9370-4c43-9424-2f6d2aeb8aec"
      },
      "source": [
        "print(\"{:d} is a pretty big integer.\".format(2**100)) # d is the formatting code for integers.\n",
        "print(\"{:f} is an integer, formatted like a float.\".format(2**100))\n",
        "print(\"{:f} is a float, of course.\".format(1/7))\n",
        "print(\"{:s} is a string.\".format('Hi there!')) # s is the formatting code for strings.\n",
        "print(\"{:d} will give us an error message.\".format(1/7))\n"
      ],
      "execution_count": 14,
      "outputs": [
        {
          "output_type": "stream",
          "name": "stdout",
          "text": [
            "1267650600228229401496703205376 is a pretty big integer.\n",
            "1267650600228229401496703205376.000000 is an integer, formatted like a float.\n",
            "0.142857 is a float, of course.\n",
            "Hi there! is a string.\n"
          ]
        },
        {
          "output_type": "error",
          "ename": "ValueError",
          "evalue": "ignored",
          "traceback": [
            "\u001b[0;31m---------------------------------------------------------------------------\u001b[0m",
            "\u001b[0;31mValueError\u001b[0m                                Traceback (most recent call last)",
            "\u001b[0;32m<ipython-input-14-a243553941ff>\u001b[0m in \u001b[0;36m<module>\u001b[0;34m\u001b[0m\n\u001b[1;32m      3\u001b[0m \u001b[0mprint\u001b[0m\u001b[0;34m(\u001b[0m\u001b[0;34m\"{:f} is a float, of course.\"\u001b[0m\u001b[0;34m.\u001b[0m\u001b[0mformat\u001b[0m\u001b[0;34m(\u001b[0m\u001b[0;36m1\u001b[0m\u001b[0;34m/\u001b[0m\u001b[0;36m7\u001b[0m\u001b[0;34m)\u001b[0m\u001b[0;34m)\u001b[0m\u001b[0;34m\u001b[0m\u001b[0;34m\u001b[0m\u001b[0m\n\u001b[1;32m      4\u001b[0m \u001b[0mprint\u001b[0m\u001b[0;34m(\u001b[0m\u001b[0;34m\"{:s} is a string.\"\u001b[0m\u001b[0;34m.\u001b[0m\u001b[0mformat\u001b[0m\u001b[0;34m(\u001b[0m\u001b[0;34m'Hi there!'\u001b[0m\u001b[0;34m)\u001b[0m\u001b[0;34m)\u001b[0m \u001b[0;31m# s is the formatting code for strings.\u001b[0m\u001b[0;34m\u001b[0m\u001b[0;34m\u001b[0m\u001b[0m\n\u001b[0;32m----> 5\u001b[0;31m \u001b[0mprint\u001b[0m\u001b[0;34m(\u001b[0m\u001b[0;34m\"{:d} will give us an error message.\"\u001b[0m\u001b[0;34m.\u001b[0m\u001b[0mformat\u001b[0m\u001b[0;34m(\u001b[0m\u001b[0;36m1\u001b[0m\u001b[0;34m/\u001b[0m\u001b[0;36m7\u001b[0m\u001b[0;34m)\u001b[0m\u001b[0;34m)\u001b[0m\u001b[0;34m\u001b[0m\u001b[0;34m\u001b[0m\u001b[0m\n\u001b[0m",
            "\u001b[0;31mValueError\u001b[0m: Unknown format code 'd' for object of type 'float'"
          ]
        }
      ]
    },
    {
      "cell_type": "code",
      "metadata": {
        "id": "Xa4ug6SMuXdp",
        "colab": {
          "base_uri": "https://localhost:8080/"
        },
        "outputId": "f6bcd2b0-38c1-41e8-9924-0eaf843a3d7d"
      },
      "source": [
        "from math import sqrt  # Make sure the square root function is loaded.\n",
        "print(\"The square root of {0:d} is about {1:f}.\".format(1000, sqrt(1000)))"
      ],
      "execution_count": 15,
      "outputs": [
        {
          "output_type": "stream",
          "name": "stdout",
          "text": [
            "The square root of 1000 is about 31.622777.\n"
          ]
        }
      ]
    },
    {
      "cell_type": "markdown",
      "metadata": {
        "id": "SimNBwI0uXdp"
      },
      "source": [
        "### Exercises\n",
        "\n",
        "1.  What are the signals of scope in Python?\n",
        "\n",
        "2.  Write a function called area_circle, which takes one argument radius. The function should return the area of the circle, as a floating point number. Then add one line to the function, using string formatting, so that it additionally prints a helpful sentence of the form \"The area of a circle of radius 1.0 is 3.14159.\" (depending on the radius and the area it computes).\n",
        "\n",
        "3.  Write a function called factorial, which takes one argument called `n`.  The function should return the factorian of `n` when `n` is a positive integer.  Don't worry about what happens when `n` is zero, or a bad input.  Don't use recursion (if you know it) -- just use a for loop.\n",
        "\n",
        "4. `format` is an example of a \"string method\".  Another neat one is `replace`.  Try `\"Python\".replace(\"yth\",\"arag\")` to see what it does.  \n",
        "\n",
        "5.  Try the formatting codes `%` and `E` (instead of `f`) for a floating point number.  What do they do?\n",
        "\n",
        "6. Can you think of a reason you might want to have a function with *no* arguments?"
      ]
    },
    {
      "cell_type": "code",
      "metadata": {
        "id": "J_WzLsqwuXdp"
      },
      "source": [
        "#  Use this space to work on the Exercises.  \n",
        "#  Remember that you can add a new cell above/below by clicking to the left of a cell,\n",
        "#  (the cell will have a blue bar at the left) and then pressing \"a\" or \"b\" on the keyboard."
      ],
      "execution_count": null,
      "outputs": []
    },
    {
      "cell_type": "markdown",
      "source": [
        "**1)** Everything on the indented lines after the colon is considered within the *scope of the function* in Python. "
      ],
      "metadata": {
        "id": "3MD7FhK8tAKa"
      }
    },
    {
      "cell_type": "markdown",
      "source": [
        "**2)** Code below:"
      ],
      "metadata": {
        "id": "OVdMH8igwKMk"
      }
    },
    {
      "cell_type": "code",
      "source": [
        "def area_circle(r):\n",
        "  print(\"The area of a circle of radius {:0.1f} is {:0.5f}.\".format(r, 3.14159265359 * r * r))"
      ],
      "metadata": {
        "id": "dITT5L8LudEF"
      },
      "execution_count": 42,
      "outputs": []
    },
    {
      "cell_type": "code",
      "source": [
        "area_circle(1)"
      ],
      "metadata": {
        "colab": {
          "base_uri": "https://localhost:8080/"
        },
        "id": "DNsZ3nOHvKGU",
        "outputId": "ace12832-48b5-415a-c90e-6030e0aa604d"
      },
      "execution_count": 45,
      "outputs": [
        {
          "output_type": "stream",
          "name": "stdout",
          "text": [
            "The area of a circle of radius 1.0 is 3.14159.\n"
          ]
        }
      ]
    },
    {
      "cell_type": "code",
      "source": [
        "area_circle(2)"
      ],
      "metadata": {
        "colab": {
          "base_uri": "https://localhost:8080/"
        },
        "id": "FizPsNCywG4P",
        "outputId": "24f21c12-a5fa-4c77-a43a-808c778ebf06"
      },
      "execution_count": 46,
      "outputs": [
        {
          "output_type": "stream",
          "name": "stdout",
          "text": [
            "The area of a circle of radius 2.0 is 12.56637.\n"
          ]
        }
      ]
    },
    {
      "cell_type": "markdown",
      "source": [
        "**3)** Code below:"
      ],
      "metadata": {
        "id": "7Yo-I0w3wiIh"
      }
    },
    {
      "cell_type": "code",
      "source": [
        "def factorial(n):\n",
        "  m = n\n",
        "  if n > 0:\n",
        "    for i in range(1, n):\n",
        "      m = m * i\n",
        "    return m\n",
        "  elif n == 0:\n",
        "    print(1)\n",
        "  else:\n",
        "    print('undefined')"
      ],
      "metadata": {
        "id": "DCVQa26Twl6s"
      },
      "execution_count": 128,
      "outputs": []
    },
    {
      "cell_type": "code",
      "source": [
        "factorial(3)"
      ],
      "metadata": {
        "colab": {
          "base_uri": "https://localhost:8080/"
        },
        "id": "E1ANH1sXxgbV",
        "outputId": "e9e19bcf-d0fd-442c-9ad8-c98b74f2dc37"
      },
      "execution_count": 130,
      "outputs": [
        {
          "output_type": "execute_result",
          "data": {
            "text/plain": [
              "6"
            ]
          },
          "metadata": {},
          "execution_count": 130
        }
      ]
    },
    {
      "cell_type": "markdown",
      "source": [
        "**4)** The first parameter is replaced with the second parameter, shown in the code below."
      ],
      "metadata": {
        "id": "ip7QW4C51yU2"
      }
    },
    {
      "cell_type": "code",
      "source": [
        "print('Python'.replace(\"yth\",\"arag\"))"
      ],
      "metadata": {
        "colab": {
          "base_uri": "https://localhost:8080/"
        },
        "id": "TsUT-hSM1qBF",
        "outputId": "97f804cb-c9b3-4a9b-d3b1-838ebc09168c"
      },
      "execution_count": 133,
      "outputs": [
        {
          "output_type": "stream",
          "name": "stdout",
          "text": [
            "Paragon\n"
          ]
        }
      ]
    },
    {
      "cell_type": "markdown",
      "source": [
        "**5)** With the codes below, it looks like result in a float number. `{:%}` results in two more added zeros in the integers with a `%` at the end, but I think this is somehow wrong, and `{:E}` results in an integer or a float times `10 ** exponent`.  "
      ],
      "metadata": {
        "id": "cpXo8xyt5M9_"
      }
    },
    {
      "cell_type": "code",
      "source": [
        "def area_square(r):\n",
        "  print(\"The area of a square of a side {:0.1f} is {:5f}.\".format(r, r * r))\n",
        "  print(\"The area of a square of a side {:0.1f} is {:%}.\".format(r, r * r))\n",
        "  print(\"The area of a square of a side {:0.1f} is {:E}.\".format(r, r * r))"
      ],
      "metadata": {
        "id": "z15zS-KF3UZR"
      },
      "execution_count": 174,
      "outputs": []
    },
    {
      "cell_type": "code",
      "source": [
        "area_square(5)"
      ],
      "metadata": {
        "colab": {
          "base_uri": "https://localhost:8080/"
        },
        "id": "BdeFJdCB3h8x",
        "outputId": "e472c8f0-9396-43cb-c60d-78a72af522d7"
      },
      "execution_count": 178,
      "outputs": [
        {
          "output_type": "stream",
          "name": "stdout",
          "text": [
            "The area of a square of a side 5.0 is 25.000000.\n",
            "The area of a square of a side 5.0 is 2500.000000%.\n",
            "The area of a square of a side 5.0 is 2.500000E+01.\n"
          ]
        }
      ]
    },
    {
      "cell_type": "markdown",
      "source": [
        "**6)** I can't think of a reason why we might want to have a function with *no* arguments besides the function having a print in the scope with no argument needed. "
      ],
      "metadata": {
        "id": "dVBZbh5g7CH_"
      }
    },
    {
      "cell_type": "markdown",
      "metadata": {
        "id": "o-JZI8kbuXdp"
      },
      "source": [
        "## Control statements"
      ]
    },
    {
      "cell_type": "markdown",
      "metadata": {
        "id": "RoalaxvHuXdq"
      },
      "source": [
        "It is important for a computer program to behave differently under different circumstances.  The simplest control statements, `if` and its relative `else`, can be used to tell Python to carry out different actions depending on the value of a boolean variable.  The following function exhibits the syntax."
      ]
    },
    {
      "cell_type": "code",
      "metadata": {
        "id": "d8Fw2EdWuXdq"
      },
      "source": [
        "def is_even(n):\n",
        "    if n%2 == 0:\n",
        "        print(\"{} is even.\".format(n))\n",
        "        return True\n",
        "    else:\n",
        "        print(\"{} is odd.\".format(n))\n",
        "        return False"
      ],
      "execution_count": 179,
      "outputs": []
    },
    {
      "cell_type": "code",
      "metadata": {
        "id": "Ki1TLpgcuXdq",
        "colab": {
          "base_uri": "https://localhost:8080/"
        },
        "outputId": "d6842389-90e9-4922-e7e3-7c597f966e2d"
      },
      "source": [
        "is_even(17)"
      ],
      "execution_count": 180,
      "outputs": [
        {
          "output_type": "stream",
          "name": "stdout",
          "text": [
            "17 is odd.\n"
          ]
        },
        {
          "output_type": "execute_result",
          "data": {
            "text/plain": [
              "False"
            ]
          },
          "metadata": {},
          "execution_count": 180
        }
      ]
    },
    {
      "cell_type": "code",
      "metadata": {
        "id": "KXfWwovKuXdq",
        "colab": {
          "base_uri": "https://localhost:8080/"
        },
        "outputId": "0843bd35-ff4e-4e7a-d2d7-5757a83649e0"
      },
      "source": [
        "is_even(1000)"
      ],
      "execution_count": 181,
      "outputs": [
        {
          "output_type": "stream",
          "name": "stdout",
          "text": [
            "1000 is even.\n"
          ]
        },
        {
          "output_type": "execute_result",
          "data": {
            "text/plain": [
              "True"
            ]
          },
          "metadata": {},
          "execution_count": 181
        }
      ]
    },
    {
      "cell_type": "markdown",
      "metadata": {
        "id": "HCZgs7ucuXdq"
      },
      "source": [
        "The broad syntax of the function should be familiar.  We have created a function called `is_even` with one argument called `n`.  The body of the function uses the **control statement** `if n%2 == 0:`.  Recall that `n%2` gives the remainder after dividing `n` by `2`.  Thus `n%2` is 0 or 1, depending on whether `n` is even or odd.  Therefore the **boolean** `n%2 == 0` is `True` if `n` is even, and `False` if `n` is odd.\n",
        "\n",
        "The next two lines (the first `print` and `return` statements) are within the **scope** of the `if <boolean>:` statement, as indicated by the colon and the indentation.  The `if <boolean>:` statement tells the Python interpreter to perform the statements within the scope if the boolean is `True`, and to ignore the statements within the scope if the boolean is `False`.\n",
        "\n",
        "Putting it together, we can analyze the code.\n",
        "```python\n",
        "    if n%2 == 0:\n",
        "        print(\"{} is even.\".format(n))\n",
        "        return True\n",
        "```\n",
        "If `n` is even, then the Python interpreter will print a sentence of the form `n is even`.  Then the interpreter will return (output) the value `True` and the function will terminate.  If `n` is odd, the Python interpreter will ignore the two lines of scope."
      ]
    },
    {
      "cell_type": "markdown",
      "metadata": {
        "id": "9i0HhA_wuXdq"
      },
      "source": [
        "Often we don't just want Python to *do nothing* when a condition is not satisfied.  In the case above, we would rather Python tell us that the number is odd.  The `else:` control statement tells Python what to do in case the `if <boolean>:` control statement receives a `False` boolean.  We analyze the code\n",
        "```python\n",
        "    else:\n",
        "        print(\"{} is odd.\".format(n))\n",
        "        return False\n",
        "```\n",
        "The `print` and `return` commands are within the scope of the `else:` control statement.  So when the `if` statement receives a false signal (the number `n` is odd), the program prints a sentence of the form `n is odd.` and then returns the value `False` and terminates the function."
      ]
    },
    {
      "cell_type": "markdown",
      "metadata": {
        "id": "2ZZTXkc3uXdq"
      },
      "source": [
        "The function `is_even` is a verbose, or \"talkative\" sort of function.  Such a function is sometimes useful in an interactive setting, where the programmer wants to understand everything that's going on.  But if the function had to be called a million times, the screen would fill with printed sentences!  In practice, an efficient and silent function `is_even` might look like the following."
      ]
    },
    {
      "cell_type": "code",
      "metadata": {
        "id": "JnCmNtv7uXdr"
      },
      "source": [
        "def is_even(n):\n",
        "    return (n%2 == 0)"
      ],
      "execution_count": 182,
      "outputs": []
    },
    {
      "cell_type": "code",
      "metadata": {
        "id": "qJVILvBfuXdr",
        "colab": {
          "base_uri": "https://localhost:8080/"
        },
        "outputId": "d00bb921-8449-477e-9795-a25718102020"
      },
      "source": [
        "is_even(17)"
      ],
      "execution_count": 183,
      "outputs": [
        {
          "output_type": "execute_result",
          "data": {
            "text/plain": [
              "False"
            ]
          },
          "metadata": {},
          "execution_count": 183
        }
      ]
    },
    {
      "cell_type": "markdown",
      "metadata": {
        "id": "sy9_xgM7uXdr"
      },
      "source": [
        "A `for` loop and an `if` control statement, used together, allow us to carry out a **brute force** search.  We can search for factors in order to check whether a number is prime.  Or we can look for solutions to an equation until we find one.\n",
        "\n",
        "One thing to note:  the function below begins with a block of text between a triple-quote (three single-quotes when typing).  That text is called a **docstring** and it is meant to document what the function does.  Writing clear docstrings becomes more important as you write longer programs, collaborate with other programmers, and when you want to return months or years later to use a program again.  There are different style conventions for docstrings; for example, here are [Google's docstring conventions](https://google.github.io/styleguide/pyguide.html?showone=Comments#Comments).  We take a less formal approach."
      ]
    },
    {
      "cell_type": "code",
      "metadata": {
        "id": "3Z-ygku6uXdr"
      },
      "source": [
        "def is_prime(n):\n",
        "    '''\n",
        "    Checks whether the argument n is a prime number.\n",
        "    Uses a brute force search for factors between 1 and n.\n",
        "    '''\n",
        "    for j in range(2,n):  # the list of numbers 2,3,...,n-1.\n",
        "        if n%j == 0:  # is n divisible by j?\n",
        "            print(\"{} is a factor of {}.\".format(j,n))\n",
        "            return False\n",
        "    return True"
      ],
      "execution_count": 184,
      "outputs": []
    },
    {
      "cell_type": "markdown",
      "metadata": {
        "id": "kLAH4a_buXdr"
      },
      "source": [
        "An important note:  the `return` keyword **terminates** the function.  So as soon as a factor is found, the function terminates and outputs `False`.  If no factor is found, then the function execution survives past the loop, and the line `return True` is executed to terminate the function."
      ]
    },
    {
      "cell_type": "code",
      "metadata": {
        "id": "LSjrO41kuXdr",
        "colab": {
          "base_uri": "https://localhost:8080/"
        },
        "outputId": "7f414483-5539-459d-e45d-aa01058d2c57"
      },
      "source": [
        "is_prime(91)"
      ],
      "execution_count": 185,
      "outputs": [
        {
          "output_type": "stream",
          "name": "stdout",
          "text": [
            "7 is a factor of 91.\n"
          ]
        },
        {
          "output_type": "execute_result",
          "data": {
            "text/plain": [
              "False"
            ]
          },
          "metadata": {},
          "execution_count": 185
        }
      ]
    },
    {
      "cell_type": "code",
      "metadata": {
        "id": "478jwHBwuXdr",
        "colab": {
          "base_uri": "https://localhost:8080/"
        },
        "outputId": "26c3b244-89df-47de-e516-6e845d9f8bd2"
      },
      "source": [
        "is_prime(101)"
      ],
      "execution_count": 186,
      "outputs": [
        {
          "output_type": "execute_result",
          "data": {
            "text/plain": [
              "True"
            ]
          },
          "metadata": {},
          "execution_count": 186
        }
      ]
    },
    {
      "cell_type": "markdown",
      "metadata": {
        "id": "RLMZKMW4uXds"
      },
      "source": [
        "Try the `is_prime` function on bigger numbers -- try numbers with 4 digits, 5 digits, 6 digits.  Where does it start to slow down?  Do you get any errors when the numbers are large?  Make sure to save your work first, just in case this crashes your computer!  \n",
        "\n"
      ]
    },
    {
      "cell_type": "code",
      "metadata": {
        "id": "5QVw3Xy8uXds",
        "colab": {
          "base_uri": "https://localhost:8080/"
        },
        "outputId": "b1b7592c-5ecb-4970-d723-760baaeef76a"
      },
      "source": [
        "# Experiment with is_prime here.\n",
        "is_prime(1234)"
      ],
      "execution_count": 188,
      "outputs": [
        {
          "output_type": "stream",
          "name": "stdout",
          "text": [
            "2 is a factor of 1234.\n"
          ]
        },
        {
          "output_type": "execute_result",
          "data": {
            "text/plain": [
              "False"
            ]
          },
          "metadata": {},
          "execution_count": 188
        }
      ]
    },
    {
      "cell_type": "code",
      "source": [
        "is_prime(56789)"
      ],
      "metadata": {
        "colab": {
          "base_uri": "https://localhost:8080/"
        },
        "id": "5PedQlgf81Z6",
        "outputId": "48547e52-87c5-4bef-cf94-7159a7e99e36"
      },
      "execution_count": 189,
      "outputs": [
        {
          "output_type": "stream",
          "name": "stdout",
          "text": [
            "109 is a factor of 56789.\n"
          ]
        },
        {
          "output_type": "execute_result",
          "data": {
            "text/plain": [
              "False"
            ]
          },
          "metadata": {},
          "execution_count": 189
        }
      ]
    },
    {
      "cell_type": "code",
      "source": [
        "is_prime(123456)"
      ],
      "metadata": {
        "colab": {
          "base_uri": "https://localhost:8080/"
        },
        "id": "4R3w0sfh83PI",
        "outputId": "bfe229d5-4790-4477-b949-ff53b20acebe"
      },
      "execution_count": 190,
      "outputs": [
        {
          "output_type": "stream",
          "name": "stdout",
          "text": [
            "2 is a factor of 123456.\n"
          ]
        },
        {
          "output_type": "execute_result",
          "data": {
            "text/plain": [
              "False"
            ]
          },
          "metadata": {},
          "execution_count": 190
        }
      ]
    },
    {
      "cell_type": "code",
      "source": [
        "is_prime(7891234)"
      ],
      "metadata": {
        "colab": {
          "base_uri": "https://localhost:8080/"
        },
        "id": "eDV6zkak85Zg",
        "outputId": "13b5bad3-80f6-4ede-c875-6510e76fa2fa"
      },
      "execution_count": 191,
      "outputs": [
        {
          "output_type": "stream",
          "name": "stdout",
          "text": [
            "2 is a factor of 7891234.\n"
          ]
        },
        {
          "output_type": "execute_result",
          "data": {
            "text/plain": [
              "False"
            ]
          },
          "metadata": {},
          "execution_count": 191
        }
      ]
    },
    {
      "cell_type": "code",
      "source": [
        "is_prime(56789123)"
      ],
      "metadata": {
        "colab": {
          "base_uri": "https://localhost:8080/"
        },
        "id": "KNRXSrrm89sd",
        "outputId": "1dfa5268-fea5-4bbe-ca79-9da8621a48ea"
      },
      "execution_count": 192,
      "outputs": [
        {
          "output_type": "execute_result",
          "data": {
            "text/plain": [
              "True"
            ]
          },
          "metadata": {},
          "execution_count": 192
        }
      ]
    },
    {
      "cell_type": "code",
      "source": [
        "is_prime(456789123)"
      ],
      "metadata": {
        "colab": {
          "base_uri": "https://localhost:8080/"
        },
        "id": "Fa4dm5aj9GLW",
        "outputId": "d4785aef-5cf2-4b34-8274-9eec246b5798"
      },
      "execution_count": 193,
      "outputs": [
        {
          "output_type": "stream",
          "name": "stdout",
          "text": [
            "3 is a factor of 456789123.\n"
          ]
        },
        {
          "output_type": "execute_result",
          "data": {
            "text/plain": [
              "False"
            ]
          },
          "metadata": {},
          "execution_count": 193
        }
      ]
    },
    {
      "cell_type": "code",
      "source": [
        "is_prime(4567891234)"
      ],
      "metadata": {
        "colab": {
          "base_uri": "https://localhost:8080/"
        },
        "id": "um62giB29LU-",
        "outputId": "3cf3198e-991f-45f3-fe8f-b9beacc20200"
      },
      "execution_count": 194,
      "outputs": [
        {
          "output_type": "stream",
          "name": "stdout",
          "text": [
            "2 is a factor of 4567891234.\n"
          ]
        },
        {
          "output_type": "execute_result",
          "data": {
            "text/plain": [
              "False"
            ]
          },
          "metadata": {},
          "execution_count": 194
        }
      ]
    },
    {
      "cell_type": "code",
      "source": [
        "is_prime(17196591344133151357492400543636671531373187531310283)"
      ],
      "metadata": {
        "colab": {
          "base_uri": "https://localhost:8080/"
        },
        "id": "W9UYX5R_9Xon",
        "outputId": "41a75b04-f96f-4289-ea7f-325643826545"
      },
      "execution_count": 198,
      "outputs": [
        {
          "output_type": "stream",
          "name": "stdout",
          "text": [
            "449671 is a factor of 17196591344133151357492400543636671531373187531310283.\n"
          ]
        },
        {
          "output_type": "execute_result",
          "data": {
            "text/plain": [
              "False"
            ]
          },
          "metadata": {},
          "execution_count": 198
        }
      ]
    },
    {
      "cell_type": "markdown",
      "source": [
        "- The function only ever slowed down when the function resulted in `True`, and it does take long or give errors when the number is large. I tried the example in the paragraph below and it didn't give a result so I ended it. "
      ],
      "metadata": {
        "id": "FzJlO8xr9PGN"
      }
    },
    {
      "cell_type": "markdown",
      "metadata": {
        "id": "Nxhj-gMjuXds"
      },
      "source": [
        "There are two limiting factors, which we study in more detail later.  These are **time** and **space** (your computer's memory space).  As the loop of `is_prime` goes on and on, it might take your computer a long time!  If each step of the loop takes only a nanosecond (1 billionth of a second), the loop would take about a second when executing `is_prime(1000000001)`.  If you tried `is_prime` on a much larger number, like `is_prime(2**101 - 1)`, the loop would take longer than the lifetime of the Earth.\n",
        "\n",
        "The other issue that can arise is a problem with *space*.  In Python 3.x, the `range(2,n)` cleverly *avoids* storing all the numbers between `2` and `n-1` in memory.  It just remembers the endpoints, and how to proceed from one number to the next.  In the older version, Python 2.x, the range command `range(2,n)` would have tried to store the entire list of numbers `[2,3,4,...,n-1]` in the memory of your computer.  Your computer has some (4 or 8 or 16, perhaps) gigabytes of memory (RAM).  A gigabyte is a billion bytes, and a byte is enough memory to store a number between 0 and 255.  (More detail about this later!).  So a gigabyte will not even hold a billion numbers.  So our `is_prime` function would have led to memory problems in Python 2.x, but in Python 3.x we don't have to worry (for now) about space."
      ]
    },
    {
      "cell_type": "markdown",
      "metadata": {
        "id": "em93aZ_huXds"
      },
      "source": [
        "### Exercises\n",
        "\n",
        "1.  Create a function `my_abs(x)` which outputs the absolute value of the argument `x`.  (Note that Python already has a built-in `abs(x)` function).  \n",
        "\n",
        "2.  Modify the `is_prime` function so that it prints a message `Number too big` and returns `None` if the input argument is bigger than one million.  (Note that `None` is a Python reserved word.  You can use the one-line statement `return None`.)  \n",
        "\n",
        "3.  Write a Python function `thrarity` which takes an argument `n`, and outputs the string `threeven` if `n` is a multiple of three, or `throdd` is `n` is one more than a multiple of three, or `thrugly` if `n` is one less than a multiple of three.  Example:  `thrarity(31)` should output `throdd` and `thrarity(44)` should output `thrugly`.  Hint:  study the `if`/`elif` syntax at [the official Python tutorial](https://docs.python.org/3/tutorial/controlflow.html#if-statements)\n",
        "\n",
        "4.  Write a Python function `sum_of_squares(n)` which finds and prints a pair of natural numbers $x$, $y$, such that $x^2 + y^2 = n$.  The function should use a brute force search and return `None` if no such pair of numbers $x,y$ exists.  Explore which natural numbers can be expressed as sums of two squares... hint:  look at prime numbers first!\n",
        "\n",
        "5.  Write a function `gamma(n)` which takes a positive integer n as input, and outputs the difference between the harmonic sum $\\frac{1}{1} + \\frac{1}{2} + \\frac{1}{3} + \\cdots + \\frac{1}{n}$ and the natural logarithm $\\log(n)$.  Use numpy to compute the logarithm, by using the command `from numpy import log` in a separate cell.  Approximate $\\gamma(n)$ as $n \\rightarrow \\infty$.  How large does $n$ need to be to get five digits of precision on this limit?  Can you prove that the limit $\\lim_{n \\rightarrow \\infty} \\gamma(n)$ exists?"
      ]
    },
    {
      "cell_type": "code",
      "metadata": {
        "id": "l5IQH9hxuXds"
      },
      "source": [
        "#  Use this space for your solutions to the questions."
      ],
      "execution_count": null,
      "outputs": []
    },
    {
      "cell_type": "markdown",
      "source": [
        "**1)** Code below:"
      ],
      "metadata": {
        "id": "RCctntJs-0tS"
      }
    },
    {
      "cell_type": "code",
      "source": [
        "def my_abs(x):\n",
        "  if x < 0: \n",
        "    x = x * -1\n",
        "    return x\n",
        "  else:\n",
        "    return x"
      ],
      "metadata": {
        "id": "w_MD3znT-X5v"
      },
      "execution_count": 201,
      "outputs": []
    },
    {
      "cell_type": "code",
      "source": [
        "my_abs(-3)"
      ],
      "metadata": {
        "colab": {
          "base_uri": "https://localhost:8080/"
        },
        "id": "EGMEawYc-qlJ",
        "outputId": "04abc1d6-8e6f-4fe6-9fed-85b2b5305396"
      },
      "execution_count": 209,
      "outputs": [
        {
          "output_type": "execute_result",
          "data": {
            "text/plain": [
              "3"
            ]
          },
          "metadata": {},
          "execution_count": 209
        }
      ]
    },
    {
      "cell_type": "code",
      "source": [
        "my_abs(3)"
      ],
      "metadata": {
        "colab": {
          "base_uri": "https://localhost:8080/"
        },
        "id": "Ra5CW6-L-xfg",
        "outputId": "065323b1-35dd-4d77-b7dd-5a41b85ff09e"
      },
      "execution_count": 208,
      "outputs": [
        {
          "output_type": "execute_result",
          "data": {
            "text/plain": [
              "3"
            ]
          },
          "metadata": {},
          "execution_count": 208
        }
      ]
    },
    {
      "cell_type": "markdown",
      "source": [
        "**2)** Code below:"
      ],
      "metadata": {
        "id": "GYAlXZLh_G-p"
      }
    },
    {
      "cell_type": "code",
      "source": [
        "def is_prime(n):\n",
        "  if n < 1000000000:\n",
        "    for j in range(2,n):  # the list of numbers 2,3,...,n-1.\n",
        "        if n%j == 0:  # is n divisible by j?\n",
        "            print(\"{} is a factor of {}.\".format(j,n))\n",
        "            return False\n",
        "    return True\n",
        "  else:\n",
        "    return None"
      ],
      "metadata": {
        "id": "1mRaV24Y_GUw"
      },
      "execution_count": 210,
      "outputs": []
    },
    {
      "cell_type": "code",
      "source": [
        "is_prime(3000000000)"
      ],
      "metadata": {
        "id": "jLPUmzEo_ndh"
      },
      "execution_count": 219,
      "outputs": []
    },
    {
      "cell_type": "markdown",
      "source": [
        "**3)** Code below:\n"
      ],
      "metadata": {
        "id": "4sEybfBzAEk6"
      }
    },
    {
      "cell_type": "code",
      "source": [
        "def thrarity(n):\n",
        "  if n % 3 == 0:\n",
        "    print('threeven')\n",
        "  elif n % 3 == 1:\n",
        "    print('throdd')\n",
        "  else:\n",
        "    print('thrugly')"
      ],
      "metadata": {
        "id": "K_WOKgTyAY-x"
      },
      "execution_count": 220,
      "outputs": []
    },
    {
      "cell_type": "code",
      "source": [
        "thrarity(15)"
      ],
      "metadata": {
        "colab": {
          "base_uri": "https://localhost:8080/"
        },
        "id": "w9RwQ6S_BHkr",
        "outputId": "72317e6e-b602-4f78-b32b-c69772df224e"
      },
      "execution_count": 224,
      "outputs": [
        {
          "output_type": "stream",
          "name": "stdout",
          "text": [
            "threeven\n"
          ]
        }
      ]
    },
    {
      "cell_type": "code",
      "source": [
        "thrarity(31)"
      ],
      "metadata": {
        "colab": {
          "base_uri": "https://localhost:8080/"
        },
        "id": "m_5hUKHYBNFL",
        "outputId": "bd1b16d9-c407-4a46-8c07-8c6a76ea2249"
      },
      "execution_count": 225,
      "outputs": [
        {
          "output_type": "stream",
          "name": "stdout",
          "text": [
            "throdd\n"
          ]
        }
      ]
    },
    {
      "cell_type": "code",
      "source": [
        "thrarity(44)"
      ],
      "metadata": {
        "colab": {
          "base_uri": "https://localhost:8080/"
        },
        "id": "ihr_CfhxBO4T",
        "outputId": "f1c12200-097b-4d72-8567-2508146180fe"
      },
      "execution_count": 226,
      "outputs": [
        {
          "output_type": "stream",
          "name": "stdout",
          "text": [
            "thrugly\n"
          ]
        }
      ]
    },
    {
      "cell_type": "markdown",
      "source": [
        "**4)** Code below:"
      ],
      "metadata": {
        "id": "CIfUf178BZUa"
      }
    },
    {
      "cell_type": "code",
      "source": [
        "def sum_of_squares(n):\n",
        "  for x in range(1,n):\n",
        "    x_squared = x * x\n",
        "    if x_squared == n:\n",
        "      return True\n",
        "    else:\n",
        "      for y in range(1,n):\n",
        "        y_squared = y * y\n",
        "        if x_squared + y_squared == n:\n",
        "          return True\n",
        "        else:\n",
        "          continue"
      ],
      "metadata": {
        "id": "3OXWn7L6BY-h"
      },
      "execution_count": 320,
      "outputs": []
    },
    {
      "cell_type": "code",
      "source": [
        "sum_of_squares(20)"
      ],
      "metadata": {
        "colab": {
          "base_uri": "https://localhost:8080/"
        },
        "id": "dDn-DYbIBY5m",
        "outputId": "0b771c03-1c3e-491d-b5c5-7d40397d2f70"
      },
      "execution_count": 323,
      "outputs": [
        {
          "output_type": "execute_result",
          "data": {
            "text/plain": [
              "True"
            ]
          },
          "metadata": {},
          "execution_count": 323
        }
      ]
    },
    {
      "cell_type": "code",
      "source": [
        "print(sum_of_squares(14))"
      ],
      "metadata": {
        "colab": {
          "base_uri": "https://localhost:8080/"
        },
        "id": "MrcLUxKXK6jQ",
        "outputId": "13ade029-0be9-46a7-d14f-8d6370d282ce"
      },
      "execution_count": 322,
      "outputs": [
        {
          "output_type": "stream",
          "name": "stdout",
          "text": [
            "None\n"
          ]
        }
      ]
    },
    {
      "cell_type": "markdown",
      "source": [
        "- Below is scratch work for above"
      ],
      "metadata": {
        "id": "ajmIeE67LAt7"
      }
    },
    {
      "cell_type": "code",
      "source": [
        "n = 101\n",
        "for x in range(1,n):\n",
        "  x_squared = x * x\n",
        "  if x_squared == n:\n",
        "    print('{} plus zero equals to {}'.format(x_squared,n))\n",
        "  else:\n",
        "    for y in range(1,n):\n",
        "      y_squared = y * y\n",
        "      if x_squared + y_squared == n:\n",
        "        print('{} plus {} equals to {}'.format(x_squared,y_squared,n))\n",
        "      else:\n",
        "        continue"
      ],
      "metadata": {
        "colab": {
          "base_uri": "https://localhost:8080/"
        },
        "id": "HA9elXJ6IzBU",
        "outputId": "0f13f283-881f-4b16-a593-6d07aded1946"
      },
      "execution_count": 319,
      "outputs": [
        {
          "output_type": "stream",
          "name": "stdout",
          "text": [
            "1 plus 100 equals to 101\n",
            "100 plus 1 equals to 101\n"
          ]
        }
      ]
    },
    {
      "cell_type": "markdown",
      "source": [
        "**5)** Code below:"
      ],
      "metadata": {
        "id": "QHVee7tbLQXB"
      }
    },
    {
      "cell_type": "code",
      "source": [
        "from numpy import log\n",
        "def gamma(n):\n",
        "  x = 0\n",
        "  natural_log = log(n)\n",
        "  for i in range(1,n+1):\n",
        "    x += 1 / i\n",
        "  diff = x - natural_log\n",
        "  return diff"
      ],
      "metadata": {
        "id": "s6UqhtSGLfDB"
      },
      "execution_count": 330,
      "outputs": []
    },
    {
      "cell_type": "code",
      "source": [
        "gamma(100000000)"
      ],
      "metadata": {
        "colab": {
          "base_uri": "https://localhost:8080/"
        },
        "id": "gUBWDlIZLjXl",
        "outputId": "4cf66998-75b4-40fd-e112-6316882ce933"
      },
      "execution_count": 362,
      "outputs": [
        {
          "output_type": "execute_result",
          "data": {
            "text/plain": [
              "0.5772156699001876"
            ]
          },
          "metadata": {},
          "execution_count": 362
        }
      ]
    },
    {
      "cell_type": "markdown",
      "source": [
        "Since the fucntion above produced  $Σ_{n=1}^{100000000}$$\\frac{1}{n}-ln(100000000)=0.5772156699001876$ with little time, one can assume the function goes close to 0.57 or 0.5 or even 0 as $n→∞$. $ln(∞)=undefined$, so using l'hopital's rule, the function becomes $(Σ_{n=1}^{∞}$$-\\frac{1}{n^2})-\\frac{1}{∞}$, which becomes $Σ_{n=1}^{∞}$$-\\frac{1}{n^2}$, which will result in a result."
      ],
      "metadata": {
        "id": "gI8wFNDbPiyG"
      }
    },
    {
      "cell_type": "markdown",
      "metadata": {
        "id": "aojvLt0YuXds"
      },
      "source": [
        "## Handling errors by raising exceptions.\n",
        "\n",
        "In the previous batch of exercises, we tried to modify functions to be a bit more intelligent -- identifying when numbers were \"too big\" for example.  There's a professional way to handle these situations, by raising *exceptions*.  Here is the [official documentation on errors and exceptions](https://docs.python.org/3/tutorial/errors.html).  We will focus on raising exceptions to catch \"bad inputs\" to functions.  Let's revisit our `is_even` function."
      ]
    },
    {
      "cell_type": "code",
      "metadata": {
        "id": "8-pN2piIuXds"
      },
      "source": [
        "def is_even(n):\n",
        "    return (n%2 == 0)"
      ],
      "execution_count": 363,
      "outputs": []
    },
    {
      "cell_type": "code",
      "metadata": {
        "id": "9N-eMKduuXds",
        "colab": {
          "base_uri": "https://localhost:8080/"
        },
        "outputId": "1aadbe77-dadf-4900-b147-da28e3517b93"
      },
      "source": [
        "is_even(3.14)  # What will this do? It'll result in False."
      ],
      "execution_count": 364,
      "outputs": [
        {
          "output_type": "execute_result",
          "data": {
            "text/plain": [
              "False"
            ]
          },
          "metadata": {},
          "execution_count": 364
        }
      ]
    },
    {
      "cell_type": "code",
      "metadata": {
        "id": "rmVWWIM9uXds",
        "colab": {
          "base_uri": "https://localhost:8080/"
        },
        "outputId": "b0e1e573-509f-4a8c-c39d-66a4af417acd"
      },
      "source": [
        "3.14%2  # Well, this explains it!"
      ],
      "execution_count": 365,
      "outputs": [
        {
          "output_type": "execute_result",
          "data": {
            "text/plain": [
              "1.1400000000000001"
            ]
          },
          "metadata": {},
          "execution_count": 365
        }
      ]
    },
    {
      "cell_type": "markdown",
      "metadata": {
        "id": "PvqMgEecuXds"
      },
      "source": [
        "Although the output of `is_even(3.14)` might be what you want, a smarter function might let the user know that 3.14 should not be input into `is_even`.  We commonly ask whether *integers* are even or odd; if a non-integer ends up input to `is_even`, it might be a sign of a bug elsewhere.  One possibility is to modify the function by manually printing an error message."
      ]
    },
    {
      "cell_type": "code",
      "metadata": {
        "id": "huFP5FyeuXds"
      },
      "source": [
        "def is_even(n):\n",
        "    if type(n) == int:\n",
        "        return (n%2 == 0)\n",
        "    else:\n",
        "        print(\"Bad input!  Please input integers only.\")\n",
        "        return None"
      ],
      "execution_count": 366,
      "outputs": []
    },
    {
      "cell_type": "code",
      "metadata": {
        "id": "2KZBZWcHuXdt",
        "colab": {
          "base_uri": "https://localhost:8080/"
        },
        "outputId": "fa9b3ae9-35d3-48da-d98e-97ddb7c61df8"
      },
      "source": [
        "is_even(4)"
      ],
      "execution_count": 367,
      "outputs": [
        {
          "output_type": "execute_result",
          "data": {
            "text/plain": [
              "True"
            ]
          },
          "metadata": {},
          "execution_count": 367
        }
      ]
    },
    {
      "cell_type": "code",
      "metadata": {
        "id": "Mm0Hn7LWuXdt",
        "colab": {
          "base_uri": "https://localhost:8080/"
        },
        "outputId": "abc92076-5879-45d6-f988-535af71b1257"
      },
      "source": [
        "is_even(3.14)"
      ],
      "execution_count": 368,
      "outputs": [
        {
          "output_type": "stream",
          "name": "stdout",
          "text": [
            "Bad input!  Please input integers only.\n"
          ]
        }
      ]
    },
    {
      "cell_type": "code",
      "metadata": {
        "id": "NBOviOZruXdt",
        "colab": {
          "base_uri": "https://localhost:8080/"
        },
        "outputId": "735317b7-4204-4d73-c972-de1a5dce4b3d"
      },
      "source": [
        "print(is_even(3.14))"
      ],
      "execution_count": 369,
      "outputs": [
        {
          "output_type": "stream",
          "name": "stdout",
          "text": [
            "Bad input!  Please input integers only.\n",
            "None\n"
          ]
        }
      ]
    },
    {
      "cell_type": "markdown",
      "metadata": {
        "id": "mAXQeQhyuXdt"
      },
      "source": [
        "This behavior is a bit better.  The output of the function is neither True nor False, when a non-integer is input.  Instead, the smarter function outputs `None`, which is exactly what it sounds like."
      ]
    },
    {
      "cell_type": "code",
      "metadata": {
        "id": "bYi3Vy4duXdt",
        "colab": {
          "base_uri": "https://localhost:8080/"
        },
        "outputId": "e2321f87-10b8-4984-ea31-b220b59416dd"
      },
      "source": [
        "type(None) # A zen command."
      ],
      "execution_count": 370,
      "outputs": [
        {
          "output_type": "execute_result",
          "data": {
            "text/plain": [
              "NoneType"
            ]
          },
          "metadata": {},
          "execution_count": 370
        }
      ]
    },
    {
      "cell_type": "markdown",
      "metadata": {
        "id": "u1VJVIs8uXdt"
      },
      "source": [
        "Instead of manually using a print command and returning None, we can use Python's built-in `exception` class.  Raising exceptions is the Pythonic way of catching errors, and this will make things smoother in the long term.  Here's a new and safe `is_even` function."
      ]
    },
    {
      "cell_type": "code",
      "metadata": {
        "id": "zaktPSqXuXdt"
      },
      "source": [
        "def is_even(n):\n",
        "    if type(n) == int:\n",
        "        return (n%2 == 0)\n",
        "    else:\n",
        "        raise TypeError('Only integers can be even or odd.')"
      ],
      "execution_count": 371,
      "outputs": []
    },
    {
      "cell_type": "code",
      "metadata": {
        "id": "49h2r4O3uXdt",
        "colab": {
          "base_uri": "https://localhost:8080/"
        },
        "outputId": "71095c6d-6b9d-4f4f-ba92-a5aa2331b7c8"
      },
      "source": [
        "is_even(3)"
      ],
      "execution_count": 372,
      "outputs": [
        {
          "output_type": "execute_result",
          "data": {
            "text/plain": [
              "False"
            ]
          },
          "metadata": {},
          "execution_count": 372
        }
      ]
    },
    {
      "cell_type": "code",
      "metadata": {
        "id": "iOw7QU5DuXdt",
        "colab": {
          "base_uri": "https://localhost:8080/",
          "height": 253
        },
        "outputId": "3ead075d-1962-4334-cc88-aad62e1e2aff"
      },
      "source": [
        "is_even(3.14)"
      ],
      "execution_count": 373,
      "outputs": [
        {
          "output_type": "error",
          "ename": "TypeError",
          "evalue": "ignored",
          "traceback": [
            "\u001b[0;31m---------------------------------------------------------------------------\u001b[0m",
            "\u001b[0;31mTypeError\u001b[0m                                 Traceback (most recent call last)",
            "\u001b[0;32m<ipython-input-373-24ec50760f46>\u001b[0m in \u001b[0;36m<module>\u001b[0;34m\u001b[0m\n\u001b[0;32m----> 1\u001b[0;31m \u001b[0mis_even\u001b[0m\u001b[0;34m(\u001b[0m\u001b[0;36m3.14\u001b[0m\u001b[0;34m)\u001b[0m\u001b[0;34m\u001b[0m\u001b[0;34m\u001b[0m\u001b[0m\n\u001b[0m",
            "\u001b[0;32m<ipython-input-371-965faba9098f>\u001b[0m in \u001b[0;36mis_even\u001b[0;34m(n)\u001b[0m\n\u001b[1;32m      3\u001b[0m         \u001b[0;32mreturn\u001b[0m \u001b[0;34m(\u001b[0m\u001b[0mn\u001b[0m\u001b[0;34m%\u001b[0m\u001b[0;36m2\u001b[0m \u001b[0;34m==\u001b[0m \u001b[0;36m0\u001b[0m\u001b[0;34m)\u001b[0m\u001b[0;34m\u001b[0m\u001b[0;34m\u001b[0m\u001b[0m\n\u001b[1;32m      4\u001b[0m     \u001b[0;32melse\u001b[0m\u001b[0;34m:\u001b[0m\u001b[0;34m\u001b[0m\u001b[0;34m\u001b[0m\u001b[0m\n\u001b[0;32m----> 5\u001b[0;31m         \u001b[0;32mraise\u001b[0m \u001b[0mTypeError\u001b[0m\u001b[0;34m(\u001b[0m\u001b[0;34m'Only integers can be even or odd.'\u001b[0m\u001b[0;34m)\u001b[0m\u001b[0;34m\u001b[0m\u001b[0;34m\u001b[0m\u001b[0m\n\u001b[0m",
            "\u001b[0;31mTypeError\u001b[0m: Only integers can be even or odd."
          ]
        }
      ]
    },
    {
      "cell_type": "markdown",
      "metadata": {
        "id": "W-Ns1RSDuXdt"
      },
      "source": [
        "Instead of manually printing the error message and returning `None`, we have raised a `TypeError`.  This gives information about the kind of error, and a custom error message is displayed at the end.  Type errors are meant for situations where a variable belongs to the wrong type.  `TypeError` is just one kind of \"exception\" -- the full built-in hierarchy of exceptions can be found in the [official Python documentation](https://docs.python.org/3/library/exceptions.html#exception-hierarchy).\n",
        "\n",
        "Another kind of exception is the `ValueError`.  It seems similar to `TypeError` at first, but `ValueError` is meant to catch an input that has a \"bad\" value, even if it is the right type.  For example, here is a square root function that only works with positive input.  It should raise an exception (error message) when a negative number is input.  Both positive and negative numbers can be represented as floats, so the error doesn't represent the *wrong type*.  The error represents a *bad value*.  "
      ]
    },
    {
      "cell_type": "code",
      "metadata": {
        "id": "YC762YAjuXdu"
      },
      "source": [
        "def sqrt(x):\n",
        "    '''\n",
        "    Estimates the square root of a positive number x.\n",
        "    '''\n",
        "    if x < 0:\n",
        "        raise ValueError('Cannot approximate square root of negative numbers.')\n",
        "    guess= x/2 # A decent place to start\n",
        "    while True: # A dangerous loop!  See next section...\n",
        "        new_guess = 0.5 * (guess + x/guess)\n",
        "        if abs(new_guess - guess) < .000000001: # close enough!\n",
        "            return new_guess\n",
        "        guess = new_guess"
      ],
      "execution_count": 374,
      "outputs": []
    },
    {
      "cell_type": "code",
      "metadata": {
        "id": "0uwvsrDNuXdu",
        "colab": {
          "base_uri": "https://localhost:8080/"
        },
        "outputId": "afe7ae82-dfc4-4237-8068-cd21dbd4ba28"
      },
      "source": [
        "sqrt(3) # This should be ok."
      ],
      "execution_count": 375,
      "outputs": [
        {
          "output_type": "execute_result",
          "data": {
            "text/plain": [
              "1.7320508075688772"
            ]
          },
          "metadata": {},
          "execution_count": 375
        }
      ]
    },
    {
      "cell_type": "code",
      "metadata": {
        "scrolled": true,
        "id": "DpBaST5WuXdu",
        "colab": {
          "base_uri": "https://localhost:8080/",
          "height": 288
        },
        "outputId": "cf63d614-a594-4b11-b70b-5132e0e88fe7"
      },
      "source": [
        "sqrt(-3)"
      ],
      "execution_count": 376,
      "outputs": [
        {
          "output_type": "error",
          "ename": "ValueError",
          "evalue": "ignored",
          "traceback": [
            "\u001b[0;31m---------------------------------------------------------------------------\u001b[0m",
            "\u001b[0;31mValueError\u001b[0m                                Traceback (most recent call last)",
            "\u001b[0;32m<ipython-input-376-8be5c01c52c0>\u001b[0m in \u001b[0;36m<module>\u001b[0;34m\u001b[0m\n\u001b[0;32m----> 1\u001b[0;31m \u001b[0msqrt\u001b[0m\u001b[0;34m(\u001b[0m\u001b[0;34m-\u001b[0m\u001b[0;36m3\u001b[0m\u001b[0;34m)\u001b[0m\u001b[0;34m\u001b[0m\u001b[0;34m\u001b[0m\u001b[0m\n\u001b[0m",
            "\u001b[0;32m<ipython-input-374-39991b3bf836>\u001b[0m in \u001b[0;36msqrt\u001b[0;34m(x)\u001b[0m\n\u001b[1;32m      4\u001b[0m     '''\n\u001b[1;32m      5\u001b[0m     \u001b[0;32mif\u001b[0m \u001b[0mx\u001b[0m \u001b[0;34m<\u001b[0m \u001b[0;36m0\u001b[0m\u001b[0;34m:\u001b[0m\u001b[0;34m\u001b[0m\u001b[0;34m\u001b[0m\u001b[0m\n\u001b[0;32m----> 6\u001b[0;31m         \u001b[0;32mraise\u001b[0m \u001b[0mValueError\u001b[0m\u001b[0;34m(\u001b[0m\u001b[0;34m'Cannot approximate square root of negative numbers.'\u001b[0m\u001b[0;34m)\u001b[0m\u001b[0;34m\u001b[0m\u001b[0;34m\u001b[0m\u001b[0m\n\u001b[0m\u001b[1;32m      7\u001b[0m     \u001b[0mguess\u001b[0m\u001b[0;34m=\u001b[0m \u001b[0mx\u001b[0m\u001b[0;34m/\u001b[0m\u001b[0;36m2\u001b[0m \u001b[0;31m# A decent place to start\u001b[0m\u001b[0;34m\u001b[0m\u001b[0;34m\u001b[0m\u001b[0m\n\u001b[1;32m      8\u001b[0m     \u001b[0;32mwhile\u001b[0m \u001b[0;32mTrue\u001b[0m\u001b[0;34m:\u001b[0m \u001b[0;31m# A dangerous loop!  See next section...\u001b[0m\u001b[0;34m\u001b[0m\u001b[0;34m\u001b[0m\u001b[0m\n",
            "\u001b[0;31mValueError\u001b[0m: Cannot approximate square root of negative numbers."
          ]
        }
      ]
    },
    {
      "cell_type": "markdown",
      "metadata": {
        "id": "aUzsimjyuXdu"
      },
      "source": [
        "By raising the `ValueError`, we have avoided an endless loop... the sort of problem that crashes computers!  If you know that your function is only meant for certain kinds of inputs, it is best to catch errors by raising exceptions."
      ]
    },
    {
      "cell_type": "markdown",
      "metadata": {
        "id": "mXFJBMEAuXdu"
      },
      "source": [
        "###Exercises\n",
        "\n",
        "1.  There's a special exception called `ZeroDivisionError`.  When do you think this occurs?  Try to make it occur!  Can you think of a time when you might want to raise this exception yourself?\n",
        "\n",
        "2.  Make the `is_prime` function safer by raising a `TypeError` or a `ValueError` when a \"bad\" input occurs."
      ]
    },
    {
      "cell_type": "code",
      "metadata": {
        "id": "yqQ_3oVTuXdu"
      },
      "source": [
        "# Use this space to work on exercises."
      ],
      "execution_count": null,
      "outputs": []
    },
    {
      "cell_type": "markdown",
      "source": [
        "**1)** Anytime a result is divided by a zero, for example, the code below:"
      ],
      "metadata": {
        "id": "PSbtHjgH5u7t"
      }
    },
    {
      "cell_type": "code",
      "source": [
        "print(1/0)"
      ],
      "metadata": {
        "colab": {
          "base_uri": "https://localhost:8080/",
          "height": 166
        },
        "id": "Ruwd1LeJ5yQr",
        "outputId": "d09a9cf3-c4c0-4346-d173-d89a4b35a66e"
      },
      "execution_count": 377,
      "outputs": [
        {
          "output_type": "error",
          "ename": "ZeroDivisionError",
          "evalue": "ignored",
          "traceback": [
            "\u001b[0;31m---------------------------------------------------------------------------\u001b[0m",
            "\u001b[0;31mZeroDivisionError\u001b[0m                         Traceback (most recent call last)",
            "\u001b[0;32m<ipython-input-377-2fc232d1511a>\u001b[0m in \u001b[0;36m<module>\u001b[0;34m\u001b[0m\n\u001b[0;32m----> 1\u001b[0;31m \u001b[0mprint\u001b[0m\u001b[0;34m(\u001b[0m\u001b[0;36m1\u001b[0m\u001b[0;34m/\u001b[0m\u001b[0;36m0\u001b[0m\u001b[0;34m)\u001b[0m\u001b[0;34m\u001b[0m\u001b[0;34m\u001b[0m\u001b[0m\n\u001b[0m",
            "\u001b[0;31mZeroDivisionError\u001b[0m: division by zero"
          ]
        }
      ]
    },
    {
      "cell_type": "markdown",
      "source": [
        "**2)** Code below:"
      ],
      "metadata": {
        "id": "FgXTFpsk6HJn"
      }
    },
    {
      "cell_type": "code",
      "source": [
        "def is_prime(n):\n",
        "  if n < 1:\n",
        "    raise ValueError('Cannot determine if negative numbers or 0 are prime.')\n",
        "  while True:\n",
        "    for j in range(2,n):\n",
        "      if n % j == 0:\n",
        "        print(\"{} is a factor of {}.\".format(j, n))\n",
        "        return False\n",
        "    return True"
      ],
      "metadata": {
        "id": "EvY1AXCS6eb3"
      },
      "execution_count": 404,
      "outputs": []
    },
    {
      "cell_type": "code",
      "source": [
        "is_prime(25)"
      ],
      "metadata": {
        "colab": {
          "base_uri": "https://localhost:8080/"
        },
        "id": "ZXTZKoih7STJ",
        "outputId": "ee5c9177-9de0-42d9-dfac-103fbc4f5ea1"
      },
      "execution_count": 405,
      "outputs": [
        {
          "output_type": "stream",
          "name": "stdout",
          "text": [
            "5 is a factor of 25.\n"
          ]
        },
        {
          "output_type": "execute_result",
          "data": {
            "text/plain": [
              "False"
            ]
          },
          "metadata": {},
          "execution_count": 405
        }
      ]
    },
    {
      "cell_type": "code",
      "source": [
        "is_prime(13)"
      ],
      "metadata": {
        "colab": {
          "base_uri": "https://localhost:8080/"
        },
        "id": "kCL4pfol7bHo",
        "outputId": "deae4be0-6ae0-4905-9777-58d445532566"
      },
      "execution_count": 406,
      "outputs": [
        {
          "output_type": "execute_result",
          "data": {
            "text/plain": [
              "True"
            ]
          },
          "metadata": {},
          "execution_count": 406
        }
      ]
    },
    {
      "cell_type": "code",
      "source": [
        "is_prime(-3)"
      ],
      "metadata": {
        "colab": {
          "base_uri": "https://localhost:8080/",
          "height": 288
        },
        "id": "LpFJ3pwr7dnL",
        "outputId": "4caf0ef2-cbaf-4c97-8963-252f387035aa"
      },
      "execution_count": 407,
      "outputs": [
        {
          "output_type": "error",
          "ename": "ValueError",
          "evalue": "ignored",
          "traceback": [
            "\u001b[0;31m---------------------------------------------------------------------------\u001b[0m",
            "\u001b[0;31mValueError\u001b[0m                                Traceback (most recent call last)",
            "\u001b[0;32m<ipython-input-407-07b6850eb27a>\u001b[0m in \u001b[0;36m<module>\u001b[0;34m\u001b[0m\n\u001b[0;32m----> 1\u001b[0;31m \u001b[0mis_prime\u001b[0m\u001b[0;34m(\u001b[0m\u001b[0;34m-\u001b[0m\u001b[0;36m3\u001b[0m\u001b[0;34m)\u001b[0m\u001b[0;34m\u001b[0m\u001b[0;34m\u001b[0m\u001b[0m\n\u001b[0m",
            "\u001b[0;32m<ipython-input-404-fdb80ea54eae>\u001b[0m in \u001b[0;36mis_prime\u001b[0;34m(n)\u001b[0m\n\u001b[1;32m      1\u001b[0m \u001b[0;32mdef\u001b[0m \u001b[0mis_prime\u001b[0m\u001b[0;34m(\u001b[0m\u001b[0mn\u001b[0m\u001b[0;34m)\u001b[0m\u001b[0;34m:\u001b[0m\u001b[0;34m\u001b[0m\u001b[0;34m\u001b[0m\u001b[0m\n\u001b[1;32m      2\u001b[0m   \u001b[0;32mif\u001b[0m \u001b[0mn\u001b[0m \u001b[0;34m<\u001b[0m \u001b[0;36m1\u001b[0m\u001b[0;34m:\u001b[0m\u001b[0;34m\u001b[0m\u001b[0;34m\u001b[0m\u001b[0m\n\u001b[0;32m----> 3\u001b[0;31m     \u001b[0;32mraise\u001b[0m \u001b[0mValueError\u001b[0m\u001b[0;34m(\u001b[0m\u001b[0;34m'Cannot determine if negative numbers or 0 are prime.'\u001b[0m\u001b[0;34m)\u001b[0m\u001b[0;34m\u001b[0m\u001b[0;34m\u001b[0m\u001b[0m\n\u001b[0m\u001b[1;32m      4\u001b[0m   \u001b[0;32mwhile\u001b[0m \u001b[0;32mTrue\u001b[0m\u001b[0;34m:\u001b[0m\u001b[0;34m\u001b[0m\u001b[0;34m\u001b[0m\u001b[0m\n\u001b[1;32m      5\u001b[0m     \u001b[0;32mfor\u001b[0m \u001b[0mj\u001b[0m \u001b[0;32min\u001b[0m \u001b[0mrange\u001b[0m\u001b[0;34m(\u001b[0m\u001b[0;36m2\u001b[0m\u001b[0;34m,\u001b[0m\u001b[0mn\u001b[0m\u001b[0;34m)\u001b[0m\u001b[0;34m:\u001b[0m\u001b[0;34m\u001b[0m\u001b[0;34m\u001b[0m\u001b[0m\n",
            "\u001b[0;31mValueError\u001b[0m: Cannot determine if negative numbers or 0 are prime."
          ]
        }
      ]
    },
    {
      "cell_type": "markdown",
      "metadata": {
        "id": "8RP84fPOuXdu"
      },
      "source": [
        "## While loops and implementation of the Eucidean algorithm"
      ]
    },
    {
      "cell_type": "markdown",
      "metadata": {
        "id": "imB-GVzNuXdu"
      },
      "source": [
        "We *almost* have all the tools we need to implement the Euclidean algorithm.  The last tool we will need is the **while loop**.  We have seen the *for loop* already, which is very useful for iterating over a range of numbers.  The Euclidean algorithm involves repetition, but there is no way to know in advance how many steps it will take.  The while loop allows us to repeat a process as long as a boolean value (sometimes called a **flag**) is True.  The following countdown example illustrates the structure of a while loop."
      ]
    },
    {
      "cell_type": "code",
      "metadata": {
        "id": "iIA-U8KouXdw"
      },
      "source": [
        "def countdown(n):\n",
        "    current_value = n\n",
        "    while current_value > 0:  # The condition (current_value > 0) is checked before every instance of the scope!\n",
        "        print(current_value)\n",
        "        current_value = current_value - 1\n",
        "    print(\"Blastoff!\")"
      ],
      "execution_count": 408,
      "outputs": []
    },
    {
      "cell_type": "code",
      "metadata": {
        "id": "vqtBFRjYuXdw",
        "colab": {
          "base_uri": "https://localhost:8080/"
        },
        "outputId": "b35be0eb-7aca-423f-a046-6a6caa4b1ac3"
      },
      "source": [
        "countdown(10)"
      ],
      "execution_count": 409,
      "outputs": [
        {
          "output_type": "stream",
          "name": "stdout",
          "text": [
            "10\n",
            "9\n",
            "8\n",
            "7\n",
            "6\n",
            "5\n",
            "4\n",
            "3\n",
            "2\n",
            "1\n",
            "Blastoff!\n"
          ]
        }
      ]
    },
    {
      "cell_type": "markdown",
      "metadata": {
        "id": "UyatsGmduXdw"
      },
      "source": [
        "The while loop syntax begins with `while <boolean>:` and the following indented lines comprise the scope of the loop.  If the boolean is `True`, then the scope of the loop is executed.  If the boolean is `True` again afterwards, then the scope of the loop is executed again.  And again and again and so on.\n",
        "\n",
        "This can be a **dangerous process**!  For example, what would happen if you made a little typo and the last line of the while loop read `current_value = current_value + 1`?  The numbers would increase and increase... and the boolean `current_value > 0` would **always** be `True`.  Therefore the loop would never end.  Bigger and bigger numbers would scroll down your computer screen.  \n",
        "\n",
        "You might panic under such a circumstance, and maybe turn your computer off to stop the loop.  Here is some advice for when you get stuck in such a neverending loop, and you're using Google Colab.\n",
        "\n",
        "1.  Back up your work often.  When you're programming, make sure everything else is saved just in case.\n",
        "2.  Save your programming work (use \"Save a copy in GitHub\" and/or \"Save a copy in Drive\") often, especially before running a cell with a loop for the first time.\n",
        "3.  If you *do* get stuck in a neverending loop, click on \"Runtime... Interrupt execution\".  This will often unstick the loop and allow you to pick up where you left off.  \n",
        "\n",
        "Now, if you're feeling brave, save your work, change the while loop so that it never ends, and try to recover where you left off.  But be aware that this could cause your computer to freeze or behave erratically, crashing your browser, etc.  Don't panic... it probably won't break your computer permanently.\n",
        "\n",
        "The neverending loop causes two problems here.  One is with the computer processor, which will be essentially spinning its wheels.  This is called [busy waiting](https://en.wikipedia.org/wiki/Busy_waiting), and the computer will essentially be busy waiting forever.  The other problem is that your loop is printing more and more lines of text into the notebook.  This could easily crash your web browser, which is trying to store and display zillions of lines of numbers.  So be ready for problems!  "
      ]
    },
    {
      "cell_type": "code",
      "source": [
        "def countdown(n):\n",
        "    current_value = n\n",
        "    while current_value > 0:  # The condition (current_value > 0) is checked before every instance of the scope!\n",
        "        print(current_value)\n",
        "        current_value = current_value + 1\n",
        "    print(\"Blastoff!\")"
      ],
      "metadata": {
        "id": "6urMzFTL8oma"
      },
      "execution_count": 411,
      "outputs": []
    },
    {
      "cell_type": "code",
      "source": [
        "countdown(10)"
      ],
      "metadata": {
        "id": "76uhf64d8rRl",
        "outputId": "ed320d8c-a530-43d7-e192-a03d7160321a",
        "colab": {
          "base_uri": "https://localhost:8080/",
          "height": 1000
        }
      },
      "execution_count": 412,
      "outputs": [
        {
          "output_type": "stream",
          "name": "stdout",
          "text": [
            "\u001b[1;30;43mStreaming output truncated to the last 5000 lines.\u001b[0m\n",
            "97206\n",
            "97207\n",
            "97208\n",
            "97209\n",
            "97210\n",
            "97211\n",
            "97212\n",
            "97213\n",
            "97214\n",
            "97215\n",
            "97216\n",
            "97217\n",
            "97218\n",
            "97219\n",
            "97220\n",
            "97221\n",
            "97222\n",
            "97223\n",
            "97224\n",
            "97225\n",
            "97226\n",
            "97227\n",
            "97228\n",
            "97229\n",
            "97230\n",
            "97231\n",
            "97232\n",
            "97233\n",
            "97234\n",
            "97235\n",
            "97236\n",
            "97237\n",
            "97238\n",
            "97239\n",
            "97240\n",
            "97241\n",
            "97242\n",
            "97243\n",
            "97244\n",
            "97245\n",
            "97246\n",
            "97247\n",
            "97248\n",
            "97249\n",
            "97250\n",
            "97251\n",
            "97252\n",
            "97253\n",
            "97254\n",
            "97255\n",
            "97256\n",
            "97257\n",
            "97258\n",
            "97259\n",
            "97260\n",
            "97261\n",
            "97262\n",
            "97263\n",
            "97264\n",
            "97265\n",
            "97266\n",
            "97267\n",
            "97268\n",
            "97269\n",
            "97270\n",
            "97271\n",
            "97272\n",
            "97273\n",
            "97274\n",
            "97275\n",
            "97276\n",
            "97277\n",
            "97278\n",
            "97279\n",
            "97280\n",
            "97281\n",
            "97282\n",
            "97283\n",
            "97284\n",
            "97285\n",
            "97286\n",
            "97287\n",
            "97288\n",
            "97289\n",
            "97290\n",
            "97291\n",
            "97292\n",
            "97293\n",
            "97294\n",
            "97295\n",
            "97296\n",
            "97297\n",
            "97298\n",
            "97299\n",
            "97300\n",
            "97301\n",
            "97302\n",
            "97303\n",
            "97304\n",
            "97305\n",
            "97306\n",
            "97307\n",
            "97308\n",
            "97309\n",
            "97310\n",
            "97311\n",
            "97312\n",
            "97313\n",
            "97314\n",
            "97315\n",
            "97316\n",
            "97317\n",
            "97318\n",
            "97319\n",
            "97320\n",
            "97321\n",
            "97322\n",
            "97323\n",
            "97324\n",
            "97325\n",
            "97326\n",
            "97327\n",
            "97328\n",
            "97329\n",
            "97330\n",
            "97331\n",
            "97332\n",
            "97333\n",
            "97334\n",
            "97335\n",
            "97336\n",
            "97337\n",
            "97338\n",
            "97339\n",
            "97340\n",
            "97341\n",
            "97342\n",
            "97343\n",
            "97344\n",
            "97345\n",
            "97346\n",
            "97347\n",
            "97348\n",
            "97349\n",
            "97350\n",
            "97351\n",
            "97352\n",
            "97353\n",
            "97354\n",
            "97355\n",
            "97356\n",
            "97357\n",
            "97358\n",
            "97359\n",
            "97360\n",
            "97361\n",
            "97362\n",
            "97363\n",
            "97364\n",
            "97365\n",
            "97366\n",
            "97367\n",
            "97368\n",
            "97369\n",
            "97370\n",
            "97371\n",
            "97372\n",
            "97373\n",
            "97374\n",
            "97375\n",
            "97376\n",
            "97377\n",
            "97378\n",
            "97379\n",
            "97380\n",
            "97381\n",
            "97382\n",
            "97383\n",
            "97384\n",
            "97385\n",
            "97386\n",
            "97387\n",
            "97388\n",
            "97389\n",
            "97390\n",
            "97391\n",
            "97392\n",
            "97393\n",
            "97394\n",
            "97395\n",
            "97396\n",
            "97397\n",
            "97398\n",
            "97399\n",
            "97400\n",
            "97401\n",
            "97402\n",
            "97403\n",
            "97404\n",
            "97405\n",
            "97406\n",
            "97407\n",
            "97408\n",
            "97409\n",
            "97410\n",
            "97411\n",
            "97412\n",
            "97413\n",
            "97414\n",
            "97415\n",
            "97416\n",
            "97417\n",
            "97418\n",
            "97419\n",
            "97420\n",
            "97421\n",
            "97422\n",
            "97423\n",
            "97424\n",
            "97425\n",
            "97426\n",
            "97427\n",
            "97428\n",
            "97429\n",
            "97430\n",
            "97431\n",
            "97432\n",
            "97433\n",
            "97434\n",
            "97435\n",
            "97436\n",
            "97437\n",
            "97438\n",
            "97439\n",
            "97440\n",
            "97441\n",
            "97442\n",
            "97443\n",
            "97444\n",
            "97445\n",
            "97446\n",
            "97447\n",
            "97448\n",
            "97449\n",
            "97450\n",
            "97451\n",
            "97452\n",
            "97453\n",
            "97454\n",
            "97455\n",
            "97456\n",
            "97457\n",
            "97458\n",
            "97459\n",
            "97460\n",
            "97461\n",
            "97462\n",
            "97463\n",
            "97464\n",
            "97465\n",
            "97466\n",
            "97467\n",
            "97468\n",
            "97469\n",
            "97470\n",
            "97471\n",
            "97472\n",
            "97473\n",
            "97474\n",
            "97475\n",
            "97476\n",
            "97477\n",
            "97478\n",
            "97479\n",
            "97480\n",
            "97481\n",
            "97482\n",
            "97483\n",
            "97484\n",
            "97485\n",
            "97486\n",
            "97487\n",
            "97488\n",
            "97489\n",
            "97490\n",
            "97491\n",
            "97492\n",
            "97493\n",
            "97494\n",
            "97495\n",
            "97496\n",
            "97497\n",
            "97498\n",
            "97499\n",
            "97500\n",
            "97501\n",
            "97502\n",
            "97503\n",
            "97504\n",
            "97505\n",
            "97506\n",
            "97507\n",
            "97508\n",
            "97509\n",
            "97510\n",
            "97511\n",
            "97512\n",
            "97513\n",
            "97514\n",
            "97515\n",
            "97516\n",
            "97517\n",
            "97518\n",
            "97519\n",
            "97520\n",
            "97521\n",
            "97522\n",
            "97523\n",
            "97524\n",
            "97525\n",
            "97526\n",
            "97527\n",
            "97528\n",
            "97529\n",
            "97530\n",
            "97531\n",
            "97532\n",
            "97533\n",
            "97534\n",
            "97535\n",
            "97536\n",
            "97537\n",
            "97538\n",
            "97539\n",
            "97540\n",
            "97541\n",
            "97542\n",
            "97543\n",
            "97544\n",
            "97545\n",
            "97546\n",
            "97547\n",
            "97548\n",
            "97549\n",
            "97550\n",
            "97551\n",
            "97552\n",
            "97553\n",
            "97554\n",
            "97555\n",
            "97556\n",
            "97557\n",
            "97558\n",
            "97559\n",
            "97560\n",
            "97561\n",
            "97562\n",
            "97563\n",
            "97564\n",
            "97565\n",
            "97566\n",
            "97567\n",
            "97568\n",
            "97569\n",
            "97570\n",
            "97571\n",
            "97572\n",
            "97573\n",
            "97574\n",
            "97575\n",
            "97576\n",
            "97577\n",
            "97578\n",
            "97579\n",
            "97580\n",
            "97581\n",
            "97582\n",
            "97583\n",
            "97584\n",
            "97585\n",
            "97586\n",
            "97587\n",
            "97588\n",
            "97589\n",
            "97590\n",
            "97591\n",
            "97592\n",
            "97593\n",
            "97594\n",
            "97595\n",
            "97596\n",
            "97597\n",
            "97598\n",
            "97599\n",
            "97600\n",
            "97601\n",
            "97602\n",
            "97603\n",
            "97604\n",
            "97605\n",
            "97606\n",
            "97607\n",
            "97608\n",
            "97609\n",
            "97610\n",
            "97611\n",
            "97612\n",
            "97613\n",
            "97614\n",
            "97615\n",
            "97616\n",
            "97617\n",
            "97618\n",
            "97619\n",
            "97620\n",
            "97621\n",
            "97622\n",
            "97623\n",
            "97624\n",
            "97625\n",
            "97626\n",
            "97627\n",
            "97628\n",
            "97629\n",
            "97630\n",
            "97631\n",
            "97632\n",
            "97633\n",
            "97634\n",
            "97635\n",
            "97636\n",
            "97637\n",
            "97638\n",
            "97639\n",
            "97640\n",
            "97641\n",
            "97642\n",
            "97643\n",
            "97644\n",
            "97645\n",
            "97646\n",
            "97647\n",
            "97648\n",
            "97649\n",
            "97650\n",
            "97651\n",
            "97652\n",
            "97653\n",
            "97654\n",
            "97655\n",
            "97656\n",
            "97657\n",
            "97658\n",
            "97659\n",
            "97660\n",
            "97661\n",
            "97662\n",
            "97663\n",
            "97664\n",
            "97665\n",
            "97666\n",
            "97667\n",
            "97668\n",
            "97669\n",
            "97670\n",
            "97671\n",
            "97672\n",
            "97673\n",
            "97674\n",
            "97675\n",
            "97676\n",
            "97677\n",
            "97678\n",
            "97679\n",
            "97680\n",
            "97681\n",
            "97682\n",
            "97683\n",
            "97684\n",
            "97685\n",
            "97686\n",
            "97687\n",
            "97688\n",
            "97689\n",
            "97690\n",
            "97691\n",
            "97692\n",
            "97693\n",
            "97694\n",
            "97695\n",
            "97696\n",
            "97697\n",
            "97698\n",
            "97699\n",
            "97700\n",
            "97701\n",
            "97702\n",
            "97703\n",
            "97704\n",
            "97705\n",
            "97706\n",
            "97707\n",
            "97708\n",
            "97709\n",
            "97710\n",
            "97711\n",
            "97712\n",
            "97713\n",
            "97714\n",
            "97715\n",
            "97716\n",
            "97717\n",
            "97718\n",
            "97719\n",
            "97720\n",
            "97721\n",
            "97722\n",
            "97723\n",
            "97724\n",
            "97725\n",
            "97726\n",
            "97727\n",
            "97728\n",
            "97729\n",
            "97730\n",
            "97731\n",
            "97732\n",
            "97733\n",
            "97734\n",
            "97735\n",
            "97736\n",
            "97737\n",
            "97738\n",
            "97739\n",
            "97740\n",
            "97741\n",
            "97742\n",
            "97743\n",
            "97744\n",
            "97745\n",
            "97746\n",
            "97747\n",
            "97748\n",
            "97749\n",
            "97750\n",
            "97751\n",
            "97752\n",
            "97753\n",
            "97754\n",
            "97755\n",
            "97756\n",
            "97757\n",
            "97758\n",
            "97759\n",
            "97760\n",
            "97761\n",
            "97762\n",
            "97763\n",
            "97764\n",
            "97765\n",
            "97766\n",
            "97767\n",
            "97768\n",
            "97769\n",
            "97770\n",
            "97771\n",
            "97772\n",
            "97773\n",
            "97774\n",
            "97775\n",
            "97776\n",
            "97777\n",
            "97778\n",
            "97779\n",
            "97780\n",
            "97781\n",
            "97782\n",
            "97783\n",
            "97784\n",
            "97785\n",
            "97786\n",
            "97787\n",
            "97788\n",
            "97789\n",
            "97790\n",
            "97791\n",
            "97792\n",
            "97793\n",
            "97794\n",
            "97795\n",
            "97796\n",
            "97797\n",
            "97798\n",
            "97799\n",
            "97800\n",
            "97801\n",
            "97802\n",
            "97803\n",
            "97804\n",
            "97805\n",
            "97806\n",
            "97807\n",
            "97808\n",
            "97809\n",
            "97810\n",
            "97811\n",
            "97812\n",
            "97813\n",
            "97814\n",
            "97815\n",
            "97816\n",
            "97817\n",
            "97818\n",
            "97819\n",
            "97820\n",
            "97821\n",
            "97822\n",
            "97823\n",
            "97824\n",
            "97825\n",
            "97826\n",
            "97827\n",
            "97828\n",
            "97829\n",
            "97830\n",
            "97831\n",
            "97832\n",
            "97833\n",
            "97834\n",
            "97835\n",
            "97836\n",
            "97837\n",
            "97838\n",
            "97839\n",
            "97840\n",
            "97841\n",
            "97842\n",
            "97843\n",
            "97844\n",
            "97845\n",
            "97846\n",
            "97847\n",
            "97848\n",
            "97849\n",
            "97850\n",
            "97851\n",
            "97852\n",
            "97853\n",
            "97854\n",
            "97855\n",
            "97856\n",
            "97857\n",
            "97858\n",
            "97859\n",
            "97860\n",
            "97861\n",
            "97862\n",
            "97863\n",
            "97864\n",
            "97865\n",
            "97866\n",
            "97867\n",
            "97868\n",
            "97869\n",
            "97870\n",
            "97871\n",
            "97872\n",
            "97873\n",
            "97874\n",
            "97875\n",
            "97876\n",
            "97877\n",
            "97878\n",
            "97879\n",
            "97880\n",
            "97881\n",
            "97882\n",
            "97883\n",
            "97884\n",
            "97885\n",
            "97886\n",
            "97887\n",
            "97888\n",
            "97889\n",
            "97890\n",
            "97891\n",
            "97892\n",
            "97893\n",
            "97894\n",
            "97895\n",
            "97896\n",
            "97897\n",
            "97898\n",
            "97899\n",
            "97900\n",
            "97901\n",
            "97902\n",
            "97903\n",
            "97904\n",
            "97905\n",
            "97906\n",
            "97907\n",
            "97908\n",
            "97909\n",
            "97910\n",
            "97911\n",
            "97912\n",
            "97913\n",
            "97914\n",
            "97915\n",
            "97916\n",
            "97917\n",
            "97918\n",
            "97919\n",
            "97920\n",
            "97921\n",
            "97922\n",
            "97923\n",
            "97924\n",
            "97925\n",
            "97926\n",
            "97927\n",
            "97928\n",
            "97929\n",
            "97930\n",
            "97931\n",
            "97932\n",
            "97933\n",
            "97934\n",
            "97935\n",
            "97936\n",
            "97937\n",
            "97938\n",
            "97939\n",
            "97940\n",
            "97941\n",
            "97942\n",
            "97943\n",
            "97944\n",
            "97945\n",
            "97946\n",
            "97947\n",
            "97948\n",
            "97949\n",
            "97950\n",
            "97951\n",
            "97952\n",
            "97953\n",
            "97954\n",
            "97955\n",
            "97956\n",
            "97957\n",
            "97958\n",
            "97959\n",
            "97960\n",
            "97961\n",
            "97962\n",
            "97963\n",
            "97964\n",
            "97965\n",
            "97966\n",
            "97967\n",
            "97968\n",
            "97969\n",
            "97970\n",
            "97971\n",
            "97972\n",
            "97973\n",
            "97974\n",
            "97975\n",
            "97976\n",
            "97977\n",
            "97978\n",
            "97979\n",
            "97980\n",
            "97981\n",
            "97982\n",
            "97983\n",
            "97984\n",
            "97985\n",
            "97986\n",
            "97987\n",
            "97988\n",
            "97989\n",
            "97990\n",
            "97991\n",
            "97992\n",
            "97993\n",
            "97994\n",
            "97995\n",
            "97996\n",
            "97997\n",
            "97998\n",
            "97999\n",
            "98000\n",
            "98001\n",
            "98002\n",
            "98003\n",
            "98004\n",
            "98005\n",
            "98006\n",
            "98007\n",
            "98008\n",
            "98009\n",
            "98010\n",
            "98011\n",
            "98012\n",
            "98013\n",
            "98014\n",
            "98015\n",
            "98016\n",
            "98017\n",
            "98018\n",
            "98019\n",
            "98020\n",
            "98021\n",
            "98022\n",
            "98023\n",
            "98024\n",
            "98025\n",
            "98026\n",
            "98027\n",
            "98028\n",
            "98029\n",
            "98030\n",
            "98031\n",
            "98032\n",
            "98033\n",
            "98034\n",
            "98035\n",
            "98036\n",
            "98037\n",
            "98038\n",
            "98039\n",
            "98040\n",
            "98041\n",
            "98042\n",
            "98043\n",
            "98044\n",
            "98045\n",
            "98046\n",
            "98047\n",
            "98048\n",
            "98049\n",
            "98050\n",
            "98051\n",
            "98052\n",
            "98053\n",
            "98054\n",
            "98055\n",
            "98056\n",
            "98057\n",
            "98058\n",
            "98059\n",
            "98060\n",
            "98061\n",
            "98062\n",
            "98063\n",
            "98064\n",
            "98065\n",
            "98066\n",
            "98067\n",
            "98068\n",
            "98069\n",
            "98070\n",
            "98071\n",
            "98072\n",
            "98073\n",
            "98074\n",
            "98075\n",
            "98076\n",
            "98077\n",
            "98078\n",
            "98079\n",
            "98080\n",
            "98081\n",
            "98082\n",
            "98083\n",
            "98084\n",
            "98085\n",
            "98086\n",
            "98087\n",
            "98088\n",
            "98089\n",
            "98090\n",
            "98091\n",
            "98092\n",
            "98093\n",
            "98094\n",
            "98095\n",
            "98096\n",
            "98097\n",
            "98098\n",
            "98099\n",
            "98100\n",
            "98101\n",
            "98102\n",
            "98103\n",
            "98104\n",
            "98105\n",
            "98106\n",
            "98107\n",
            "98108\n",
            "98109\n",
            "98110\n",
            "98111\n",
            "98112\n",
            "98113\n",
            "98114\n",
            "98115\n",
            "98116\n",
            "98117\n",
            "98118\n",
            "98119\n",
            "98120\n",
            "98121\n",
            "98122\n",
            "98123\n",
            "98124\n",
            "98125\n",
            "98126\n",
            "98127\n",
            "98128\n",
            "98129\n",
            "98130\n",
            "98131\n",
            "98132\n",
            "98133\n",
            "98134\n",
            "98135\n",
            "98136\n",
            "98137\n",
            "98138\n",
            "98139\n",
            "98140\n",
            "98141\n",
            "98142\n",
            "98143\n",
            "98144\n",
            "98145\n",
            "98146\n",
            "98147\n",
            "98148\n",
            "98149\n",
            "98150\n",
            "98151\n",
            "98152\n",
            "98153\n",
            "98154\n",
            "98155\n",
            "98156\n",
            "98157\n",
            "98158\n",
            "98159\n",
            "98160\n",
            "98161\n",
            "98162\n",
            "98163\n",
            "98164\n",
            "98165\n",
            "98166\n",
            "98167\n",
            "98168\n",
            "98169\n",
            "98170\n",
            "98171\n",
            "98172\n",
            "98173\n",
            "98174\n",
            "98175\n",
            "98176\n",
            "98177\n",
            "98178\n",
            "98179\n",
            "98180\n",
            "98181\n",
            "98182\n",
            "98183\n",
            "98184\n",
            "98185\n",
            "98186\n",
            "98187\n",
            "98188\n",
            "98189\n",
            "98190\n",
            "98191\n",
            "98192\n",
            "98193\n",
            "98194\n",
            "98195\n",
            "98196\n",
            "98197\n",
            "98198\n",
            "98199\n",
            "98200\n",
            "98201\n",
            "98202\n",
            "98203\n",
            "98204\n",
            "98205\n",
            "98206\n",
            "98207\n",
            "98208\n",
            "98209\n",
            "98210\n",
            "98211\n",
            "98212\n",
            "98213\n",
            "98214\n",
            "98215\n",
            "98216\n",
            "98217\n",
            "98218\n",
            "98219\n",
            "98220\n",
            "98221\n",
            "98222\n",
            "98223\n",
            "98224\n",
            "98225\n",
            "98226\n",
            "98227\n",
            "98228\n",
            "98229\n",
            "98230\n",
            "98231\n",
            "98232\n",
            "98233\n",
            "98234\n",
            "98235\n",
            "98236\n",
            "98237\n",
            "98238\n",
            "98239\n",
            "98240\n",
            "98241\n",
            "98242\n",
            "98243\n",
            "98244\n",
            "98245\n",
            "98246\n",
            "98247\n",
            "98248\n",
            "98249\n",
            "98250\n",
            "98251\n",
            "98252\n",
            "98253\n",
            "98254\n",
            "98255\n",
            "98256\n",
            "98257\n",
            "98258\n",
            "98259\n",
            "98260\n",
            "98261\n",
            "98262\n",
            "98263\n",
            "98264\n",
            "98265\n",
            "98266\n",
            "98267\n",
            "98268\n",
            "98269\n",
            "98270\n",
            "98271\n",
            "98272\n",
            "98273\n",
            "98274\n",
            "98275\n",
            "98276\n",
            "98277\n",
            "98278\n",
            "98279\n",
            "98280\n",
            "98281\n",
            "98282\n",
            "98283\n",
            "98284\n",
            "98285\n",
            "98286\n",
            "98287\n",
            "98288\n",
            "98289\n",
            "98290\n",
            "98291\n",
            "98292\n",
            "98293\n",
            "98294\n",
            "98295\n",
            "98296\n",
            "98297\n",
            "98298\n",
            "98299\n",
            "98300\n",
            "98301\n",
            "98302\n",
            "98303\n",
            "98304\n",
            "98305\n",
            "98306\n",
            "98307\n",
            "98308\n",
            "98309\n",
            "98310\n",
            "98311\n",
            "98312\n",
            "98313\n",
            "98314\n",
            "98315\n",
            "98316\n",
            "98317\n",
            "98318\n",
            "98319\n",
            "98320\n",
            "98321\n",
            "98322\n",
            "98323\n",
            "98324\n",
            "98325\n",
            "98326\n",
            "98327\n",
            "98328\n",
            "98329\n",
            "98330\n",
            "98331\n",
            "98332\n",
            "98333\n",
            "98334\n",
            "98335\n",
            "98336\n",
            "98337\n",
            "98338\n",
            "98339\n",
            "98340\n",
            "98341\n",
            "98342\n",
            "98343\n",
            "98344\n",
            "98345\n",
            "98346\n",
            "98347\n",
            "98348\n",
            "98349\n",
            "98350\n",
            "98351\n",
            "98352\n",
            "98353\n",
            "98354\n",
            "98355\n",
            "98356\n",
            "98357\n",
            "98358\n",
            "98359\n",
            "98360\n",
            "98361\n",
            "98362\n",
            "98363\n",
            "98364\n",
            "98365\n",
            "98366\n",
            "98367\n",
            "98368\n",
            "98369\n",
            "98370\n",
            "98371\n",
            "98372\n",
            "98373\n",
            "98374\n",
            "98375\n",
            "98376\n",
            "98377\n",
            "98378\n",
            "98379\n",
            "98380\n",
            "98381\n",
            "98382\n",
            "98383\n",
            "98384\n",
            "98385\n",
            "98386\n",
            "98387\n",
            "98388\n",
            "98389\n",
            "98390\n",
            "98391\n",
            "98392\n",
            "98393\n",
            "98394\n",
            "98395\n",
            "98396\n",
            "98397\n",
            "98398\n",
            "98399\n",
            "98400\n",
            "98401\n",
            "98402\n",
            "98403\n",
            "98404\n",
            "98405\n",
            "98406\n",
            "98407\n",
            "98408\n",
            "98409\n",
            "98410\n",
            "98411\n",
            "98412\n",
            "98413\n",
            "98414\n",
            "98415\n",
            "98416\n",
            "98417\n",
            "98418\n",
            "98419\n",
            "98420\n",
            "98421\n",
            "98422\n",
            "98423\n",
            "98424\n",
            "98425\n",
            "98426\n",
            "98427\n",
            "98428\n",
            "98429\n",
            "98430\n",
            "98431\n",
            "98432\n",
            "98433\n",
            "98434\n",
            "98435\n",
            "98436\n",
            "98437\n",
            "98438\n",
            "98439\n",
            "98440\n",
            "98441\n",
            "98442\n",
            "98443\n",
            "98444\n",
            "98445\n",
            "98446\n",
            "98447\n",
            "98448\n",
            "98449\n",
            "98450\n",
            "98451\n",
            "98452\n",
            "98453\n",
            "98454\n",
            "98455\n",
            "98456\n",
            "98457\n",
            "98458\n",
            "98459\n",
            "98460\n",
            "98461\n",
            "98462\n",
            "98463\n",
            "98464\n",
            "98465\n",
            "98466\n",
            "98467\n",
            "98468\n",
            "98469\n",
            "98470\n",
            "98471\n",
            "98472\n",
            "98473\n",
            "98474\n",
            "98475\n",
            "98476\n",
            "98477\n",
            "98478\n",
            "98479\n",
            "98480\n",
            "98481\n",
            "98482\n",
            "98483\n",
            "98484\n",
            "98485\n",
            "98486\n",
            "98487\n",
            "98488\n",
            "98489\n",
            "98490\n",
            "98491\n",
            "98492\n",
            "98493\n",
            "98494\n",
            "98495\n",
            "98496\n",
            "98497\n",
            "98498\n",
            "98499\n",
            "98500\n",
            "98501\n",
            "98502\n",
            "98503\n",
            "98504\n",
            "98505\n",
            "98506\n",
            "98507\n",
            "98508\n",
            "98509\n",
            "98510\n",
            "98511\n",
            "98512\n",
            "98513\n",
            "98514\n",
            "98515\n",
            "98516\n",
            "98517\n",
            "98518\n",
            "98519\n",
            "98520\n",
            "98521\n",
            "98522\n",
            "98523\n",
            "98524\n",
            "98525\n",
            "98526\n",
            "98527\n",
            "98528\n",
            "98529\n",
            "98530\n",
            "98531\n",
            "98532\n",
            "98533\n",
            "98534\n",
            "98535\n",
            "98536\n",
            "98537\n",
            "98538\n",
            "98539\n",
            "98540\n",
            "98541\n",
            "98542\n",
            "98543\n",
            "98544\n",
            "98545\n",
            "98546\n",
            "98547\n",
            "98548\n",
            "98549\n",
            "98550\n",
            "98551\n",
            "98552\n",
            "98553\n",
            "98554\n",
            "98555\n",
            "98556\n",
            "98557\n",
            "98558\n",
            "98559\n",
            "98560\n",
            "98561\n",
            "98562\n",
            "98563\n",
            "98564\n",
            "98565\n",
            "98566\n",
            "98567\n",
            "98568\n",
            "98569\n",
            "98570\n",
            "98571\n",
            "98572\n",
            "98573\n",
            "98574\n",
            "98575\n",
            "98576\n",
            "98577\n",
            "98578\n",
            "98579\n",
            "98580\n",
            "98581\n",
            "98582\n",
            "98583\n",
            "98584\n",
            "98585\n",
            "98586\n",
            "98587\n",
            "98588\n",
            "98589\n",
            "98590\n",
            "98591\n",
            "98592\n",
            "98593\n",
            "98594\n",
            "98595\n",
            "98596\n",
            "98597\n",
            "98598\n",
            "98599\n",
            "98600\n",
            "98601\n",
            "98602\n",
            "98603\n",
            "98604\n",
            "98605\n",
            "98606\n",
            "98607\n",
            "98608\n",
            "98609\n",
            "98610\n",
            "98611\n",
            "98612\n",
            "98613\n",
            "98614\n",
            "98615\n",
            "98616\n",
            "98617\n",
            "98618\n",
            "98619\n",
            "98620\n",
            "98621\n",
            "98622\n",
            "98623\n",
            "98624\n",
            "98625\n",
            "98626\n",
            "98627\n",
            "98628\n",
            "98629\n",
            "98630\n",
            "98631\n",
            "98632\n",
            "98633\n",
            "98634\n",
            "98635\n",
            "98636\n",
            "98637\n",
            "98638\n",
            "98639\n",
            "98640\n",
            "98641\n",
            "98642\n",
            "98643\n",
            "98644\n",
            "98645\n",
            "98646\n",
            "98647\n",
            "98648\n",
            "98649\n",
            "98650\n",
            "98651\n",
            "98652\n",
            "98653\n",
            "98654\n",
            "98655\n",
            "98656\n",
            "98657\n",
            "98658\n",
            "98659\n",
            "98660\n",
            "98661\n",
            "98662\n",
            "98663\n",
            "98664\n",
            "98665\n",
            "98666\n",
            "98667\n",
            "98668\n",
            "98669\n",
            "98670\n",
            "98671\n",
            "98672\n",
            "98673\n",
            "98674\n",
            "98675\n",
            "98676\n",
            "98677\n",
            "98678\n",
            "98679\n",
            "98680\n",
            "98681\n",
            "98682\n",
            "98683\n",
            "98684\n",
            "98685\n",
            "98686\n",
            "98687\n",
            "98688\n",
            "98689\n",
            "98690\n",
            "98691\n",
            "98692\n",
            "98693\n",
            "98694\n",
            "98695\n",
            "98696\n",
            "98697\n",
            "98698\n",
            "98699\n",
            "98700\n",
            "98701\n",
            "98702\n",
            "98703\n",
            "98704\n",
            "98705\n",
            "98706\n",
            "98707\n",
            "98708\n",
            "98709\n",
            "98710\n",
            "98711\n",
            "98712\n",
            "98713\n",
            "98714\n",
            "98715\n",
            "98716\n",
            "98717\n",
            "98718\n",
            "98719\n",
            "98720\n",
            "98721\n",
            "98722\n",
            "98723\n",
            "98724\n",
            "98725\n",
            "98726\n",
            "98727\n",
            "98728\n",
            "98729\n",
            "98730\n",
            "98731\n",
            "98732\n",
            "98733\n",
            "98734\n",
            "98735\n",
            "98736\n",
            "98737\n",
            "98738\n",
            "98739\n",
            "98740\n",
            "98741\n",
            "98742\n",
            "98743\n",
            "98744\n",
            "98745\n",
            "98746\n",
            "98747\n",
            "98748\n",
            "98749\n",
            "98750\n",
            "98751\n",
            "98752\n",
            "98753\n",
            "98754\n",
            "98755\n",
            "98756\n",
            "98757\n",
            "98758\n",
            "98759\n",
            "98760\n",
            "98761\n",
            "98762\n",
            "98763\n",
            "98764\n",
            "98765\n",
            "98766\n",
            "98767\n",
            "98768\n",
            "98769\n",
            "98770\n",
            "98771\n",
            "98772\n",
            "98773\n",
            "98774\n",
            "98775\n",
            "98776\n",
            "98777\n",
            "98778\n",
            "98779\n",
            "98780\n",
            "98781\n",
            "98782\n",
            "98783\n",
            "98784\n",
            "98785\n",
            "98786\n",
            "98787\n",
            "98788\n",
            "98789\n",
            "98790\n",
            "98791\n",
            "98792\n",
            "98793\n",
            "98794\n",
            "98795\n",
            "98796\n",
            "98797\n",
            "98798\n",
            "98799\n",
            "98800\n",
            "98801\n",
            "98802\n",
            "98803\n",
            "98804\n",
            "98805\n",
            "98806\n",
            "98807\n",
            "98808\n",
            "98809\n",
            "98810\n",
            "98811\n",
            "98812\n",
            "98813\n",
            "98814\n",
            "98815\n",
            "98816\n",
            "98817\n",
            "98818\n",
            "98819\n",
            "98820\n",
            "98821\n",
            "98822\n",
            "98823\n",
            "98824\n",
            "98825\n",
            "98826\n",
            "98827\n",
            "98828\n",
            "98829\n",
            "98830\n",
            "98831\n",
            "98832\n",
            "98833\n",
            "98834\n",
            "98835\n",
            "98836\n",
            "98837\n",
            "98838\n",
            "98839\n",
            "98840\n",
            "98841\n",
            "98842\n",
            "98843\n",
            "98844\n",
            "98845\n",
            "98846\n",
            "98847\n",
            "98848\n",
            "98849\n",
            "98850\n",
            "98851\n",
            "98852\n",
            "98853\n",
            "98854\n",
            "98855\n",
            "98856\n",
            "98857\n",
            "98858\n",
            "98859\n",
            "98860\n",
            "98861\n",
            "98862\n",
            "98863\n",
            "98864\n",
            "98865\n",
            "98866\n",
            "98867\n",
            "98868\n",
            "98869\n",
            "98870\n",
            "98871\n",
            "98872\n",
            "98873\n",
            "98874\n",
            "98875\n",
            "98876\n",
            "98877\n",
            "98878\n",
            "98879\n",
            "98880\n",
            "98881\n",
            "98882\n",
            "98883\n",
            "98884\n",
            "98885\n",
            "98886\n",
            "98887\n",
            "98888\n",
            "98889\n",
            "98890\n",
            "98891\n",
            "98892\n",
            "98893\n",
            "98894\n",
            "98895\n",
            "98896\n",
            "98897\n",
            "98898\n",
            "98899\n",
            "98900\n",
            "98901\n",
            "98902\n",
            "98903\n",
            "98904\n",
            "98905\n",
            "98906\n",
            "98907\n",
            "98908\n",
            "98909\n",
            "98910\n",
            "98911\n",
            "98912\n",
            "98913\n",
            "98914\n",
            "98915\n",
            "98916\n",
            "98917\n",
            "98918\n",
            "98919\n",
            "98920\n",
            "98921\n",
            "98922\n",
            "98923\n",
            "98924\n",
            "98925\n",
            "98926\n",
            "98927\n",
            "98928\n",
            "98929\n",
            "98930\n",
            "98931\n",
            "98932\n",
            "98933\n",
            "98934\n",
            "98935\n",
            "98936\n",
            "98937\n",
            "98938\n",
            "98939\n",
            "98940\n",
            "98941\n",
            "98942\n",
            "98943\n",
            "98944\n",
            "98945\n",
            "98946\n",
            "98947\n",
            "98948\n",
            "98949\n",
            "98950\n",
            "98951\n",
            "98952\n",
            "98953\n",
            "98954\n",
            "98955\n",
            "98956\n",
            "98957\n",
            "98958\n",
            "98959\n",
            "98960\n",
            "98961\n",
            "98962\n",
            "98963\n",
            "98964\n",
            "98965\n",
            "98966\n",
            "98967\n",
            "98968\n",
            "98969\n",
            "98970\n",
            "98971\n",
            "98972\n",
            "98973\n",
            "98974\n",
            "98975\n",
            "98976\n",
            "98977\n",
            "98978\n",
            "98979\n",
            "98980\n",
            "98981\n",
            "98982\n",
            "98983\n",
            "98984\n",
            "98985\n",
            "98986\n",
            "98987\n",
            "98988\n",
            "98989\n",
            "98990\n",
            "98991\n",
            "98992\n",
            "98993\n",
            "98994\n",
            "98995\n",
            "98996\n",
            "98997\n",
            "98998\n",
            "98999\n",
            "99000\n",
            "99001\n",
            "99002\n",
            "99003\n",
            "99004\n",
            "99005\n",
            "99006\n",
            "99007\n",
            "99008\n",
            "99009\n",
            "99010\n",
            "99011\n",
            "99012\n",
            "99013\n",
            "99014\n",
            "99015\n",
            "99016\n",
            "99017\n",
            "99018\n",
            "99019\n",
            "99020\n",
            "99021\n",
            "99022\n",
            "99023\n",
            "99024\n",
            "99025\n",
            "99026\n",
            "99027\n",
            "99028\n",
            "99029\n",
            "99030\n",
            "99031\n",
            "99032\n",
            "99033\n",
            "99034\n",
            "99035\n",
            "99036\n",
            "99037\n",
            "99038\n",
            "99039\n",
            "99040\n",
            "99041\n",
            "99042\n",
            "99043\n",
            "99044\n",
            "99045\n",
            "99046\n",
            "99047\n",
            "99048\n",
            "99049\n",
            "99050\n",
            "99051\n",
            "99052\n",
            "99053\n",
            "99054\n",
            "99055\n",
            "99056\n",
            "99057\n",
            "99058\n",
            "99059\n",
            "99060\n",
            "99061\n",
            "99062\n",
            "99063\n",
            "99064\n",
            "99065\n",
            "99066\n",
            "99067\n",
            "99068\n",
            "99069\n",
            "99070\n",
            "99071\n",
            "99072\n",
            "99073\n",
            "99074\n",
            "99075\n",
            "99076\n",
            "99077\n",
            "99078\n",
            "99079\n",
            "99080\n",
            "99081\n",
            "99082\n",
            "99083\n",
            "99084\n",
            "99085\n",
            "99086\n",
            "99087\n",
            "99088\n",
            "99089\n",
            "99090\n",
            "99091\n",
            "99092\n",
            "99093\n",
            "99094\n",
            "99095\n",
            "99096\n",
            "99097\n",
            "99098\n",
            "99099\n",
            "99100\n",
            "99101\n",
            "99102\n",
            "99103\n",
            "99104\n",
            "99105\n",
            "99106\n",
            "99107\n",
            "99108\n",
            "99109\n",
            "99110\n",
            "99111\n",
            "99112\n",
            "99113\n",
            "99114\n",
            "99115\n",
            "99116\n",
            "99117\n",
            "99118\n",
            "99119\n",
            "99120\n",
            "99121\n",
            "99122\n",
            "99123\n",
            "99124\n",
            "99125\n",
            "99126\n",
            "99127\n",
            "99128\n",
            "99129\n",
            "99130\n",
            "99131\n",
            "99132\n",
            "99133\n",
            "99134\n",
            "99135\n",
            "99136\n",
            "99137\n",
            "99138\n",
            "99139\n",
            "99140\n",
            "99141\n",
            "99142\n",
            "99143\n",
            "99144\n",
            "99145\n",
            "99146\n",
            "99147\n",
            "99148\n",
            "99149\n",
            "99150\n",
            "99151\n",
            "99152\n",
            "99153\n",
            "99154\n",
            "99155\n",
            "99156\n",
            "99157\n",
            "99158\n",
            "99159\n",
            "99160\n",
            "99161\n",
            "99162\n",
            "99163\n",
            "99164\n",
            "99165\n",
            "99166\n",
            "99167\n",
            "99168\n",
            "99169\n",
            "99170\n",
            "99171\n",
            "99172\n",
            "99173\n",
            "99174\n",
            "99175\n",
            "99176\n",
            "99177\n",
            "99178\n",
            "99179\n",
            "99180\n",
            "99181\n",
            "99182\n",
            "99183\n",
            "99184\n",
            "99185\n",
            "99186\n",
            "99187\n",
            "99188\n",
            "99189\n",
            "99190\n",
            "99191\n",
            "99192\n",
            "99193\n",
            "99194\n",
            "99195\n",
            "99196\n",
            "99197\n",
            "99198\n",
            "99199\n",
            "99200\n",
            "99201\n",
            "99202\n",
            "99203\n",
            "99204\n",
            "99205\n",
            "99206\n",
            "99207\n",
            "99208\n",
            "99209\n",
            "99210\n",
            "99211\n",
            "99212\n",
            "99213\n",
            "99214\n",
            "99215\n",
            "99216\n",
            "99217\n",
            "99218\n",
            "99219\n",
            "99220\n",
            "99221\n",
            "99222\n",
            "99223\n",
            "99224\n",
            "99225\n",
            "99226\n",
            "99227\n",
            "99228\n",
            "99229\n",
            "99230\n",
            "99231\n",
            "99232\n",
            "99233\n",
            "99234\n",
            "99235\n",
            "99236\n",
            "99237\n",
            "99238\n",
            "99239\n",
            "99240\n",
            "99241\n",
            "99242\n",
            "99243\n",
            "99244\n",
            "99245\n",
            "99246\n",
            "99247\n",
            "99248\n",
            "99249\n",
            "99250\n",
            "99251\n",
            "99252\n",
            "99253\n",
            "99254\n",
            "99255\n",
            "99256\n",
            "99257\n",
            "99258\n",
            "99259\n",
            "99260\n",
            "99261\n",
            "99262\n",
            "99263\n",
            "99264\n",
            "99265\n",
            "99266\n",
            "99267\n",
            "99268\n",
            "99269\n",
            "99270\n",
            "99271\n",
            "99272\n",
            "99273\n",
            "99274\n",
            "99275\n",
            "99276\n",
            "99277\n",
            "99278\n",
            "99279\n",
            "99280\n",
            "99281\n",
            "99282\n",
            "99283\n",
            "99284\n",
            "99285\n",
            "99286\n",
            "99287\n",
            "99288\n",
            "99289\n",
            "99290\n",
            "99291\n",
            "99292\n",
            "99293\n",
            "99294\n",
            "99295\n",
            "99296\n",
            "99297\n",
            "99298\n",
            "99299\n",
            "99300\n",
            "99301\n",
            "99302\n",
            "99303\n",
            "99304\n",
            "99305\n",
            "99306\n",
            "99307\n",
            "99308\n",
            "99309\n",
            "99310\n",
            "99311\n",
            "99312\n",
            "99313\n",
            "99314\n",
            "99315\n",
            "99316\n",
            "99317\n",
            "99318\n",
            "99319\n",
            "99320\n",
            "99321\n",
            "99322\n",
            "99323\n",
            "99324\n",
            "99325\n",
            "99326\n",
            "99327\n",
            "99328\n",
            "99329\n",
            "99330\n",
            "99331\n",
            "99332\n",
            "99333\n",
            "99334\n",
            "99335\n",
            "99336\n",
            "99337\n",
            "99338\n",
            "99339\n",
            "99340\n",
            "99341\n",
            "99342\n",
            "99343\n",
            "99344\n",
            "99345\n",
            "99346\n",
            "99347\n",
            "99348\n",
            "99349\n",
            "99350\n",
            "99351\n",
            "99352\n",
            "99353\n",
            "99354\n",
            "99355\n",
            "99356\n",
            "99357\n",
            "99358\n",
            "99359\n",
            "99360\n",
            "99361\n",
            "99362\n",
            "99363\n",
            "99364\n",
            "99365\n",
            "99366\n",
            "99367\n",
            "99368\n",
            "99369\n",
            "99370\n",
            "99371\n",
            "99372\n",
            "99373\n",
            "99374\n",
            "99375\n",
            "99376\n",
            "99377\n",
            "99378\n",
            "99379\n",
            "99380\n",
            "99381\n",
            "99382\n",
            "99383\n",
            "99384\n",
            "99385\n",
            "99386\n",
            "99387\n",
            "99388\n",
            "99389\n",
            "99390\n",
            "99391\n",
            "99392\n",
            "99393\n",
            "99394\n",
            "99395\n",
            "99396\n",
            "99397\n",
            "99398\n",
            "99399\n",
            "99400\n",
            "99401\n",
            "99402\n",
            "99403\n",
            "99404\n",
            "99405\n",
            "99406\n",
            "99407\n",
            "99408\n",
            "99409\n",
            "99410\n",
            "99411\n",
            "99412\n",
            "99413\n",
            "99414\n",
            "99415\n",
            "99416\n",
            "99417\n",
            "99418\n",
            "99419\n",
            "99420\n",
            "99421\n",
            "99422\n",
            "99423\n",
            "99424\n",
            "99425\n",
            "99426\n",
            "99427\n",
            "99428\n",
            "99429\n",
            "99430\n",
            "99431\n",
            "99432\n",
            "99433\n",
            "99434\n",
            "99435\n",
            "99436\n",
            "99437\n",
            "99438\n",
            "99439\n",
            "99440\n",
            "99441\n",
            "99442\n",
            "99443\n",
            "99444\n",
            "99445\n",
            "99446\n",
            "99447\n",
            "99448\n",
            "99449\n",
            "99450\n",
            "99451\n",
            "99452\n",
            "99453\n",
            "99454\n",
            "99455\n",
            "99456\n",
            "99457\n",
            "99458\n",
            "99459\n",
            "99460\n",
            "99461\n",
            "99462\n",
            "99463\n",
            "99464\n",
            "99465\n",
            "99466\n",
            "99467\n",
            "99468\n",
            "99469\n",
            "99470\n",
            "99471\n",
            "99472\n",
            "99473\n",
            "99474\n",
            "99475\n",
            "99476\n",
            "99477\n",
            "99478\n",
            "99479\n",
            "99480\n",
            "99481\n",
            "99482\n",
            "99483\n",
            "99484\n",
            "99485\n",
            "99486\n",
            "99487\n",
            "99488\n",
            "99489\n",
            "99490\n",
            "99491\n",
            "99492\n",
            "99493\n",
            "99494\n",
            "99495\n",
            "99496\n",
            "99497\n",
            "99498\n",
            "99499\n",
            "99500\n",
            "99501\n",
            "99502\n",
            "99503\n",
            "99504\n",
            "99505\n",
            "99506\n",
            "99507\n",
            "99508\n",
            "99509\n",
            "99510\n",
            "99511\n",
            "99512\n",
            "99513\n",
            "99514\n",
            "99515\n",
            "99516\n",
            "99517\n",
            "99518\n",
            "99519\n",
            "99520\n",
            "99521\n",
            "99522\n",
            "99523\n",
            "99524\n",
            "99525\n",
            "99526\n",
            "99527\n",
            "99528\n",
            "99529\n",
            "99530\n",
            "99531\n",
            "99532\n",
            "99533\n",
            "99534\n",
            "99535\n",
            "99536\n",
            "99537\n",
            "99538\n",
            "99539\n",
            "99540\n",
            "99541\n",
            "99542\n",
            "99543\n",
            "99544\n",
            "99545\n",
            "99546\n",
            "99547\n",
            "99548\n",
            "99549\n",
            "99550\n",
            "99551\n",
            "99552\n",
            "99553\n",
            "99554\n",
            "99555\n",
            "99556\n",
            "99557\n",
            "99558\n",
            "99559\n",
            "99560\n",
            "99561\n",
            "99562\n",
            "99563\n",
            "99564\n",
            "99565\n",
            "99566\n",
            "99567\n",
            "99568\n",
            "99569\n",
            "99570\n",
            "99571\n",
            "99572\n",
            "99573\n",
            "99574\n",
            "99575\n",
            "99576\n",
            "99577\n",
            "99578\n",
            "99579\n",
            "99580\n",
            "99581\n",
            "99582\n",
            "99583\n",
            "99584\n",
            "99585\n",
            "99586\n",
            "99587\n",
            "99588\n",
            "99589\n",
            "99590\n",
            "99591\n",
            "99592\n",
            "99593\n",
            "99594\n",
            "99595\n",
            "99596\n",
            "99597\n",
            "99598\n",
            "99599\n",
            "99600\n",
            "99601\n",
            "99602\n",
            "99603\n",
            "99604\n",
            "99605\n",
            "99606\n",
            "99607\n",
            "99608\n",
            "99609\n",
            "99610\n",
            "99611\n",
            "99612\n",
            "99613\n",
            "99614\n",
            "99615\n",
            "99616\n",
            "99617\n",
            "99618\n",
            "99619\n",
            "99620\n",
            "99621\n",
            "99622\n",
            "99623\n",
            "99624\n",
            "99625\n",
            "99626\n",
            "99627\n",
            "99628\n",
            "99629\n",
            "99630\n",
            "99631\n",
            "99632\n",
            "99633\n",
            "99634\n",
            "99635\n",
            "99636\n",
            "99637\n",
            "99638\n",
            "99639\n",
            "99640\n",
            "99641\n",
            "99642\n",
            "99643\n",
            "99644\n",
            "99645\n",
            "99646\n",
            "99647\n",
            "99648\n",
            "99649\n",
            "99650\n",
            "99651\n",
            "99652\n",
            "99653\n",
            "99654\n",
            "99655\n",
            "99656\n",
            "99657\n",
            "99658\n",
            "99659\n",
            "99660\n",
            "99661\n",
            "99662\n",
            "99663\n",
            "99664\n",
            "99665\n",
            "99666\n",
            "99667\n",
            "99668\n",
            "99669\n",
            "99670\n",
            "99671\n",
            "99672\n",
            "99673\n",
            "99674\n",
            "99675\n",
            "99676\n",
            "99677\n",
            "99678\n",
            "99679\n",
            "99680\n",
            "99681\n",
            "99682\n",
            "99683\n",
            "99684\n",
            "99685\n",
            "99686\n",
            "99687\n",
            "99688\n",
            "99689\n",
            "99690\n",
            "99691\n",
            "99692\n",
            "99693\n",
            "99694\n",
            "99695\n",
            "99696\n",
            "99697\n",
            "99698\n",
            "99699\n",
            "99700\n",
            "99701\n",
            "99702\n",
            "99703\n",
            "99704\n",
            "99705\n",
            "99706\n",
            "99707\n",
            "99708\n",
            "99709\n",
            "99710\n",
            "99711\n",
            "99712\n",
            "99713\n",
            "99714\n",
            "99715\n",
            "99716\n",
            "99717\n",
            "99718\n",
            "99719\n",
            "99720\n",
            "99721\n",
            "99722\n",
            "99723\n",
            "99724\n",
            "99725\n",
            "99726\n",
            "99727\n",
            "99728\n",
            "99729\n",
            "99730\n",
            "99731\n",
            "99732\n",
            "99733\n",
            "99734\n",
            "99735\n",
            "99736\n",
            "99737\n",
            "99738\n",
            "99739\n",
            "99740\n",
            "99741\n",
            "99742\n",
            "99743\n",
            "99744\n",
            "99745\n",
            "99746\n",
            "99747\n",
            "99748\n",
            "99749\n",
            "99750\n",
            "99751\n",
            "99752\n",
            "99753\n",
            "99754\n",
            "99755\n",
            "99756\n",
            "99757\n",
            "99758\n",
            "99759\n",
            "99760\n",
            "99761\n",
            "99762\n",
            "99763\n",
            "99764\n",
            "99765\n",
            "99766\n",
            "99767\n",
            "99768\n",
            "99769\n",
            "99770\n",
            "99771\n",
            "99772\n",
            "99773\n",
            "99774\n",
            "99775\n",
            "99776\n",
            "99777\n",
            "99778\n",
            "99779\n",
            "99780\n",
            "99781\n",
            "99782\n",
            "99783\n",
            "99784\n",
            "99785\n",
            "99786\n",
            "99787\n",
            "99788\n",
            "99789\n",
            "99790\n",
            "99791\n",
            "99792\n",
            "99793\n",
            "99794\n",
            "99795\n",
            "99796\n",
            "99797\n",
            "99798\n",
            "99799\n",
            "99800\n",
            "99801\n",
            "99802\n",
            "99803\n",
            "99804\n",
            "99805\n",
            "99806\n",
            "99807\n",
            "99808\n",
            "99809\n",
            "99810\n",
            "99811\n",
            "99812\n",
            "99813\n",
            "99814\n",
            "99815\n",
            "99816\n",
            "99817\n",
            "99818\n",
            "99819\n",
            "99820\n",
            "99821\n",
            "99822\n",
            "99823\n",
            "99824\n",
            "99825\n",
            "99826\n",
            "99827\n",
            "99828\n",
            "99829\n",
            "99830\n",
            "99831\n",
            "99832\n",
            "99833\n",
            "99834\n",
            "99835\n",
            "99836\n",
            "99837\n",
            "99838\n",
            "99839\n",
            "99840\n",
            "99841\n",
            "99842\n",
            "99843\n",
            "99844\n",
            "99845\n",
            "99846\n",
            "99847\n",
            "99848\n",
            "99849\n",
            "99850\n",
            "99851\n",
            "99852\n",
            "99853\n",
            "99854\n",
            "99855\n",
            "99856\n",
            "99857\n",
            "99858\n",
            "99859\n",
            "99860\n",
            "99861\n",
            "99862\n",
            "99863\n",
            "99864\n",
            "99865\n",
            "99866\n",
            "99867\n",
            "99868\n",
            "99869\n",
            "99870\n",
            "99871\n",
            "99872\n",
            "99873\n",
            "99874\n",
            "99875\n",
            "99876\n",
            "99877\n",
            "99878\n",
            "99879\n",
            "99880\n",
            "99881\n",
            "99882\n",
            "99883\n",
            "99884\n",
            "99885\n",
            "99886\n",
            "99887\n",
            "99888\n",
            "99889\n",
            "99890\n",
            "99891\n",
            "99892\n",
            "99893\n",
            "99894\n",
            "99895\n",
            "99896\n",
            "99897\n",
            "99898\n",
            "99899\n",
            "99900\n",
            "99901\n",
            "99902\n",
            "99903\n",
            "99904\n",
            "99905\n",
            "99906\n",
            "99907\n",
            "99908\n",
            "99909\n",
            "99910\n",
            "99911\n",
            "99912\n",
            "99913\n",
            "99914\n",
            "99915\n",
            "99916\n",
            "99917\n",
            "99918\n",
            "99919\n",
            "99920\n",
            "99921\n",
            "99922\n",
            "99923\n",
            "99924\n",
            "99925\n",
            "99926\n",
            "99927\n",
            "99928\n",
            "99929\n",
            "99930\n",
            "99931\n",
            "99932\n",
            "99933\n",
            "99934\n",
            "99935\n",
            "99936\n",
            "99937\n",
            "99938\n",
            "99939\n",
            "99940\n",
            "99941\n",
            "99942\n",
            "99943\n",
            "99944\n",
            "99945\n",
            "99946\n",
            "99947\n",
            "99948\n",
            "99949\n",
            "99950\n",
            "99951\n",
            "99952\n",
            "99953\n",
            "99954\n",
            "99955\n",
            "99956\n",
            "99957\n",
            "99958\n",
            "99959\n",
            "99960\n",
            "99961\n",
            "99962\n",
            "99963\n",
            "99964\n",
            "99965\n",
            "99966\n",
            "99967\n",
            "99968\n",
            "99969\n",
            "99970\n",
            "99971\n",
            "99972\n",
            "99973\n",
            "99974\n",
            "99975\n",
            "99976\n",
            "99977\n",
            "99978\n",
            "99979\n",
            "99980\n",
            "99981\n",
            "99982\n",
            "99983\n",
            "99984\n",
            "99985\n",
            "99986\n",
            "99987\n",
            "99988\n",
            "99989\n",
            "99990\n",
            "99991\n",
            "99992\n",
            "99993\n",
            "99994\n",
            "99995\n",
            "99996\n",
            "99997\n",
            "99998\n",
            "99999\n",
            "100000\n",
            "100001\n",
            "100002\n",
            "100003\n",
            "100004\n",
            "100005\n",
            "100006\n",
            "100007\n",
            "100008\n",
            "100009\n",
            "100010\n",
            "100011\n",
            "100012\n",
            "100013\n",
            "100014\n",
            "100015\n",
            "100016\n",
            "100017\n",
            "100018\n",
            "100019\n",
            "100020\n",
            "100021\n",
            "100022\n",
            "100023\n",
            "100024\n",
            "100025\n",
            "100026\n",
            "100027\n",
            "100028\n",
            "100029\n",
            "100030\n",
            "100031\n",
            "100032\n",
            "100033\n",
            "100034\n",
            "100035\n",
            "100036\n",
            "100037\n",
            "100038\n",
            "100039\n",
            "100040\n",
            "100041\n",
            "100042\n",
            "100043\n",
            "100044\n",
            "100045\n",
            "100046\n",
            "100047\n",
            "100048\n",
            "100049\n",
            "100050\n",
            "100051\n",
            "100052\n",
            "100053\n",
            "100054\n",
            "100055\n",
            "100056\n",
            "100057\n",
            "100058\n",
            "100059\n",
            "100060\n",
            "100061\n",
            "100062\n",
            "100063\n",
            "100064\n",
            "100065\n",
            "100066\n",
            "100067\n",
            "100068\n",
            "100069\n",
            "100070\n",
            "100071\n",
            "100072\n",
            "100073\n",
            "100074\n",
            "100075\n",
            "100076\n",
            "100077\n",
            "100078\n",
            "100079\n",
            "100080\n",
            "100081\n",
            "100082\n",
            "100083\n",
            "100084\n",
            "100085\n",
            "100086\n",
            "100087\n",
            "100088\n",
            "100089\n",
            "100090\n",
            "100091\n",
            "100092\n",
            "100093\n",
            "100094\n",
            "100095\n",
            "100096\n",
            "100097\n",
            "100098\n",
            "100099\n",
            "100100\n",
            "100101\n",
            "100102\n",
            "100103\n",
            "100104\n",
            "100105\n",
            "100106\n",
            "100107\n",
            "100108\n",
            "100109\n",
            "100110\n",
            "100111\n",
            "100112\n",
            "100113\n",
            "100114\n",
            "100115\n",
            "100116\n",
            "100117\n",
            "100118\n",
            "100119\n",
            "100120\n",
            "100121\n",
            "100122\n",
            "100123\n",
            "100124\n",
            "100125\n",
            "100126\n",
            "100127\n",
            "100128\n",
            "100129\n",
            "100130\n",
            "100131\n",
            "100132\n",
            "100133\n",
            "100134\n",
            "100135\n",
            "100136\n",
            "100137\n",
            "100138\n",
            "100139\n",
            "100140\n",
            "100141\n",
            "100142\n",
            "100143\n",
            "100144\n",
            "100145\n",
            "100146\n",
            "100147\n",
            "100148\n",
            "100149\n",
            "100150\n",
            "100151\n",
            "100152\n",
            "100153\n",
            "100154\n",
            "100155\n",
            "100156\n",
            "100157\n",
            "100158\n",
            "100159\n",
            "100160\n",
            "100161\n",
            "100162\n",
            "100163\n",
            "100164\n",
            "100165\n",
            "100166\n",
            "100167\n",
            "100168\n",
            "100169\n",
            "100170\n",
            "100171\n",
            "100172\n",
            "100173\n",
            "100174\n",
            "100175\n",
            "100176\n",
            "100177\n",
            "100178\n",
            "100179\n",
            "100180\n",
            "100181\n",
            "100182\n",
            "100183\n",
            "100184\n",
            "100185\n",
            "100186\n",
            "100187\n",
            "100188\n",
            "100189\n",
            "100190\n",
            "100191\n",
            "100192\n",
            "100193\n",
            "100194\n",
            "100195\n",
            "100196\n",
            "100197\n",
            "100198\n",
            "100199\n",
            "100200\n",
            "100201\n",
            "100202\n",
            "100203\n",
            "100204\n",
            "100205\n",
            "100206\n",
            "100207\n",
            "100208\n",
            "100209\n",
            "100210\n",
            "100211\n",
            "100212\n",
            "100213\n",
            "100214\n",
            "100215\n",
            "100216\n",
            "100217\n",
            "100218\n",
            "100219\n",
            "100220\n",
            "100221\n",
            "100222\n",
            "100223\n",
            "100224\n",
            "100225\n",
            "100226\n",
            "100227\n",
            "100228\n",
            "100229\n",
            "100230\n",
            "100231\n",
            "100232\n",
            "100233\n",
            "100234\n",
            "100235\n",
            "100236\n",
            "100237\n",
            "100238\n",
            "100239\n",
            "100240\n",
            "100241\n",
            "100242\n",
            "100243\n",
            "100244\n",
            "100245\n",
            "100246\n",
            "100247\n",
            "100248\n",
            "100249\n",
            "100250\n",
            "100251\n",
            "100252\n",
            "100253\n",
            "100254\n",
            "100255\n",
            "100256\n",
            "100257\n",
            "100258\n",
            "100259\n",
            "100260\n",
            "100261\n",
            "100262\n",
            "100263\n",
            "100264\n",
            "100265\n",
            "100266\n",
            "100267\n",
            "100268\n",
            "100269\n",
            "100270\n",
            "100271\n",
            "100272\n",
            "100273\n",
            "100274\n",
            "100275\n",
            "100276\n",
            "100277\n",
            "100278\n",
            "100279\n",
            "100280\n",
            "100281\n",
            "100282\n",
            "100283\n",
            "100284\n",
            "100285\n",
            "100286\n",
            "100287\n",
            "100288\n",
            "100289\n",
            "100290\n",
            "100291\n",
            "100292\n",
            "100293\n",
            "100294\n",
            "100295\n",
            "100296\n",
            "100297\n",
            "100298\n",
            "100299\n",
            "100300\n",
            "100301\n",
            "100302\n",
            "100303\n",
            "100304\n",
            "100305\n",
            "100306\n",
            "100307\n",
            "100308\n",
            "100309\n",
            "100310\n",
            "100311\n",
            "100312\n",
            "100313\n",
            "100314\n",
            "100315\n",
            "100316\n",
            "100317\n",
            "100318\n",
            "100319\n",
            "100320\n",
            "100321\n",
            "100322\n",
            "100323\n",
            "100324\n",
            "100325\n",
            "100326\n",
            "100327\n",
            "100328\n",
            "100329\n",
            "100330\n",
            "100331\n",
            "100332\n",
            "100333\n",
            "100334\n",
            "100335\n",
            "100336\n",
            "100337\n",
            "100338\n",
            "100339\n",
            "100340\n",
            "100341\n",
            "100342\n",
            "100343\n",
            "100344\n",
            "100345\n",
            "100346\n",
            "100347\n",
            "100348\n",
            "100349\n",
            "100350\n",
            "100351\n",
            "100352\n",
            "100353\n",
            "100354\n",
            "100355\n",
            "100356\n",
            "100357\n",
            "100358\n",
            "100359\n",
            "100360\n",
            "100361\n",
            "100362\n",
            "100363\n",
            "100364\n",
            "100365\n",
            "100366\n",
            "100367\n",
            "100368\n",
            "100369\n",
            "100370\n",
            "100371\n",
            "100372\n",
            "100373\n",
            "100374\n",
            "100375\n",
            "100376\n",
            "100377\n",
            "100378\n",
            "100379\n",
            "100380\n",
            "100381\n",
            "100382\n",
            "100383\n",
            "100384\n",
            "100385\n",
            "100386\n",
            "100387\n",
            "100388\n",
            "100389\n",
            "100390\n",
            "100391\n",
            "100392\n",
            "100393\n",
            "100394\n",
            "100395\n",
            "100396\n",
            "100397\n",
            "100398\n",
            "100399\n",
            "100400\n",
            "100401\n",
            "100402\n",
            "100403\n",
            "100404\n",
            "100405\n",
            "100406\n",
            "100407\n",
            "100408\n",
            "100409\n",
            "100410\n",
            "100411\n",
            "100412\n",
            "100413\n",
            "100414\n",
            "100415\n",
            "100416\n",
            "100417\n",
            "100418\n",
            "100419\n",
            "100420\n",
            "100421\n",
            "100422\n",
            "100423\n",
            "100424\n",
            "100425\n",
            "100426\n",
            "100427\n",
            "100428\n",
            "100429\n",
            "100430\n",
            "100431\n",
            "100432\n",
            "100433\n",
            "100434\n",
            "100435\n",
            "100436\n",
            "100437\n",
            "100438\n",
            "100439\n",
            "100440\n",
            "100441\n",
            "100442\n",
            "100443\n",
            "100444\n",
            "100445\n",
            "100446\n",
            "100447\n",
            "100448\n",
            "100449\n",
            "100450\n",
            "100451\n",
            "100452\n",
            "100453\n",
            "100454\n",
            "100455\n",
            "100456\n",
            "100457\n",
            "100458\n",
            "100459\n",
            "100460\n",
            "100461\n",
            "100462\n",
            "100463\n",
            "100464\n",
            "100465\n",
            "100466\n",
            "100467\n",
            "100468\n",
            "100469\n",
            "100470\n",
            "100471\n",
            "100472\n",
            "100473\n",
            "100474\n",
            "100475\n",
            "100476\n",
            "100477\n",
            "100478\n",
            "100479\n",
            "100480\n",
            "100481\n",
            "100482\n",
            "100483\n",
            "100484\n",
            "100485\n",
            "100486\n",
            "100487\n",
            "100488\n",
            "100489\n",
            "100490\n",
            "100491\n",
            "100492\n",
            "100493\n",
            "100494\n",
            "100495\n",
            "100496\n",
            "100497\n",
            "100498\n",
            "100499\n",
            "100500\n",
            "100501\n",
            "100502\n",
            "100503\n",
            "100504\n",
            "100505\n",
            "100506\n",
            "100507\n",
            "100508\n",
            "100509\n",
            "100510\n",
            "100511\n",
            "100512\n",
            "100513\n",
            "100514\n",
            "100515\n",
            "100516\n",
            "100517\n",
            "100518\n",
            "100519\n",
            "100520\n",
            "100521\n",
            "100522\n",
            "100523\n",
            "100524\n",
            "100525\n",
            "100526\n",
            "100527\n",
            "100528\n",
            "100529\n",
            "100530\n",
            "100531\n",
            "100532\n",
            "100533\n",
            "100534\n",
            "100535\n",
            "100536\n",
            "100537\n",
            "100538\n",
            "100539\n",
            "100540\n",
            "100541\n",
            "100542\n",
            "100543\n",
            "100544\n",
            "100545\n",
            "100546\n",
            "100547\n",
            "100548\n",
            "100549\n",
            "100550\n",
            "100551\n",
            "100552\n",
            "100553\n",
            "100554\n",
            "100555\n",
            "100556\n",
            "100557\n",
            "100558\n",
            "100559\n",
            "100560\n",
            "100561\n",
            "100562\n",
            "100563\n",
            "100564\n",
            "100565\n",
            "100566\n",
            "100567\n",
            "100568\n",
            "100569\n",
            "100570\n",
            "100571\n",
            "100572\n",
            "100573\n",
            "100574\n",
            "100575\n",
            "100576\n",
            "100577\n",
            "100578\n",
            "100579\n",
            "100580\n",
            "100581\n",
            "100582\n",
            "100583\n",
            "100584\n",
            "100585\n",
            "100586\n",
            "100587\n",
            "100588\n",
            "100589\n",
            "100590\n",
            "100591\n",
            "100592\n",
            "100593\n",
            "100594\n",
            "100595\n",
            "100596\n",
            "100597\n",
            "100598\n",
            "100599\n",
            "100600\n",
            "100601\n",
            "100602\n",
            "100603\n",
            "100604\n",
            "100605\n",
            "100606\n",
            "100607\n",
            "100608\n",
            "100609\n",
            "100610\n",
            "100611\n",
            "100612\n",
            "100613\n",
            "100614\n",
            "100615\n",
            "100616\n",
            "100617\n",
            "100618\n",
            "100619\n",
            "100620\n",
            "100621\n",
            "100622\n",
            "100623\n",
            "100624\n",
            "100625\n",
            "100626\n",
            "100627\n",
            "100628\n",
            "100629\n",
            "100630\n",
            "100631\n",
            "100632\n",
            "100633\n",
            "100634\n",
            "100635\n",
            "100636\n",
            "100637\n",
            "100638\n",
            "100639\n",
            "100640\n",
            "100641\n",
            "100642\n",
            "100643\n",
            "100644\n",
            "100645\n",
            "100646\n",
            "100647\n",
            "100648\n",
            "100649\n",
            "100650\n",
            "100651\n",
            "100652\n",
            "100653\n",
            "100654\n",
            "100655\n",
            "100656\n",
            "100657\n",
            "100658\n",
            "100659\n",
            "100660\n",
            "100661\n",
            "100662\n",
            "100663\n",
            "100664\n",
            "100665\n",
            "100666\n",
            "100667\n",
            "100668\n",
            "100669\n",
            "100670\n",
            "100671\n",
            "100672\n",
            "100673\n",
            "100674\n",
            "100675\n",
            "100676\n",
            "100677\n",
            "100678\n",
            "100679\n",
            "100680\n",
            "100681\n",
            "100682\n",
            "100683\n",
            "100684\n",
            "100685\n",
            "100686\n",
            "100687\n",
            "100688\n",
            "100689\n",
            "100690\n",
            "100691\n",
            "100692\n",
            "100693\n",
            "100694\n",
            "100695\n",
            "100696\n",
            "100697\n",
            "100698\n",
            "100699\n",
            "100700\n",
            "100701\n",
            "100702\n",
            "100703\n",
            "100704\n",
            "100705\n",
            "100706\n",
            "100707\n",
            "100708\n",
            "100709\n",
            "100710\n",
            "100711\n",
            "100712\n",
            "100713\n",
            "100714\n",
            "100715\n",
            "100716\n",
            "100717\n",
            "100718\n",
            "100719\n",
            "100720\n",
            "100721\n",
            "100722\n",
            "100723\n",
            "100724\n",
            "100725\n",
            "100726\n",
            "100727\n",
            "100728\n",
            "100729\n",
            "100730\n",
            "100731\n",
            "100732\n",
            "100733\n",
            "100734\n",
            "100735\n",
            "100736\n",
            "100737\n",
            "100738\n",
            "100739\n",
            "100740\n",
            "100741\n",
            "100742\n",
            "100743\n",
            "100744\n",
            "100745\n",
            "100746\n",
            "100747\n",
            "100748\n",
            "100749\n",
            "100750\n",
            "100751\n",
            "100752\n",
            "100753\n",
            "100754\n",
            "100755\n",
            "100756\n",
            "100757\n",
            "100758\n",
            "100759\n",
            "100760\n",
            "100761\n",
            "100762\n",
            "100763\n",
            "100764\n",
            "100765\n",
            "100766\n",
            "100767\n",
            "100768\n",
            "100769\n",
            "100770\n",
            "100771\n",
            "100772\n",
            "100773\n",
            "100774\n",
            "100775\n",
            "100776\n",
            "100777\n",
            "100778\n",
            "100779\n",
            "100780\n",
            "100781\n",
            "100782\n",
            "100783\n",
            "100784\n",
            "100785\n",
            "100786\n",
            "100787\n",
            "100788\n",
            "100789\n",
            "100790\n",
            "100791\n",
            "100792\n",
            "100793\n",
            "100794\n",
            "100795\n",
            "100796\n",
            "100797\n",
            "100798\n",
            "100799\n",
            "100800\n",
            "100801\n",
            "100802\n",
            "100803\n",
            "100804\n",
            "100805\n",
            "100806\n",
            "100807\n",
            "100808\n",
            "100809\n",
            "100810\n",
            "100811\n",
            "100812\n",
            "100813\n",
            "100814\n",
            "100815\n",
            "100816\n",
            "100817\n",
            "100818\n",
            "100819\n",
            "100820\n",
            "100821\n",
            "100822\n",
            "100823\n",
            "100824\n",
            "100825\n",
            "100826\n",
            "100827\n",
            "100828\n",
            "100829\n",
            "100830\n",
            "100831\n",
            "100832\n",
            "100833\n",
            "100834\n",
            "100835\n",
            "100836\n",
            "100837\n",
            "100838\n",
            "100839\n",
            "100840\n",
            "100841\n",
            "100842\n",
            "100843\n",
            "100844\n",
            "100845\n",
            "100846\n",
            "100847\n",
            "100848\n",
            "100849\n",
            "100850\n",
            "100851\n",
            "100852\n",
            "100853\n",
            "100854\n",
            "100855\n",
            "100856\n",
            "100857\n",
            "100858\n",
            "100859\n",
            "100860\n",
            "100861\n",
            "100862\n",
            "100863\n",
            "100864\n",
            "100865\n",
            "100866\n",
            "100867\n",
            "100868\n",
            "100869\n",
            "100870\n",
            "100871\n",
            "100872\n",
            "100873\n",
            "100874\n",
            "100875\n",
            "100876\n",
            "100877\n",
            "100878\n",
            "100879\n",
            "100880\n",
            "100881\n",
            "100882\n",
            "100883\n",
            "100884\n",
            "100885\n",
            "100886\n",
            "100887\n",
            "100888\n",
            "100889\n",
            "100890\n",
            "100891\n",
            "100892\n",
            "100893\n",
            "100894\n",
            "100895\n",
            "100896\n",
            "100897\n",
            "100898\n",
            "100899\n",
            "100900\n",
            "100901\n",
            "100902\n",
            "100903\n",
            "100904\n",
            "100905\n",
            "100906\n",
            "100907\n",
            "100908\n",
            "100909\n",
            "100910\n",
            "100911\n",
            "100912\n",
            "100913\n",
            "100914\n",
            "100915\n",
            "100916\n",
            "100917\n",
            "100918\n",
            "100919\n",
            "100920\n",
            "100921\n",
            "100922\n",
            "100923\n",
            "100924\n",
            "100925\n",
            "100926\n",
            "100927\n",
            "100928\n",
            "100929\n",
            "100930\n",
            "100931\n",
            "100932\n",
            "100933\n",
            "100934\n",
            "100935\n",
            "100936\n",
            "100937\n",
            "100938\n",
            "100939\n",
            "100940\n",
            "100941\n",
            "100942\n",
            "100943\n",
            "100944\n",
            "100945\n",
            "100946\n",
            "100947\n",
            "100948\n",
            "100949\n",
            "100950\n",
            "100951\n",
            "100952\n",
            "100953\n",
            "100954\n",
            "100955\n",
            "100956\n",
            "100957\n",
            "100958\n",
            "100959\n",
            "100960\n",
            "100961\n",
            "100962\n",
            "100963\n",
            "100964\n",
            "100965\n",
            "100966\n",
            "100967\n",
            "100968\n",
            "100969\n",
            "100970\n",
            "100971\n",
            "100972\n",
            "100973\n",
            "100974\n",
            "100975\n",
            "100976\n",
            "100977\n",
            "100978\n",
            "100979\n",
            "100980\n",
            "100981\n",
            "100982\n",
            "100983\n",
            "100984\n",
            "100985\n",
            "100986\n",
            "100987\n",
            "100988\n",
            "100989\n",
            "100990\n",
            "100991\n",
            "100992\n",
            "100993\n",
            "100994\n",
            "100995\n",
            "100996\n",
            "100997\n",
            "100998\n",
            "100999\n",
            "101000\n",
            "101001\n",
            "101002\n",
            "101003\n",
            "101004\n",
            "101005\n",
            "101006\n",
            "101007\n",
            "101008\n",
            "101009\n",
            "101010\n",
            "101011\n",
            "101012\n",
            "101013\n",
            "101014\n",
            "101015\n",
            "101016\n",
            "101017\n",
            "101018\n",
            "101019\n",
            "101020\n",
            "101021\n",
            "101022\n",
            "101023\n",
            "101024\n",
            "101025\n",
            "101026\n",
            "101027\n",
            "101028\n",
            "101029\n",
            "101030\n",
            "101031\n",
            "101032\n",
            "101033\n",
            "101034\n",
            "101035\n",
            "101036\n",
            "101037\n",
            "101038\n",
            "101039\n",
            "101040\n",
            "101041\n",
            "101042\n",
            "101043\n",
            "101044\n",
            "101045\n",
            "101046\n",
            "101047\n",
            "101048\n",
            "101049\n",
            "101050\n",
            "101051\n",
            "101052\n",
            "101053\n",
            "101054\n",
            "101055\n",
            "101056\n",
            "101057\n",
            "101058\n",
            "101059\n",
            "101060\n",
            "101061\n",
            "101062\n",
            "101063\n",
            "101064\n",
            "101065\n",
            "101066\n",
            "101067\n",
            "101068\n",
            "101069\n",
            "101070\n",
            "101071\n",
            "101072\n",
            "101073\n",
            "101074\n",
            "101075\n",
            "101076\n",
            "101077\n",
            "101078\n",
            "101079\n",
            "101080\n",
            "101081\n",
            "101082\n",
            "101083\n",
            "101084\n",
            "101085\n",
            "101086\n",
            "101087\n",
            "101088\n",
            "101089\n",
            "101090\n",
            "101091\n",
            "101092\n",
            "101093\n",
            "101094\n",
            "101095\n",
            "101096\n",
            "101097\n",
            "101098\n",
            "101099\n",
            "101100\n",
            "101101\n",
            "101102\n",
            "101103\n",
            "101104\n",
            "101105\n",
            "101106\n",
            "101107\n",
            "101108\n",
            "101109\n",
            "101110\n",
            "101111\n",
            "101112\n",
            "101113\n",
            "101114\n",
            "101115\n",
            "101116\n",
            "101117\n",
            "101118\n",
            "101119\n",
            "101120\n",
            "101121\n",
            "101122\n",
            "101123\n",
            "101124\n",
            "101125\n",
            "101126\n",
            "101127\n",
            "101128\n",
            "101129\n",
            "101130\n",
            "101131\n",
            "101132\n",
            "101133\n",
            "101134\n",
            "101135\n",
            "101136\n",
            "101137\n",
            "101138\n",
            "101139\n",
            "101140\n",
            "101141\n",
            "101142\n",
            "101143\n",
            "101144\n",
            "101145\n",
            "101146\n",
            "101147\n",
            "101148\n",
            "101149\n",
            "101150\n",
            "101151\n",
            "101152\n",
            "101153\n",
            "101154\n",
            "101155\n",
            "101156\n",
            "101157\n",
            "101158\n",
            "101159\n",
            "101160\n",
            "101161\n",
            "101162\n",
            "101163\n",
            "101164\n",
            "101165\n",
            "101166\n",
            "101167\n",
            "101168\n",
            "101169\n",
            "101170\n",
            "101171\n",
            "101172\n",
            "101173\n",
            "101174\n",
            "101175\n",
            "101176\n",
            "101177\n",
            "101178\n",
            "101179\n",
            "101180\n",
            "101181\n",
            "101182\n",
            "101183\n",
            "101184\n",
            "101185\n",
            "101186\n",
            "101187\n",
            "101188\n",
            "101189\n",
            "101190\n",
            "101191\n",
            "101192\n",
            "101193\n",
            "101194\n",
            "101195\n",
            "101196\n",
            "101197\n",
            "101198\n",
            "101199\n",
            "101200\n",
            "101201\n",
            "101202\n",
            "101203\n",
            "101204\n",
            "101205\n",
            "101206\n",
            "101207\n",
            "101208\n",
            "101209\n",
            "101210\n",
            "101211\n",
            "101212\n",
            "101213\n",
            "101214\n",
            "101215\n",
            "101216\n",
            "101217\n",
            "101218\n",
            "101219\n",
            "101220\n",
            "101221\n",
            "101222\n",
            "101223\n",
            "101224\n",
            "101225\n",
            "101226\n",
            "101227\n",
            "101228\n",
            "101229\n",
            "101230\n",
            "101231\n",
            "101232\n",
            "101233\n",
            "101234\n",
            "101235\n",
            "101236\n",
            "101237\n",
            "101238\n",
            "101239\n",
            "101240\n",
            "101241\n",
            "101242\n",
            "101243\n",
            "101244\n",
            "101245\n",
            "101246\n",
            "101247\n",
            "101248\n",
            "101249\n",
            "101250\n",
            "101251\n",
            "101252\n",
            "101253\n",
            "101254\n",
            "101255\n",
            "101256\n",
            "101257\n",
            "101258\n",
            "101259\n",
            "101260\n",
            "101261\n",
            "101262\n",
            "101263\n",
            "101264\n",
            "101265\n",
            "101266\n",
            "101267\n",
            "101268\n",
            "101269\n",
            "101270\n",
            "101271\n",
            "101272\n",
            "101273\n",
            "101274\n",
            "101275\n",
            "101276\n",
            "101277\n",
            "101278\n",
            "101279\n",
            "101280\n",
            "101281\n",
            "101282\n",
            "101283\n",
            "101284\n",
            "101285\n",
            "101286\n",
            "101287\n",
            "101288\n",
            "101289\n",
            "101290\n",
            "101291\n",
            "101292\n",
            "101293\n",
            "101294\n",
            "101295\n",
            "101296\n",
            "101297\n",
            "101298\n",
            "101299\n",
            "101300\n",
            "101301\n",
            "101302\n",
            "101303\n",
            "101304\n",
            "101305\n",
            "101306\n",
            "101307\n",
            "101308\n",
            "101309\n",
            "101310\n",
            "101311\n",
            "101312\n",
            "101313\n",
            "101314\n",
            "101315\n",
            "101316\n",
            "101317\n",
            "101318\n",
            "101319\n",
            "101320\n",
            "101321\n",
            "101322\n",
            "101323\n",
            "101324\n",
            "101325\n",
            "101326\n",
            "101327\n",
            "101328\n",
            "101329\n",
            "101330\n",
            "101331\n",
            "101332\n",
            "101333\n",
            "101334\n",
            "101335\n",
            "101336\n",
            "101337\n",
            "101338\n",
            "101339\n",
            "101340\n",
            "101341\n",
            "101342\n",
            "101343\n",
            "101344\n",
            "101345\n",
            "101346\n",
            "101347\n",
            "101348\n",
            "101349\n",
            "101350\n",
            "101351\n",
            "101352\n",
            "101353\n",
            "101354\n",
            "101355\n",
            "101356\n",
            "101357\n",
            "101358\n",
            "101359\n",
            "101360\n",
            "101361\n",
            "101362\n",
            "101363\n",
            "101364\n",
            "101365\n",
            "101366\n",
            "101367\n",
            "101368\n",
            "101369\n",
            "101370\n",
            "101371\n",
            "101372\n",
            "101373\n",
            "101374\n",
            "101375\n",
            "101376\n",
            "101377\n",
            "101378\n",
            "101379\n",
            "101380\n",
            "101381\n",
            "101382\n",
            "101383\n",
            "101384\n",
            "101385\n",
            "101386\n",
            "101387\n",
            "101388\n",
            "101389\n",
            "101390\n",
            "101391\n",
            "101392\n",
            "101393\n",
            "101394\n",
            "101395\n",
            "101396\n",
            "101397\n",
            "101398\n",
            "101399\n",
            "101400\n",
            "101401\n",
            "101402\n",
            "101403\n",
            "101404\n",
            "101405\n",
            "101406\n",
            "101407\n",
            "101408\n",
            "101409\n",
            "101410\n",
            "101411\n",
            "101412\n",
            "101413\n",
            "101414\n",
            "101415\n",
            "101416\n",
            "101417\n",
            "101418\n",
            "101419\n",
            "101420\n",
            "101421\n",
            "101422\n",
            "101423\n",
            "101424\n",
            "101425\n",
            "101426\n",
            "101427\n",
            "101428\n",
            "101429\n",
            "101430\n",
            "101431\n",
            "101432\n",
            "101433\n",
            "101434\n",
            "101435\n",
            "101436\n",
            "101437\n",
            "101438\n",
            "101439\n",
            "101440\n",
            "101441\n",
            "101442\n",
            "101443\n",
            "101444\n",
            "101445\n",
            "101446\n",
            "101447\n",
            "101448\n",
            "101449\n",
            "101450\n",
            "101451\n",
            "101452\n",
            "101453\n",
            "101454\n",
            "101455\n",
            "101456\n",
            "101457\n",
            "101458\n",
            "101459\n",
            "101460\n",
            "101461\n",
            "101462\n",
            "101463\n",
            "101464\n",
            "101465\n",
            "101466\n",
            "101467\n",
            "101468\n",
            "101469\n",
            "101470\n",
            "101471\n",
            "101472\n",
            "101473\n",
            "101474\n",
            "101475\n",
            "101476\n",
            "101477\n",
            "101478\n",
            "101479\n",
            "101480\n",
            "101481\n",
            "101482\n",
            "101483\n",
            "101484\n",
            "101485\n",
            "101486\n",
            "101487\n",
            "101488\n",
            "101489\n",
            "101490\n",
            "101491\n",
            "101492\n",
            "101493\n",
            "101494\n",
            "101495\n",
            "101496\n",
            "101497\n",
            "101498\n",
            "101499\n",
            "101500\n",
            "101501\n",
            "101502\n",
            "101503\n",
            "101504\n",
            "101505\n",
            "101506\n",
            "101507\n",
            "101508\n",
            "101509\n",
            "101510\n",
            "101511\n",
            "101512\n",
            "101513\n",
            "101514\n",
            "101515\n",
            "101516\n",
            "101517\n",
            "101518\n",
            "101519\n",
            "101520\n",
            "101521\n",
            "101522\n",
            "101523\n",
            "101524\n",
            "101525\n",
            "101526\n",
            "101527\n",
            "101528\n",
            "101529\n",
            "101530\n",
            "101531\n",
            "101532\n",
            "101533\n",
            "101534\n",
            "101535\n",
            "101536\n",
            "101537\n",
            "101538\n",
            "101539\n",
            "101540\n",
            "101541\n",
            "101542\n",
            "101543\n",
            "101544\n",
            "101545\n",
            "101546\n",
            "101547\n",
            "101548\n",
            "101549\n",
            "101550\n",
            "101551\n",
            "101552\n",
            "101553\n",
            "101554\n",
            "101555\n",
            "101556\n",
            "101557\n",
            "101558\n",
            "101559\n",
            "101560\n",
            "101561\n",
            "101562\n",
            "101563\n",
            "101564\n",
            "101565\n",
            "101566\n",
            "101567\n",
            "101568\n",
            "101569\n",
            "101570\n",
            "101571\n",
            "101572\n",
            "101573\n",
            "101574\n",
            "101575\n",
            "101576\n",
            "101577\n",
            "101578\n",
            "101579\n",
            "101580\n",
            "101581\n",
            "101582\n",
            "101583\n",
            "101584\n",
            "101585\n",
            "101586\n",
            "101587\n",
            "101588\n",
            "101589\n",
            "101590\n",
            "101591\n",
            "101592\n",
            "101593\n",
            "101594\n",
            "101595\n",
            "101596\n",
            "101597\n",
            "101598\n",
            "101599\n",
            "101600\n",
            "101601\n",
            "101602\n",
            "101603\n",
            "101604\n",
            "101605\n",
            "101606\n",
            "101607\n",
            "101608\n",
            "101609\n",
            "101610\n",
            "101611\n",
            "101612\n",
            "101613\n",
            "101614\n",
            "101615\n",
            "101616\n",
            "101617\n",
            "101618\n",
            "101619\n",
            "101620\n",
            "101621\n",
            "101622\n",
            "101623\n",
            "101624\n",
            "101625\n",
            "101626\n",
            "101627\n",
            "101628\n",
            "101629\n",
            "101630\n",
            "101631\n",
            "101632\n",
            "101633\n",
            "101634\n",
            "101635\n",
            "101636\n",
            "101637\n",
            "101638\n",
            "101639\n",
            "101640\n",
            "101641\n",
            "101642\n",
            "101643\n",
            "101644\n",
            "101645\n",
            "101646\n",
            "101647\n",
            "101648\n",
            "101649\n",
            "101650\n",
            "101651\n",
            "101652\n",
            "101653\n",
            "101654\n",
            "101655\n",
            "101656\n",
            "101657\n",
            "101658\n",
            "101659\n",
            "101660\n",
            "101661\n",
            "101662\n",
            "101663\n",
            "101664\n",
            "101665\n",
            "101666\n",
            "101667\n",
            "101668\n",
            "101669\n",
            "101670\n",
            "101671\n",
            "101672\n",
            "101673\n",
            "101674\n",
            "101675\n",
            "101676\n",
            "101677\n",
            "101678\n",
            "101679\n",
            "101680\n",
            "101681\n",
            "101682\n",
            "101683\n",
            "101684\n",
            "101685\n",
            "101686\n",
            "101687\n",
            "101688\n",
            "101689\n",
            "101690\n",
            "101691\n",
            "101692\n",
            "101693\n",
            "101694\n",
            "101695\n",
            "101696\n",
            "101697\n",
            "101698\n",
            "101699\n",
            "101700\n",
            "101701\n",
            "101702\n",
            "101703\n",
            "101704\n",
            "101705\n",
            "101706\n",
            "101707\n",
            "101708\n",
            "101709\n",
            "101710\n",
            "101711\n",
            "101712\n",
            "101713\n",
            "101714\n",
            "101715\n",
            "101716\n",
            "101717\n",
            "101718\n",
            "101719\n",
            "101720\n",
            "101721\n",
            "101722\n",
            "101723\n",
            "101724\n",
            "101725\n",
            "101726\n",
            "101727\n",
            "101728\n",
            "101729\n",
            "101730\n",
            "101731\n",
            "101732\n",
            "101733\n",
            "101734\n",
            "101735\n",
            "101736\n",
            "101737\n",
            "101738\n",
            "101739\n",
            "101740\n",
            "101741\n",
            "101742\n",
            "101743\n",
            "101744\n",
            "101745\n",
            "101746\n",
            "101747\n",
            "101748\n",
            "101749\n",
            "101750\n",
            "101751\n",
            "101752\n",
            "101753\n",
            "101754\n",
            "101755\n",
            "101756\n",
            "101757\n",
            "101758\n",
            "101759\n",
            "101760\n",
            "101761\n",
            "101762\n",
            "101763\n",
            "101764\n",
            "101765\n",
            "101766\n",
            "101767\n",
            "101768\n",
            "101769\n",
            "101770\n",
            "101771\n",
            "101772\n",
            "101773\n",
            "101774\n",
            "101775\n",
            "101776\n",
            "101777\n",
            "101778\n",
            "101779\n",
            "101780\n",
            "101781\n",
            "101782\n",
            "101783\n",
            "101784\n",
            "101785\n",
            "101786\n",
            "101787\n",
            "101788\n",
            "101789\n",
            "101790\n",
            "101791\n",
            "101792\n",
            "101793\n",
            "101794\n",
            "101795\n",
            "101796\n",
            "101797\n",
            "101798\n",
            "101799\n",
            "101800\n",
            "101801\n",
            "101802\n",
            "101803\n",
            "101804\n",
            "101805\n",
            "101806\n",
            "101807\n",
            "101808\n",
            "101809\n",
            "101810\n",
            "101811\n",
            "101812\n",
            "101813\n",
            "101814\n",
            "101815\n",
            "101816\n",
            "101817\n",
            "101818\n",
            "101819\n",
            "101820\n",
            "101821\n",
            "101822\n",
            "101823\n",
            "101824\n",
            "101825\n",
            "101826\n",
            "101827\n",
            "101828\n",
            "101829\n",
            "101830\n",
            "101831\n",
            "101832\n",
            "101833\n",
            "101834\n",
            "101835\n",
            "101836\n",
            "101837\n",
            "101838\n",
            "101839\n",
            "101840\n",
            "101841\n",
            "101842\n",
            "101843\n",
            "101844\n",
            "101845\n",
            "101846\n",
            "101847\n",
            "101848\n",
            "101849\n",
            "101850\n",
            "101851\n",
            "101852\n",
            "101853\n",
            "101854\n",
            "101855\n",
            "101856\n",
            "101857\n",
            "101858\n",
            "101859\n",
            "101860\n",
            "101861\n",
            "101862\n",
            "101863\n",
            "101864\n",
            "101865\n",
            "101866\n",
            "101867\n",
            "101868\n",
            "101869\n",
            "101870\n",
            "101871\n",
            "101872\n",
            "101873\n",
            "101874\n",
            "101875\n",
            "101876\n",
            "101877\n",
            "101878\n",
            "101879\n",
            "101880\n",
            "101881\n",
            "101882\n",
            "101883\n",
            "101884\n",
            "101885\n",
            "101886\n",
            "101887\n",
            "101888\n",
            "101889\n",
            "101890\n",
            "101891\n",
            "101892\n",
            "101893\n",
            "101894\n",
            "101895\n",
            "101896\n",
            "101897\n",
            "101898\n",
            "101899\n",
            "101900\n",
            "101901\n",
            "101902\n",
            "101903\n",
            "101904\n",
            "101905\n",
            "101906\n",
            "101907\n",
            "101908\n",
            "101909\n",
            "101910\n",
            "101911\n",
            "101912\n",
            "101913\n",
            "101914\n",
            "101915\n",
            "101916\n",
            "101917\n",
            "101918\n",
            "101919\n",
            "101920\n",
            "101921\n",
            "101922\n",
            "101923\n",
            "101924\n",
            "101925\n",
            "101926\n",
            "101927\n",
            "101928\n",
            "101929\n",
            "101930\n",
            "101931\n",
            "101932\n",
            "101933\n",
            "101934\n",
            "101935\n",
            "101936\n",
            "101937\n",
            "101938\n",
            "101939\n",
            "101940\n",
            "101941\n",
            "101942\n",
            "101943\n",
            "101944\n",
            "101945\n",
            "101946\n",
            "101947\n",
            "101948\n",
            "101949\n",
            "101950\n",
            "101951\n",
            "101952\n",
            "101953\n",
            "101954\n",
            "101955\n",
            "101956\n",
            "101957\n",
            "101958\n",
            "101959\n",
            "101960\n",
            "101961\n",
            "101962\n",
            "101963\n",
            "101964\n",
            "101965\n",
            "101966\n",
            "101967\n",
            "101968\n",
            "101969\n",
            "101970\n",
            "101971\n",
            "101972\n",
            "101973\n",
            "101974\n",
            "101975\n",
            "101976\n",
            "101977\n",
            "101978\n",
            "101979\n",
            "101980\n",
            "101981\n",
            "101982\n",
            "101983\n",
            "101984\n",
            "101985\n",
            "101986\n",
            "101987\n",
            "101988\n",
            "101989\n",
            "101990\n",
            "101991\n",
            "101992\n",
            "101993\n",
            "101994\n",
            "101995\n",
            "101996\n",
            "101997\n",
            "101998\n",
            "101999\n",
            "102000\n",
            "102001\n",
            "102002\n",
            "102003\n",
            "102004\n",
            "102005\n",
            "102006\n",
            "102007\n",
            "102008\n",
            "102009\n",
            "102010\n",
            "102011\n",
            "102012\n",
            "102013\n",
            "102014\n",
            "102015\n",
            "102016\n",
            "102017\n",
            "102018\n",
            "102019\n",
            "102020\n",
            "102021\n",
            "102022\n",
            "102023\n",
            "102024\n",
            "102025\n",
            "102026\n",
            "102027\n",
            "102028\n",
            "102029\n",
            "102030\n",
            "102031\n",
            "102032\n",
            "102033\n",
            "102034\n",
            "102035\n",
            "102036\n",
            "102037\n",
            "102038\n",
            "102039\n",
            "102040\n",
            "102041\n",
            "102042\n",
            "102043\n",
            "102044\n",
            "102045\n",
            "102046\n",
            "102047\n",
            "102048\n",
            "102049\n",
            "102050\n",
            "102051\n",
            "102052\n",
            "102053\n",
            "102054\n",
            "102055\n",
            "102056\n",
            "102057\n",
            "102058\n",
            "102059\n",
            "102060\n",
            "102061\n",
            "102062\n",
            "102063\n",
            "102064\n",
            "102065\n",
            "102066\n",
            "102067\n",
            "102068\n",
            "102069\n",
            "102070\n",
            "102071\n",
            "102072\n",
            "102073\n",
            "102074\n",
            "102075\n",
            "102076\n",
            "102077\n",
            "102078\n",
            "102079\n",
            "102080\n",
            "102081\n",
            "102082\n",
            "102083\n",
            "102084\n",
            "102085\n",
            "102086\n",
            "102087\n",
            "102088\n",
            "102089\n",
            "102090\n",
            "102091\n",
            "102092\n",
            "102093\n",
            "102094\n",
            "102095\n",
            "102096\n",
            "102097\n",
            "102098\n",
            "102099\n",
            "102100\n",
            "102101\n",
            "102102\n",
            "102103\n",
            "102104\n",
            "102105\n",
            "102106\n",
            "102107\n",
            "102108\n",
            "102109\n",
            "102110\n",
            "102111\n",
            "102112\n",
            "102113\n",
            "102114\n",
            "102115\n",
            "102116\n",
            "102117\n",
            "102118\n",
            "102119\n",
            "102120\n",
            "102121\n",
            "102122\n",
            "102123\n",
            "102124\n",
            "102125\n",
            "102126\n",
            "102127\n",
            "102128\n",
            "102129\n",
            "102130\n",
            "102131\n",
            "102132\n",
            "102133\n",
            "102134\n",
            "102135\n",
            "102136\n",
            "102137\n",
            "102138\n",
            "102139\n",
            "102140\n",
            "102141\n",
            "102142\n",
            "102143\n",
            "102144\n",
            "102145\n",
            "102146\n",
            "102147\n",
            "102148\n",
            "102149\n",
            "102150\n",
            "102151\n",
            "102152\n",
            "102153\n",
            "102154\n",
            "102155\n",
            "102156\n",
            "102157\n",
            "102158\n",
            "102159\n",
            "102160\n",
            "102161\n",
            "102162\n",
            "102163\n",
            "102164\n",
            "102165\n",
            "102166\n",
            "102167\n",
            "102168\n",
            "102169\n",
            "102170\n",
            "102171\n",
            "102172\n",
            "102173\n",
            "102174\n",
            "102175\n",
            "102176\n",
            "102177\n",
            "102178\n",
            "102179\n",
            "102180\n",
            "102181\n",
            "102182\n",
            "102183\n",
            "102184\n",
            "102185\n",
            "102186\n",
            "102187\n",
            "102188\n",
            "102189\n",
            "102190\n",
            "102191\n",
            "102192\n",
            "102193\n",
            "102194\n",
            "102195\n",
            "102196\n",
            "102197\n",
            "102198\n",
            "102199\n",
            "102200\n",
            "102201\n",
            "102202\n",
            "102203\n",
            "102204\n",
            "102205\n"
          ]
        },
        {
          "output_type": "error",
          "ename": "KeyboardInterrupt",
          "evalue": "ignored",
          "traceback": [
            "\u001b[0;31m---------------------------------------------------------------------------\u001b[0m",
            "\u001b[0;31mKeyboardInterrupt\u001b[0m                         Traceback (most recent call last)",
            "\u001b[0;32m<ipython-input-412-7fac838fde29>\u001b[0m in \u001b[0;36m<module>\u001b[0;34m\u001b[0m\n\u001b[0;32m----> 1\u001b[0;31m \u001b[0mcountdown\u001b[0m\u001b[0;34m(\u001b[0m\u001b[0;36m10\u001b[0m\u001b[0;34m)\u001b[0m\u001b[0;34m\u001b[0m\u001b[0;34m\u001b[0m\u001b[0m\n\u001b[0m",
            "\u001b[0;32m<ipython-input-411-d10c46b11659>\u001b[0m in \u001b[0;36mcountdown\u001b[0;34m(n)\u001b[0m\n\u001b[1;32m      2\u001b[0m     \u001b[0mcurrent_value\u001b[0m \u001b[0;34m=\u001b[0m \u001b[0mn\u001b[0m\u001b[0;34m\u001b[0m\u001b[0;34m\u001b[0m\u001b[0m\n\u001b[1;32m      3\u001b[0m     \u001b[0;32mwhile\u001b[0m \u001b[0mcurrent_value\u001b[0m \u001b[0;34m>\u001b[0m \u001b[0;36m0\u001b[0m\u001b[0;34m:\u001b[0m  \u001b[0;31m# The condition (current_value > 0) is checked before every instance of the scope!\u001b[0m\u001b[0;34m\u001b[0m\u001b[0;34m\u001b[0m\u001b[0m\n\u001b[0;32m----> 4\u001b[0;31m         \u001b[0mprint\u001b[0m\u001b[0;34m(\u001b[0m\u001b[0mcurrent_value\u001b[0m\u001b[0;34m)\u001b[0m\u001b[0;34m\u001b[0m\u001b[0;34m\u001b[0m\u001b[0m\n\u001b[0m\u001b[1;32m      5\u001b[0m         \u001b[0mcurrent_value\u001b[0m \u001b[0;34m=\u001b[0m \u001b[0mcurrent_value\u001b[0m \u001b[0;34m+\u001b[0m \u001b[0;36m1\u001b[0m\u001b[0;34m\u001b[0m\u001b[0;34m\u001b[0m\u001b[0m\n\u001b[1;32m      6\u001b[0m     \u001b[0mprint\u001b[0m\u001b[0;34m(\u001b[0m\u001b[0;34m\"Blastoff!\"\u001b[0m\u001b[0;34m)\u001b[0m\u001b[0;34m\u001b[0m\u001b[0;34m\u001b[0m\u001b[0m\n",
            "\u001b[0;32m/usr/local/lib/python3.8/dist-packages/ipykernel/iostream.py\u001b[0m in \u001b[0;36mwrite\u001b[0;34m(self, string)\u001b[0m\n\u001b[1;32m    402\u001b[0m             \u001b[0mis_child\u001b[0m \u001b[0;34m=\u001b[0m \u001b[0;34m(\u001b[0m\u001b[0;32mnot\u001b[0m \u001b[0mself\u001b[0m\u001b[0;34m.\u001b[0m\u001b[0m_is_master_process\u001b[0m\u001b[0;34m(\u001b[0m\u001b[0;34m)\u001b[0m\u001b[0;34m)\u001b[0m\u001b[0;34m\u001b[0m\u001b[0;34m\u001b[0m\u001b[0m\n\u001b[1;32m    403\u001b[0m             \u001b[0;31m# only touch the buffer in the IO thread to avoid races\u001b[0m\u001b[0;34m\u001b[0m\u001b[0;34m\u001b[0m\u001b[0;34m\u001b[0m\u001b[0m\n\u001b[0;32m--> 404\u001b[0;31m             \u001b[0mself\u001b[0m\u001b[0;34m.\u001b[0m\u001b[0mpub_thread\u001b[0m\u001b[0;34m.\u001b[0m\u001b[0mschedule\u001b[0m\u001b[0;34m(\u001b[0m\u001b[0;32mlambda\u001b[0m \u001b[0;34m:\u001b[0m \u001b[0mself\u001b[0m\u001b[0;34m.\u001b[0m\u001b[0m_buffer\u001b[0m\u001b[0;34m.\u001b[0m\u001b[0mwrite\u001b[0m\u001b[0;34m(\u001b[0m\u001b[0mstring\u001b[0m\u001b[0;34m)\u001b[0m\u001b[0;34m)\u001b[0m\u001b[0;34m\u001b[0m\u001b[0;34m\u001b[0m\u001b[0m\n\u001b[0m\u001b[1;32m    405\u001b[0m             \u001b[0;32mif\u001b[0m \u001b[0mis_child\u001b[0m\u001b[0;34m:\u001b[0m\u001b[0;34m\u001b[0m\u001b[0;34m\u001b[0m\u001b[0m\n\u001b[1;32m    406\u001b[0m                 \u001b[0;31m# mp.Pool cannot be trusted to flush promptly (or ever),\u001b[0m\u001b[0;34m\u001b[0m\u001b[0;34m\u001b[0m\u001b[0;34m\u001b[0m\u001b[0m\n",
            "\u001b[0;32m/usr/local/lib/python3.8/dist-packages/ipykernel/iostream.py\u001b[0m in \u001b[0;36mschedule\u001b[0;34m(self, f)\u001b[0m\n\u001b[1;32m    203\u001b[0m             \u001b[0mself\u001b[0m\u001b[0;34m.\u001b[0m\u001b[0m_events\u001b[0m\u001b[0;34m.\u001b[0m\u001b[0mappend\u001b[0m\u001b[0;34m(\u001b[0m\u001b[0mf\u001b[0m\u001b[0;34m)\u001b[0m\u001b[0;34m\u001b[0m\u001b[0;34m\u001b[0m\u001b[0m\n\u001b[1;32m    204\u001b[0m             \u001b[0;31m# wake event thread (message content is ignored)\u001b[0m\u001b[0;34m\u001b[0m\u001b[0;34m\u001b[0m\u001b[0;34m\u001b[0m\u001b[0m\n\u001b[0;32m--> 205\u001b[0;31m             \u001b[0mself\u001b[0m\u001b[0;34m.\u001b[0m\u001b[0m_event_pipe\u001b[0m\u001b[0;34m.\u001b[0m\u001b[0msend\u001b[0m\u001b[0;34m(\u001b[0m\u001b[0;34mb''\u001b[0m\u001b[0;34m)\u001b[0m\u001b[0;34m\u001b[0m\u001b[0;34m\u001b[0m\u001b[0m\n\u001b[0m\u001b[1;32m    206\u001b[0m         \u001b[0;32melse\u001b[0m\u001b[0;34m:\u001b[0m\u001b[0;34m\u001b[0m\u001b[0;34m\u001b[0m\u001b[0m\n\u001b[1;32m    207\u001b[0m             \u001b[0mf\u001b[0m\u001b[0;34m(\u001b[0m\u001b[0;34m)\u001b[0m\u001b[0;34m\u001b[0m\u001b[0;34m\u001b[0m\u001b[0m\n",
            "\u001b[0;32m/usr/local/lib/python3.8/dist-packages/zmq/sugar/socket.py\u001b[0m in \u001b[0;36msend\u001b[0;34m(self, data, flags, copy, track, routing_id, group)\u001b[0m\n\u001b[1;32m    616\u001b[0m                 )\n\u001b[1;32m    617\u001b[0m             \u001b[0mdata\u001b[0m\u001b[0;34m.\u001b[0m\u001b[0mgroup\u001b[0m \u001b[0;34m=\u001b[0m \u001b[0mgroup\u001b[0m\u001b[0;34m\u001b[0m\u001b[0;34m\u001b[0m\u001b[0m\n\u001b[0;32m--> 618\u001b[0;31m         \u001b[0;32mreturn\u001b[0m \u001b[0msuper\u001b[0m\u001b[0;34m(\u001b[0m\u001b[0;34m)\u001b[0m\u001b[0;34m.\u001b[0m\u001b[0msend\u001b[0m\u001b[0;34m(\u001b[0m\u001b[0mdata\u001b[0m\u001b[0;34m,\u001b[0m \u001b[0mflags\u001b[0m\u001b[0;34m=\u001b[0m\u001b[0mflags\u001b[0m\u001b[0;34m,\u001b[0m \u001b[0mcopy\u001b[0m\u001b[0;34m=\u001b[0m\u001b[0mcopy\u001b[0m\u001b[0;34m,\u001b[0m \u001b[0mtrack\u001b[0m\u001b[0;34m=\u001b[0m\u001b[0mtrack\u001b[0m\u001b[0;34m)\u001b[0m\u001b[0;34m\u001b[0m\u001b[0;34m\u001b[0m\u001b[0m\n\u001b[0m\u001b[1;32m    619\u001b[0m \u001b[0;34m\u001b[0m\u001b[0m\n\u001b[1;32m    620\u001b[0m     def send_multipart(\n",
            "\u001b[0;32mzmq/backend/cython/socket.pyx\u001b[0m in \u001b[0;36mzmq.backend.cython.socket.Socket.send\u001b[0;34m()\u001b[0m\n",
            "\u001b[0;32mzmq/backend/cython/socket.pyx\u001b[0m in \u001b[0;36mzmq.backend.cython.socket.Socket.send\u001b[0;34m()\u001b[0m\n",
            "\u001b[0;32mzmq/backend/cython/socket.pyx\u001b[0m in \u001b[0;36mzmq.backend.cython.socket._send_copy\u001b[0;34m()\u001b[0m\n",
            "\u001b[0;32m/usr/local/lib/python3.8/dist-packages/zmq/backend/cython/checkrc.pxd\u001b[0m in \u001b[0;36mzmq.backend.cython.checkrc._check_rc\u001b[0;34m()\u001b[0m\n",
            "\u001b[0;31mKeyboardInterrupt\u001b[0m: "
          ]
        }
      ]
    },
    {
      "cell_type": "markdown",
      "source": [
        "- I let it run to 100,000."
      ],
      "metadata": {
        "id": "nHOauiOO86om"
      }
    },
    {
      "cell_type": "markdown",
      "metadata": {
        "id": "7qfo2YKSuXdw"
      },
      "source": [
        "### The Euclidean algorithm with a while loop"
      ]
    },
    {
      "cell_type": "markdown",
      "metadata": {
        "collapsed": true,
        "id": "_zC7y26QuXdw"
      },
      "source": [
        "The **Euclidean Algorithm** is a process of repeated division with remainder.  Beginning with two integers `a` (dividend) and `b` (divisor), one computes quotient `q` and remainder `q` to express `a = qb + r`.  Then `b` becomes the dividend and `r` becomes the divisor, and one repeats.  The repetition continues, and the **last nonzero** remainder is the greatest common divisor of `a` and `b`."
      ]
    },
    {
      "cell_type": "markdown",
      "metadata": {
        "id": "D7v0mXjmuXdw"
      },
      "source": [
        "We implement the Euclidean algorithm in a few variations.  The first will be a verbose version, to show the user what happens at every step.  We use a while loop to take care of the repetition."
      ]
    },
    {
      "cell_type": "code",
      "metadata": {
        "id": "pdc1E8U0uXdw"
      },
      "source": [
        "def Euclidean_algorithm(a,b):\n",
        "    dividend = a\n",
        "    divisor = b\n",
        "    while divisor != 0:   # Recall that != means \"is not equal to\".\n",
        "        quotient = dividend // divisor\n",
        "        remainder = dividend % divisor\n",
        "        print(\"{} = {} ({}) + {}\".format(dividend, quotient, divisor, remainder))\n",
        "        dividend = divisor  \n",
        "        divisor = remainder"
      ],
      "execution_count": 464,
      "outputs": []
    },
    {
      "cell_type": "code",
      "metadata": {
        "id": "N1atLqX-uXdw",
        "colab": {
          "base_uri": "https://localhost:8080/"
        },
        "outputId": "66d257a4-ffa6-453c-f799-be28ca88a271"
      },
      "source": [
        "Euclidean_algorithm(133, 58)"
      ],
      "execution_count": 414,
      "outputs": [
        {
          "output_type": "stream",
          "name": "stdout",
          "text": [
            "133 = 2 (58) + 17\n",
            "58 = 3 (17) + 7\n",
            "17 = 2 (7) + 3\n",
            "7 = 2 (3) + 1\n",
            "3 = 3 (1) + 0\n"
          ]
        }
      ]
    },
    {
      "cell_type": "code",
      "metadata": {
        "id": "2Ha1idXQuXdw",
        "colab": {
          "base_uri": "https://localhost:8080/"
        },
        "outputId": "6f44a226-cddb-409a-eed8-6701a7475393"
      },
      "source": [
        "Euclidean_algorithm(1312331323, 58123123)"
      ],
      "execution_count": 415,
      "outputs": [
        {
          "output_type": "stream",
          "name": "stdout",
          "text": [
            "1312331323 = 22 (58123123) + 33622617\n",
            "58123123 = 1 (33622617) + 24500506\n",
            "33622617 = 1 (24500506) + 9122111\n",
            "24500506 = 2 (9122111) + 6256284\n",
            "9122111 = 1 (6256284) + 2865827\n",
            "6256284 = 2 (2865827) + 524630\n",
            "2865827 = 5 (524630) + 242677\n",
            "524630 = 2 (242677) + 39276\n",
            "242677 = 6 (39276) + 7021\n",
            "39276 = 5 (7021) + 4171\n",
            "7021 = 1 (4171) + 2850\n",
            "4171 = 1 (2850) + 1321\n",
            "2850 = 2 (1321) + 208\n",
            "1321 = 6 (208) + 73\n",
            "208 = 2 (73) + 62\n",
            "73 = 1 (62) + 11\n",
            "62 = 5 (11) + 7\n",
            "11 = 1 (7) + 4\n",
            "7 = 1 (4) + 3\n",
            "4 = 1 (3) + 1\n",
            "3 = 3 (1) + 0\n"
          ]
        }
      ]
    },
    {
      "cell_type": "markdown",
      "metadata": {
        "id": "rMeCKV5OuXdx"
      },
      "source": [
        "This is excellent if we want to know every step of the Euclidean algorithm.  If we just want to know the GCD of two numbers, we can be less verbose.  We carefully return the last nonzero remainder after the while loop is concluded.  This last nonzero remainder becomes the divisor when the remainder becomes zero, and then it would become the dividend in the next (unprinted) line.  That is why we return the (absolute value) of the dividend after the loop is concluded.  You might insert a line at the end of the loop, like `print(dividend, divisor, remainder)` to help you track the variables."
      ]
    },
    {
      "cell_type": "code",
      "metadata": {
        "id": "vCVQMG-puXdx"
      },
      "source": [
        "def GCD(a,b):\n",
        "    dividend = a # The first dividend is a.\n",
        "    divisor = b # The first divisor is b.\n",
        "    while divisor != 0:   # Recall that != means \"not equal to\".\n",
        "        quotient = dividend // divisor\n",
        "        remainder = dividend % divisor\n",
        "        dividend = divisor  \n",
        "        divisor = remainder\n",
        "    return abs(dividend)  #  abs() is used, since we like our GCDs to be positive."
      ],
      "execution_count": 416,
      "outputs": []
    },
    {
      "cell_type": "markdown",
      "metadata": {
        "id": "9APX4vd1uXdx"
      },
      "source": [
        "Note that the `return dividend` statement occurs *after* the scope of the while loop.  So as soon as the *divisor* variable equals zero, the funtion `GCD` returns the *dividend* variable and terminates."
      ]
    },
    {
      "cell_type": "code",
      "metadata": {
        "id": "3O3UOceWuXdx",
        "colab": {
          "base_uri": "https://localhost:8080/"
        },
        "outputId": "9f6dc17f-affc-40b4-85c8-69ee479145b3"
      },
      "source": [
        "GCD(111,27)"
      ],
      "execution_count": 417,
      "outputs": [
        {
          "output_type": "execute_result",
          "data": {
            "text/plain": [
              "3"
            ]
          },
          "metadata": {},
          "execution_count": 417
        }
      ]
    },
    {
      "cell_type": "code",
      "metadata": {
        "id": "trzxn7cvuXdx",
        "colab": {
          "base_uri": "https://localhost:8080/"
        },
        "outputId": "ea0a0478-bf83-4aae-98b2-b875e7719274"
      },
      "source": [
        "GCD(111,-27)"
      ],
      "execution_count": 418,
      "outputs": [
        {
          "output_type": "execute_result",
          "data": {
            "text/plain": [
              "3"
            ]
          },
          "metadata": {},
          "execution_count": 418
        }
      ]
    },
    {
      "cell_type": "markdown",
      "metadata": {
        "id": "8GZtAYjquXdx"
      },
      "source": [
        "We can refine our code in a few ways.  First, note that the `quotient` variable is never used!  It was nice in the verbose version of the Euclidean algorithm, but plays no role in finding the GCD.  Our refined code reads\n",
        "```python\n",
        "def GCD(a,b):\n",
        "    dividend = a  \n",
        "    divisor = b  \n",
        "    while divisor != 0:   # Recall that != means \"not equal to\".\n",
        "        remainder = dividend % divisor\n",
        "        dividend = divisor  \n",
        "        divisor = remainder\n",
        "    return abs(dividend) \n",
        "```"
      ]
    },
    {
      "cell_type": "markdown",
      "metadata": {
        "id": "RCY3VVVquXdx"
      },
      "source": [
        "Now there are two slick Python tricks we can use to shorten the code.  The first is called **multiple assignment**.  It is possible to set the values of two variables in a single line of code, with a syntax like below."
      ]
    },
    {
      "cell_type": "code",
      "metadata": {
        "id": "xShE8MpPuXdx"
      },
      "source": [
        "x,y = 2,3  # Sets x to 2 and y to 3."
      ],
      "execution_count": 419,
      "outputs": []
    },
    {
      "cell_type": "markdown",
      "metadata": {
        "id": "0nDSIXkluXdx"
      },
      "source": [
        "This is particular useful for self-referential assignments, because as for ordinary assignment, the right side is evaluated first and then bound to the variables on the left side.  For example, after the line above, try the line below.  Use print statements to see what the values of the variables are afterwards!"
      ]
    },
    {
      "cell_type": "code",
      "metadata": {
        "id": "_hrHKCYUuXdx"
      },
      "source": [
        "x,y = y,x #  Guess what this does!"
      ],
      "execution_count": 420,
      "outputs": []
    },
    {
      "cell_type": "code",
      "metadata": {
        "id": "mi80uo4uuXdx",
        "colab": {
          "base_uri": "https://localhost:8080/"
        },
        "outputId": "15c1c3f3-72ec-41d5-d14f-34f736c30805"
      },
      "source": [
        "print(\"x =\",x) # One could use \"x = {}\".format(x) too.\n",
        "print(\"y =\",y)"
      ],
      "execution_count": 421,
      "outputs": [
        {
          "output_type": "stream",
          "name": "stdout",
          "text": [
            "x = 3\n",
            "y = 2\n"
          ]
        }
      ]
    },
    {
      "cell_type": "markdown",
      "metadata": {
        "id": "Bl5eHRoYuXdy"
      },
      "source": [
        "Now we can use multiple assignment to turn three lines of code into one line of code.  For the `remainder` variable is only used temporarily before its value is given to the `divisor` variable.  Using multiple assignment, the three lines\n",
        "```python\n",
        "    remainder = dividend % divisor\n",
        "    dividend = divisor  \n",
        "    divisor = remainder\n",
        "```\n",
        "can be written in one line,\n",
        "```python\n",
        "    dividend, divisor = divisor, dividend % divisor # Evaluations on the right occur before any assignments!\n",
        "```"
      ]
    },
    {
      "cell_type": "markdown",
      "metadata": {
        "id": "CFUjeCixuXdy"
      },
      "source": [
        "Our newly shortened GCD function looks like this.\n",
        "```python\n",
        "def GCD(a,b):\n",
        "    dividend = a  \n",
        "    divisor = b  \n",
        "    while divisor != 0:   # Recall that != means \"not equal to\".\n",
        "        dividend, divisor = divisor, dividend % divisor\n",
        "    return abs(dividend)\n",
        "```"
      ]
    },
    {
      "cell_type": "markdown",
      "metadata": {
        "id": "IP0eZbSCuXdy"
      },
      "source": [
        "The next trick involves the while loop.  The usual syntax has the form `while <boolean>:`.  But if `while` is followed by a numerical type, e.g. `while <int>:`, then the scope of the while loop will execute as long as the number is nonzero!  Therefore, the line\n",
        "```python\n",
        "while divisor != 0:\n",
        "```\n",
        "can be replaced by the shorter line\n",
        "```python\n",
        "while divisor:\n",
        "```\n",
        "\n",
        "This is truly a trick.  It probably won't speed anything up, and it does not make your program easier to read for beginners.  So use it if you prefer communicating with experienced Python programmers!  Here is the whole function again.\n",
        "```python\n",
        "def GCD(a,b):\n",
        "    dividend = a  \n",
        "    divisor = b  \n",
        "    while divisor:   # Executes the scope if divisor is nonzero.\n",
        "        dividend, divisor = divisor, dividend % divisor\n",
        "    return abs(dividend)\n",
        "```"
      ]
    },
    {
      "cell_type": "markdown",
      "metadata": {
        "id": "yKSoAfbUuXdy"
      },
      "source": [
        "The next optimization is a bit more dangerous for beginners, but it works here.  In general, it can be dangerous to operate directly on the arguments to a function.  But in this setting, it is safe, and makes no real difference to the Python interpreter.  Instead of creating new variables called `dividend` and `divisor`, one can manipulate `a` and `b` directly within the function.  If you do this, the GCD function can be shortened to the following."
      ]
    },
    {
      "cell_type": "code",
      "metadata": {
        "id": "ikac7v-8uXdy"
      },
      "source": [
        "def GCD(a,b):\n",
        "    while b:   # I.e., while b != 0.\n",
        "        a, b = b, a % b\n",
        "    return abs(a)"
      ],
      "execution_count": 422,
      "outputs": []
    },
    {
      "cell_type": "code",
      "metadata": {
        "id": "SP8md911uXdy",
        "colab": {
          "base_uri": "https://localhost:8080/"
        },
        "outputId": "d0b858ad-a193-4645-b825-c15e90390275"
      },
      "source": [
        "# Try it out.  Try it on some big numbers and see how quick it runs!\n",
        "GCD(24925,2423)"
      ],
      "execution_count": 426,
      "outputs": [
        {
          "output_type": "execute_result",
          "data": {
            "text/plain": [
              "1"
            ]
          },
          "metadata": {},
          "execution_count": 426
        }
      ]
    },
    {
      "cell_type": "code",
      "source": [
        "GCD(24893546,28043964)"
      ],
      "metadata": {
        "id": "Xygq8Owk-YiN",
        "outputId": "d2d6344f-3a3e-4e02-c487-67dd96dbb7a9",
        "colab": {
          "base_uri": "https://localhost:8080/"
        }
      },
      "execution_count": 427,
      "outputs": [
        {
          "output_type": "execute_result",
          "data": {
            "text/plain": [
              "2"
            ]
          },
          "metadata": {},
          "execution_count": 427
        }
      ]
    },
    {
      "cell_type": "code",
      "source": [
        "GCD(249735046,57280464)"
      ],
      "metadata": {
        "id": "E_jsp00U-agm",
        "outputId": "519365f4-bdab-401b-f51d-50ed7034edf4",
        "colab": {
          "base_uri": "https://localhost:8080/"
        }
      },
      "execution_count": 431,
      "outputs": [
        {
          "output_type": "execute_result",
          "data": {
            "text/plain": [
              "2"
            ]
          },
          "metadata": {},
          "execution_count": 431
        }
      ]
    },
    {
      "cell_type": "markdown",
      "metadata": {
        "id": "HChX9z8ZuXdy"
      },
      "source": [
        "This code is essentially optimal, if one wishes to execute the Euclidean algorithm to find the GCD of two integers.  It almost [matches the GCD code in a standard Python library](https://stackoverflow.com/a/18944210).  It might be slightly faster than our original code -- but there is a tradeoff here between execution speed and readability of code.  In this and the following lessons, we often optimize enough for everyday purposes, but not so much that readability is lost."
      ]
    },
    {
      "cell_type": "markdown",
      "metadata": {
        "id": "t7NOYklsuXdy"
      },
      "source": [
        "### Exercises and explorations\n",
        "\n",
        "1.  Modify the `is_prime` function by using a while loop instead of `for j in range(2,n):`.  Hint:  the function should contain the lines `j = 2` and `while j < n:` and `j = j + 1` in various places.  Why might this be an improvement from the for loop?  Can you look for factors within a smaller range?\n",
        "\n",
        "2.  Modify the `Euclidean_algorithm` function to create a function which returns the *number of steps* that the Euclidean algorithm requires, i.e., the number of divisions-with-remainder.  How does the number of steps compare to the size of the input numbers?  \n",
        "\n",
        "3.  When $a$ and $b$ are integers, $GCD(a,b) \\cdot LCM(a,b) = ab$.  Use this fact to write an LCM-function.  Try to make your function output only integers (not floats) and behave in a good way even if $a,b$ are zero.\n",
        "\n",
        "4.  How does the `GCD(a,b)` function behave when `a` and/or `b` are zero or negative?  Is this good?\n",
        "\n",
        "5.  Challenge:  Write a function `approximate_e(n)` which approximates $e$ with a maximum error of $10^{-n}$.  (You can assume $n < 1000$ if necessary.)  Try a while loop and `import mpmath`.  Back up your work often! "
      ]
    },
    {
      "cell_type": "code",
      "metadata": {
        "id": "XLVsDlQEuXdy"
      },
      "source": [
        "# Use this space to work on the exercises."
      ],
      "execution_count": null,
      "outputs": []
    },
    {
      "cell_type": "markdown",
      "source": [
        "**1)** Code below:"
      ],
      "metadata": {
        "id": "XVEaMWwO-0rL"
      }
    },
    {
      "cell_type": "code",
      "metadata": {
        "id": "H4Yd89zquXdy"
      },
      "source": [
        "def is_prime(n):\n",
        "  if n < 1:\n",
        "    raise ValueError('Cannot determine if negative numbers or 0 are prime.')\n",
        "  else:\n",
        "    j = 2\n",
        "    while j < n:\n",
        "      if n % j == 0:\n",
        "        print(\"{} is a factor of {}.\".format(j, n))\n",
        "        return False\n",
        "      else:\n",
        "        j = j + 1\n",
        "        continue\n",
        "    return True"
      ],
      "execution_count": 462,
      "outputs": []
    },
    {
      "cell_type": "code",
      "source": [
        "is_prime(11)"
      ],
      "metadata": {
        "id": "9syDp1YF-2HE",
        "outputId": "32fb0794-bb74-4c36-844d-3854d5884c81",
        "colab": {
          "base_uri": "https://localhost:8080/"
        }
      },
      "execution_count": 463,
      "outputs": [
        {
          "output_type": "execute_result",
          "data": {
            "text/plain": [
              "True"
            ]
          },
          "metadata": {},
          "execution_count": 463
        }
      ]
    },
    {
      "cell_type": "markdown",
      "source": [
        "- Based on the code above, I don't see how it can be an improvement"
      ],
      "metadata": {
        "id": "vfoh1KIyCE7F"
      }
    },
    {
      "cell_type": "markdown",
      "source": [
        "**2)** Modify the `Euclidean_algorithm` function to create a function which returns the *number of steps* that the Euclidean algorithm requires, i.e., the number of divisions-with-remainder.  How does the number of steps compare to the size of the input numbers?  "
      ],
      "metadata": {
        "id": "xaTXEUlnCbRK"
      }
    },
    {
      "cell_type": "code",
      "source": [
        "def Euclidean_algorithm(a,b):\n",
        "  dividend = a\n",
        "  divisor = b\n",
        "  n = 1\n",
        "  while divisor != 0:\n",
        "    quotient = dividend // divisor\n",
        "    print(\"Step {}: We find what multiples with {} to get close to {}, which is {}.\".format(n, divisor, dividend, quotient))\n",
        "    remainder = dividend % divisor\n",
        "    print(\"Step {}: Next, we find the remainder by {} - {} ({}), which is {}. This is {} = {} ({}) + {}.\".format(n+1, dividend, quotient, divisor, remainder, dividend, quotient, divisor, remainder))\n",
        "    dividend = divisor\n",
        "    divisor = remainder\n",
        "    print(\"Step {}: Then, we make the divisor the new dividend and the remainder the new divisor, and repeat until the remainder is 0.\".format(n+2))\n",
        "    n = n + 3\n",
        "  print(\"The GCD is {}\".format(dividend))\n",
        "  print(\"Steps required were {}\".format(n-2))"
      ],
      "metadata": {
        "id": "B4fdtnxUCjjQ"
      },
      "execution_count": 520,
      "outputs": []
    },
    {
      "cell_type": "code",
      "source": [
        "Euclidean_algorithm(93,66)"
      ],
      "metadata": {
        "id": "TcbnzqMpC6G3",
        "outputId": "a8a251b1-c775-40d7-ee4f-f403c56be409",
        "colab": {
          "base_uri": "https://localhost:8080/"
        }
      },
      "execution_count": 521,
      "outputs": [
        {
          "output_type": "stream",
          "name": "stdout",
          "text": [
            "Step 1: We find what multiples with 66 to get close to 93, which is 1.\n",
            "Step 2: Next, we find the remainder by 93 - 1 (66), which is 27. This is 93 = 1 (66) + 27.\n",
            "Step 3: Then, we make the divisor the new dividend and the remainder the new divisor, and repeat until the remainder is 0.\n",
            "Step 4: We find what multiples with 27 to get close to 66, which is 2.\n",
            "Step 5: Next, we find the remainder by 66 - 2 (27), which is 12. This is 66 = 2 (27) + 12.\n",
            "Step 6: Then, we make the divisor the new dividend and the remainder the new divisor, and repeat until the remainder is 0.\n",
            "Step 7: We find what multiples with 12 to get close to 27, which is 2.\n",
            "Step 8: Next, we find the remainder by 27 - 2 (12), which is 3. This is 27 = 2 (12) + 3.\n",
            "Step 9: Then, we make the divisor the new dividend and the remainder the new divisor, and repeat until the remainder is 0.\n",
            "Step 10: We find what multiples with 3 to get close to 12, which is 4.\n",
            "Step 11: Next, we find the remainder by 12 - 4 (3), which is 0. This is 12 = 4 (3) + 0.\n",
            "Step 12: Then, we make the divisor the new dividend and the remainder the new divisor, and repeat until the remainder is 0.\n",
            "The GCD is 3\n",
            "Steps required were 11\n"
          ]
        }
      ]
    },
    {
      "cell_type": "code",
      "source": [
        "def Euclidean_algorithm(a,b):\n",
        "  dividend = a\n",
        "  divisor = b\n",
        "  n = 1\n",
        "  while divisor != 0:\n",
        "    quotient = dividend // divisor\n",
        "    remainder = dividend % divisor\n",
        "    dividend = divisor\n",
        "    divisor = remainder\n",
        "    n = n + 3\n",
        "  print(\"The GCD is {}\".format(dividend))\n",
        "  print(\"Steps required were {}\".format(n-2))"
      ],
      "metadata": {
        "id": "CxoIJpdGC8gM"
      },
      "execution_count": 522,
      "outputs": []
    },
    {
      "cell_type": "code",
      "source": [
        "Euclidean_algorithm(93,66)"
      ],
      "metadata": {
        "id": "Gb4dsL9xIzEP",
        "outputId": "a52a518e-f043-4d9f-f5ff-8e1d75099e65",
        "colab": {
          "base_uri": "https://localhost:8080/"
        }
      },
      "execution_count": 523,
      "outputs": [
        {
          "output_type": "stream",
          "name": "stdout",
          "text": [
            "The GCD is 3\n",
            "Steps required were 11\n"
          ]
        }
      ]
    },
    {
      "cell_type": "markdown",
      "source": [
        "- Based on the code I wrote, the amount of steps is tripled the size of the input numbers minus one, unless it was supposed to be like the code underneath:"
      ],
      "metadata": {
        "id": "-3AQQVI-JWn3"
      }
    },
    {
      "cell_type": "code",
      "source": [
        "def Euclidean_algorithm(a,b):\n",
        "  dividend = a\n",
        "  divisor = b\n",
        "  n = 1\n",
        "  while divisor != 0:\n",
        "    quotient = dividend // divisor\n",
        "    print(\"Step {}: We find what multiples with {} to get close to {}, which is {}.\".format(n, divisor, dividend, quotient))\n",
        "    remainder = dividend % divisor\n",
        "    print(\"Next, we find the remainder by {} - {} ({}), which is {}. This is {} = {} ({}) + {}.\".format(dividend, quotient, divisor, remainder, dividend, quotient, divisor, remainder))\n",
        "    dividend = divisor\n",
        "    divisor = remainder\n",
        "    print(\"Then, we make the divisor the new dividend and the remainder the new divisor, and repeat until the remainder is 0.\")\n",
        "    n = n + 1\n",
        "  print(\"The GCD is {}\".format(dividend))\n",
        "  print(\"Steps required were {}\".format(n-1))"
      ],
      "metadata": {
        "id": "FFioyCdzJy2n"
      },
      "execution_count": 528,
      "outputs": []
    },
    {
      "cell_type": "code",
      "source": [
        "Euclidean_algorithm(93,66)"
      ],
      "metadata": {
        "id": "QDzuIsolJIm-",
        "outputId": "715ebea1-2a47-4e32-8903-2d810900ead3",
        "colab": {
          "base_uri": "https://localhost:8080/"
        }
      },
      "execution_count": 529,
      "outputs": [
        {
          "output_type": "stream",
          "name": "stdout",
          "text": [
            "Step 1: We find what multiples with 66 to get close to 93, which is 1.\n",
            "Next, we find the remainder by 93 - 1 (66), which is 27. This is 93 = 1 (66) + 27.\n",
            "Then, we make the divisor the new dividend and the remainder the new divisor, and repeat until the remainder is 0.\n",
            "Step 2: We find what multiples with 27 to get close to 66, which is 2.\n",
            "Next, we find the remainder by 66 - 2 (27), which is 12. This is 66 = 2 (27) + 12.\n",
            "Then, we make the divisor the new dividend and the remainder the new divisor, and repeat until the remainder is 0.\n",
            "Step 3: We find what multiples with 12 to get close to 27, which is 2.\n",
            "Next, we find the remainder by 27 - 2 (12), which is 3. This is 27 = 2 (12) + 3.\n",
            "Then, we make the divisor the new dividend and the remainder the new divisor, and repeat until the remainder is 0.\n",
            "Step 4: We find what multiples with 3 to get close to 12, which is 4.\n",
            "Next, we find the remainder by 12 - 4 (3), which is 0. This is 12 = 4 (3) + 0.\n",
            "Then, we make the divisor the new dividend and the remainder the new divisor, and repeat until the remainder is 0.\n",
            "The GCD is 3\n",
            "Steps required were 4\n"
          ]
        }
      ]
    },
    {
      "cell_type": "code",
      "source": [
        "def Euclidean_algorithm(a,b):\n",
        "  dividend = a\n",
        "  divisor = b\n",
        "  n = 1\n",
        "  while divisor != 0:\n",
        "    quotient = dividend // divisor\n",
        "    remainder = dividend % divisor\n",
        "    dividend = divisor\n",
        "    divisor = remainder\n",
        "    n = n + 1\n",
        "  print(\"The GCD is {}\".format(dividend))\n",
        "  print(\"Steps required were {}\".format(n-1))"
      ],
      "metadata": {
        "id": "hEBFM4uDKAdo"
      },
      "execution_count": 530,
      "outputs": []
    },
    {
      "cell_type": "code",
      "source": [
        "Euclidean_algorithm(93,66)"
      ],
      "metadata": {
        "id": "XLp_y3O3KUM6",
        "outputId": "9785b9f2-21c7-4fb9-86a9-0e79ff8b4ef1",
        "colab": {
          "base_uri": "https://localhost:8080/"
        }
      },
      "execution_count": 531,
      "outputs": [
        {
          "output_type": "stream",
          "name": "stdout",
          "text": [
            "The GCD is 3\n",
            "Steps required were 4\n"
          ]
        }
      ]
    },
    {
      "cell_type": "markdown",
      "source": [
        "- Here, the steps equal to the size of the input numbers, which I think input numbers means the divisor."
      ],
      "metadata": {
        "id": "bkGGZvjMKjcT"
      }
    },
    {
      "cell_type": "markdown",
      "source": [
        "**3)**\n",
        "- Here, I am guessing I need to make a function that returns $LCM(a,b) = \\frac{ab}{GCD(a,b)}$, which is the code I have below:"
      ],
      "metadata": {
        "id": "PSsHzwbJKhOh"
      }
    },
    {
      "cell_type": "code",
      "source": [
        "def GCD(a,b):\n",
        "    dividend = a\n",
        "    divisor = b\n",
        "    while divisor != 0:\n",
        "        quotient = dividend // divisor\n",
        "        remainder = dividend % divisor\n",
        "        dividend = divisor  \n",
        "        divisor = remainder\n",
        "    return dividend\n",
        "\n",
        "def LCM(a,b):\n",
        "  return int(a * b / GCD(a,b))"
      ],
      "metadata": {
        "id": "amIqDRPbK6sl"
      },
      "execution_count": 591,
      "outputs": []
    },
    {
      "cell_type": "code",
      "source": [
        "LCM(3,8)"
      ],
      "metadata": {
        "id": "LKIwvB_pL_qR",
        "outputId": "ab74522f-5c42-4a30-9332-babc07cd49a3",
        "colab": {
          "base_uri": "https://localhost:8080/"
        }
      },
      "execution_count": 592,
      "outputs": [
        {
          "output_type": "execute_result",
          "data": {
            "text/plain": [
              "24"
            ]
          },
          "metadata": {},
          "execution_count": 592
        }
      ]
    },
    {
      "cell_type": "markdown",
      "source": [
        "**4)**  How does the `GCD(a,b)` function behave when `a` and/or `b` are zero or negative?  Is this good?"
      ],
      "metadata": {
        "id": "abVCQCUvMmDX"
      }
    },
    {
      "cell_type": "code",
      "source": [
        "def GCD(a,b):\n",
        "    dividend = a\n",
        "    divisor = b\n",
        "    while divisor != 0:\n",
        "        quotient = dividend // divisor\n",
        "        remainder = dividend % divisor\n",
        "        dividend = divisor  \n",
        "        divisor = remainder\n",
        "    return dividend"
      ],
      "metadata": {
        "id": "xcaSuMEDMEP1"
      },
      "execution_count": 548,
      "outputs": []
    },
    {
      "cell_type": "code",
      "source": [
        "GCD(-4, 24)"
      ],
      "metadata": {
        "id": "oBLVB6kLMruR",
        "outputId": "990eaa3e-75c0-4f20-c1d3-0f14ebdc25e5",
        "colab": {
          "base_uri": "https://localhost:8080/"
        }
      },
      "execution_count": 595,
      "outputs": [
        {
          "output_type": "execute_result",
          "data": {
            "text/plain": [
              "4"
            ]
          },
          "metadata": {},
          "execution_count": 595
        }
      ]
    },
    {
      "cell_type": "code",
      "source": [
        "def Euclidean_algorithm(a,b):\n",
        "    dividend = a\n",
        "    divisor = b\n",
        "    while divisor != 0:   # Recall that != means \"is not equal to\".\n",
        "        quotient = dividend // divisor\n",
        "        remainder = dividend % divisor\n",
        "        print(\"{} = {} ({}) + {}\".format(dividend, quotient, divisor, remainder))\n",
        "        dividend = divisor  \n",
        "        divisor = remainder"
      ],
      "metadata": {
        "id": "irk1mep_MuUs"
      },
      "execution_count": 597,
      "outputs": []
    },
    {
      "cell_type": "code",
      "source": [
        "Euclidean_algorithm(-4,45)"
      ],
      "metadata": {
        "id": "LKAYyjV-M2m0",
        "outputId": "b9db2ef0-5659-4a34-e836-a45f8be8b86b",
        "colab": {
          "base_uri": "https://localhost:8080/"
        }
      },
      "execution_count": 600,
      "outputs": [
        {
          "output_type": "stream",
          "name": "stdout",
          "text": [
            "-4 = -1 (45) + 41\n",
            "45 = 1 (41) + 4\n",
            "41 = 10 (4) + 1\n",
            "4 = 4 (1) + 0\n"
          ]
        }
      ]
    },
    {
      "cell_type": "code",
      "source": [
        "print(Euclidean_algorithm(5,0))"
      ],
      "metadata": {
        "id": "jZERO8tuM39G",
        "outputId": "94df638e-b19a-4491-bf19-f4e1410e0564",
        "colab": {
          "base_uri": "https://localhost:8080/"
        }
      },
      "execution_count": 602,
      "outputs": [
        {
          "output_type": "stream",
          "name": "stdout",
          "text": [
            "None\n"
          ]
        }
      ]
    },
    {
      "cell_type": "markdown",
      "source": [
        "- `a` and/or `b` being zero or negative is good with the `GCD(a,b)` function. "
      ],
      "metadata": {
        "id": "bH1B3MkHVyyo"
      }
    },
    {
      "cell_type": "markdown",
      "source": [
        "**5)**  Challenge:  Write a function `approximate_e(n)` which approximates $e$ with a maximum error of $10^{-n}$.  (You can assume $n < 1000$ if necessary.)  Try a while loop and `import mpmath`.  Back up your work often!"
      ],
      "metadata": {
        "id": "P6PTtwOfWGid"
      }
    },
    {
      "cell_type": "code",
      "source": [
        "def factorial(n):\n",
        "  m = n\n",
        "  if n > 0:\n",
        "    for i in range(1, n):\n",
        "      m = m * i\n",
        "    return m\n",
        "  elif n == 0:\n",
        "    res = 1\n",
        "    return res\n",
        "  else:\n",
        "    print('undefined')\n",
        "\n",
        "def approximate_e(n):\n",
        "  t = 1\n",
        "  m = 0\n",
        "  y = n\n",
        "  while m < y:\n",
        "    t = t + (1 / factorial(y))\n",
        "    y = y - 1\n",
        "  return t"
      ],
      "metadata": {
        "id": "2hTUkP43XaJS"
      },
      "execution_count": 673,
      "outputs": []
    },
    {
      "cell_type": "code",
      "source": [
        "approximate_e(1000)"
      ],
      "metadata": {
        "id": "N4hoh7RgYS38",
        "outputId": "927551c8-7058-46f0-9b54-754615be2d1b",
        "colab": {
          "base_uri": "https://localhost:8080/"
        }
      },
      "execution_count": 677,
      "outputs": [
        {
          "output_type": "execute_result",
          "data": {
            "text/plain": [
              "2.7182818284590455"
            ]
          },
          "metadata": {},
          "execution_count": 677
        }
      ]
    },
    {
      "cell_type": "markdown",
      "source": [
        "- I didn't use `import mpmath` because I didn't know how I would use that, so I did it like this and it works.\n"
      ],
      "metadata": {
        "id": "Zso-S5SwclyM"
      }
    }
  ]
}